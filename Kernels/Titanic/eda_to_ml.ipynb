{
 "cells": [
  {
   "cell_type": "markdown",
   "metadata": {
    "_cell_guid": "12528ba7-230e-407a-a312-ef8f6ca9a99e",
    "_uuid": "08895c5c643bab33e61205b8340a7ba7b88f8ed2"
   },
   "source": [
    "**This is my first Kaggle for the Titanic competition.**\n",
    "\n",
    "The notebooks explores the basic use of Pandas and scikit-learn for this Classifcation problem.  \n",
    "For more advanced approaches like using Seaborn plots, Feature Engineering, GridSearch CV  \n",
    "and ML models based on stacking and voting have a look at [my second Titanic kernel](https://www.kaggle.com/dejavu23/titanic-survival-my-2nd-titanic-kernel)\n",
    "\n",
    "\n",
    "\n",
    "**My goals for this notebook:**\n",
    "\n",
    "* **[Part 1: Exploratory Data Analysis](#Part-1:-Exploratory-Data-Analysis)**  \n",
    "understand the data by EDA and derive simple models with Pandas as baseline\n",
    "\n",
    "\n",
    "* **[Part 2: Data wrangling](#Part-2:-Data-wrangling)**  \n",
    "fill nan, convert categorical to numerical,  \n",
    "create train and test data for ML algorithms\n",
    "\n",
    "* **[Part 3: Scikit-learn basic ML algorithms](#Part-3:-Scikit-learn-basic-ML-algorithms-and-comparison-of-model-results)**  \n",
    "implement different Classifiers from the sklearn library:  \n",
    "Logistic regression, Gaussian naive Bayes, KNN, Decision tree, Random forest, SVM\n",
    "\n",
    "\n",
    "* **[Part 3: Comparison of Model  results](#Part-3:-Scikit-learn-basic-ML-algorithms-and-comparison-of-model-results)**  \n",
    "use metrics like confusion_matrix, classification_report, accuracy_score  \n",
    "and implement k fold cross validation for comparison of test score\n",
    " \n",
    "\n",
    "**References**  \n",
    "**This notebook has some own approaches but is also based on these tutorials, notebooks and courses:**\n",
    "* **[Datacamp: Kaggle Tutorial: EDA & Machine Learning](https://www.datacamp.com/community/tutorials/kaggle-machine-learning-eda)**\n",
    "* **[Udemy: Python for Data Science and Machine Learning Bootcamp](https://www.udemy.com/python-for-data-science-and-machine-learning-bootcamp/)**\n",
    "* **[Data School: Machine learning in Python with scikit-learn](https://www.youtube.com/playlist?list=PL5-da3qGB5ICeMbQuqbbCOQWcS6OYBr5A)**\n",
    "\n",
    "    \n"
   ]
  },
  {
   "cell_type": "markdown",
   "metadata": {
    "_cell_guid": "e4a1cf77-b695-4ca0-9653-6c41ce2393d8",
    "_uuid": "ca91678a9dc8cc103a7fbf799a5d903a011334ef"
   },
   "source": [
    "## Some Background Information\n",
    "\n",
    "\n",
    "**The sinking of the RMS Titanic in the early morning of 15 April 1912, four days into the ship's maiden voyage from Southampton to New York City, was one of the deadliest peacetime maritime disasters in history, killing more than 1,500 people. The largest passenger liner in service at the time, Titanic had an estimated 2,224 people on board when she struck an iceberg in the North Atlantic. The ship had received six warnings of sea ice but was travelling at near maximum speed when the lookouts sighted the iceberg. Unable to turn quickly enough, the ship suffered a glancing blow that buckled the starboard (right) side and opened five of sixteen compartments to the sea. The disaster caused widespread outrage over the lack of lifeboats, lax regulations, and the unequal treatment of the three passenger classes during the evacuation. Inquiries recommended sweeping changes to maritime regulations, leading to the International Convention for the Safety of Life at Sea (1914), which continues to govern maritime safety.**  \n",
    "*from Wikipedia*"
   ]
  },
  {
   "cell_type": "markdown",
   "metadata": {
    "_cell_guid": "998b2a03-c60e-4fd6-9f69-784de6e6c9b8",
    "_uuid": "d3086cb02907affe5a674b54e4baaedd632482c7"
   },
   "source": [
    "**Imports**"
   ]
  },
  {
   "cell_type": "code",
   "execution_count": 1,
   "metadata": {
    "_cell_guid": "872b97b2-56fe-4644-a11f-afb00f422169",
    "_uuid": "efb595c75201cdb2a53388dc152a8e526e1b921a"
   },
   "outputs": [
    {
     "name": "stdout",
     "output_type": "stream",
     "text": [
      "gender_submission.csv\n",
      "test.csv\n",
      "train.csv\n",
      "\n"
     ]
    }
   ],
   "source": [
    "import numpy as np\n",
    "import pandas as pd\n",
    "import matplotlib.pyplot as plt\n",
    "import seaborn as sns\n",
    "%matplotlib inline\n",
    "sns.set()\n",
    "\n",
    "import warnings\n",
    "warnings.filterwarnings(\"ignore\", category=FutureWarning)\n",
    "#warnings.filterwarnings(\"ignore\", category=DeprecationWarning)\n",
    "#warnings.filterwarnings(\"ignore\")\n",
    "\n",
    "from subprocess import check_output\n",
    "print(check_output([\"ls\", \"../input\"]).decode(\"utf8\"))\n"
   ]
  },
  {
   "cell_type": "code",
   "execution_count": 2,
   "metadata": {
    "_uuid": "0dabb93c5c6480e69cbc93616932445e614f506f"
   },
   "outputs": [
    {
     "data": {
      "text/plain": [
       "'0.9.0'"
      ]
     },
     "execution_count": 2,
     "metadata": {},
     "output_type": "execute_result"
    }
   ],
   "source": [
    "sns.__version__"
   ]
  },
  {
   "cell_type": "code",
   "execution_count": 3,
   "metadata": {
    "_cell_guid": "080fb327-390d-4124-b287-a561d050fe7e",
    "_uuid": "0333d5086a63e3870708e7ba7a540d036c53544e"
   },
   "outputs": [],
   "source": [
    "df_train = pd.read_csv(\"../input/train.csv\")\n",
    "df_test = pd.read_csv(\"../input/test.csv\")\n"
   ]
  },
  {
   "cell_type": "markdown",
   "metadata": {
    "_cell_guid": "6c7d2500-95b1-4057-98f7-39100e8a6d7f",
    "_uuid": "13fd8422db7a1ceae9ebb002df452e8293a9ab0c"
   },
   "source": [
    "## Part 1: Exploratory Data Analysis"
   ]
  },
  {
   "cell_type": "code",
   "execution_count": 4,
   "metadata": {
    "_cell_guid": "17a3c0a2-3aad-47f4-be6f-e8756bddf080",
    "_uuid": "48a2091edbeacc9c23dad6bc0c64d0302d01b87b"
   },
   "outputs": [
    {
     "data": {
      "text/html": [
       "<div>\n",
       "<style scoped>\n",
       "    .dataframe tbody tr th:only-of-type {\n",
       "        vertical-align: middle;\n",
       "    }\n",
       "\n",
       "    .dataframe tbody tr th {\n",
       "        vertical-align: top;\n",
       "    }\n",
       "\n",
       "    .dataframe thead th {\n",
       "        text-align: right;\n",
       "    }\n",
       "</style>\n",
       "<table border=\"1\" class=\"dataframe\">\n",
       "  <thead>\n",
       "    <tr style=\"text-align: right;\">\n",
       "      <th></th>\n",
       "      <th>PassengerId</th>\n",
       "      <th>Survived</th>\n",
       "      <th>Pclass</th>\n",
       "      <th>Name</th>\n",
       "      <th>Sex</th>\n",
       "      <th>Age</th>\n",
       "      <th>SibSp</th>\n",
       "      <th>Parch</th>\n",
       "      <th>Ticket</th>\n",
       "      <th>Fare</th>\n",
       "      <th>Cabin</th>\n",
       "      <th>Embarked</th>\n",
       "    </tr>\n",
       "  </thead>\n",
       "  <tbody>\n",
       "    <tr>\n",
       "      <th>0</th>\n",
       "      <td>1</td>\n",
       "      <td>0</td>\n",
       "      <td>3</td>\n",
       "      <td>Braund, Mr. Owen Harris</td>\n",
       "      <td>male</td>\n",
       "      <td>22.0</td>\n",
       "      <td>1</td>\n",
       "      <td>0</td>\n",
       "      <td>A/5 21171</td>\n",
       "      <td>7.2500</td>\n",
       "      <td>NaN</td>\n",
       "      <td>S</td>\n",
       "    </tr>\n",
       "    <tr>\n",
       "      <th>1</th>\n",
       "      <td>2</td>\n",
       "      <td>1</td>\n",
       "      <td>1</td>\n",
       "      <td>Cumings, Mrs. John Bradley (Florence Briggs Th...</td>\n",
       "      <td>female</td>\n",
       "      <td>38.0</td>\n",
       "      <td>1</td>\n",
       "      <td>0</td>\n",
       "      <td>PC 17599</td>\n",
       "      <td>71.2833</td>\n",
       "      <td>C85</td>\n",
       "      <td>C</td>\n",
       "    </tr>\n",
       "    <tr>\n",
       "      <th>2</th>\n",
       "      <td>3</td>\n",
       "      <td>1</td>\n",
       "      <td>3</td>\n",
       "      <td>Heikkinen, Miss. Laina</td>\n",
       "      <td>female</td>\n",
       "      <td>26.0</td>\n",
       "      <td>0</td>\n",
       "      <td>0</td>\n",
       "      <td>STON/O2. 3101282</td>\n",
       "      <td>7.9250</td>\n",
       "      <td>NaN</td>\n",
       "      <td>S</td>\n",
       "    </tr>\n",
       "    <tr>\n",
       "      <th>3</th>\n",
       "      <td>4</td>\n",
       "      <td>1</td>\n",
       "      <td>1</td>\n",
       "      <td>Futrelle, Mrs. Jacques Heath (Lily May Peel)</td>\n",
       "      <td>female</td>\n",
       "      <td>35.0</td>\n",
       "      <td>1</td>\n",
       "      <td>0</td>\n",
       "      <td>113803</td>\n",
       "      <td>53.1000</td>\n",
       "      <td>C123</td>\n",
       "      <td>S</td>\n",
       "    </tr>\n",
       "    <tr>\n",
       "      <th>4</th>\n",
       "      <td>5</td>\n",
       "      <td>0</td>\n",
       "      <td>3</td>\n",
       "      <td>Allen, Mr. William Henry</td>\n",
       "      <td>male</td>\n",
       "      <td>35.0</td>\n",
       "      <td>0</td>\n",
       "      <td>0</td>\n",
       "      <td>373450</td>\n",
       "      <td>8.0500</td>\n",
       "      <td>NaN</td>\n",
       "      <td>S</td>\n",
       "    </tr>\n",
       "  </tbody>\n",
       "</table>\n",
       "</div>"
      ],
      "text/plain": [
       "   PassengerId  Survived  Pclass    ...        Fare Cabin  Embarked\n",
       "0            1         0       3    ...      7.2500   NaN         S\n",
       "1            2         1       1    ...     71.2833   C85         C\n",
       "2            3         1       3    ...      7.9250   NaN         S\n",
       "3            4         1       1    ...     53.1000  C123         S\n",
       "4            5         0       3    ...      8.0500   NaN         S\n",
       "\n",
       "[5 rows x 12 columns]"
      ]
     },
     "execution_count": 4,
     "metadata": {},
     "output_type": "execute_result"
    }
   ],
   "source": [
    "df_train.head()"
   ]
  },
  {
   "cell_type": "markdown",
   "metadata": {
    "_cell_guid": "4e0c12ed-f9a7-4a2d-b33c-8e139c6387d1",
    "_uuid": "5f7bf32c6766cffd95125d01d24ccb7204611f45"
   },
   "source": [
    "df_train has 891 entries, some values for Cabin and Age are missing"
   ]
  },
  {
   "cell_type": "code",
   "execution_count": 5,
   "metadata": {
    "_cell_guid": "60e47bc5-0749-41ee-979e-58ba2e1d5ce8",
    "_uuid": "d3edd77b588d7589154499820fa571a5d7b62035"
   },
   "outputs": [
    {
     "name": "stdout",
     "output_type": "stream",
     "text": [
      "<class 'pandas.core.frame.DataFrame'>\n",
      "RangeIndex: 891 entries, 0 to 890\n",
      "Data columns (total 12 columns):\n",
      "PassengerId    891 non-null int64\n",
      "Survived       891 non-null int64\n",
      "Pclass         891 non-null int64\n",
      "Name           891 non-null object\n",
      "Sex            891 non-null object\n",
      "Age            714 non-null float64\n",
      "SibSp          891 non-null int64\n",
      "Parch          891 non-null int64\n",
      "Ticket         891 non-null object\n",
      "Fare           891 non-null float64\n",
      "Cabin          204 non-null object\n",
      "Embarked       889 non-null object\n",
      "dtypes: float64(2), int64(5), object(5)\n",
      "memory usage: 83.6+ KB\n"
     ]
    }
   ],
   "source": [
    "df_train.info()"
   ]
  },
  {
   "cell_type": "code",
   "execution_count": 6,
   "metadata": {
    "_cell_guid": "cf04a11c-fada-476a-bf82-437f8f302ca6",
    "_uuid": "e3c717b8911229098b77175804a0c05c4e8b5828"
   },
   "outputs": [
    {
     "data": {
      "text/html": [
       "<div>\n",
       "<style scoped>\n",
       "    .dataframe tbody tr th:only-of-type {\n",
       "        vertical-align: middle;\n",
       "    }\n",
       "\n",
       "    .dataframe tbody tr th {\n",
       "        vertical-align: top;\n",
       "    }\n",
       "\n",
       "    .dataframe thead th {\n",
       "        text-align: right;\n",
       "    }\n",
       "</style>\n",
       "<table border=\"1\" class=\"dataframe\">\n",
       "  <thead>\n",
       "    <tr style=\"text-align: right;\">\n",
       "      <th></th>\n",
       "      <th>PassengerId</th>\n",
       "      <th>Pclass</th>\n",
       "      <th>Name</th>\n",
       "      <th>Sex</th>\n",
       "      <th>Age</th>\n",
       "      <th>SibSp</th>\n",
       "      <th>Parch</th>\n",
       "      <th>Ticket</th>\n",
       "      <th>Fare</th>\n",
       "      <th>Cabin</th>\n",
       "      <th>Embarked</th>\n",
       "    </tr>\n",
       "  </thead>\n",
       "  <tbody>\n",
       "    <tr>\n",
       "      <th>0</th>\n",
       "      <td>892</td>\n",
       "      <td>3</td>\n",
       "      <td>Kelly, Mr. James</td>\n",
       "      <td>male</td>\n",
       "      <td>34.5</td>\n",
       "      <td>0</td>\n",
       "      <td>0</td>\n",
       "      <td>330911</td>\n",
       "      <td>7.8292</td>\n",
       "      <td>NaN</td>\n",
       "      <td>Q</td>\n",
       "    </tr>\n",
       "    <tr>\n",
       "      <th>1</th>\n",
       "      <td>893</td>\n",
       "      <td>3</td>\n",
       "      <td>Wilkes, Mrs. James (Ellen Needs)</td>\n",
       "      <td>female</td>\n",
       "      <td>47.0</td>\n",
       "      <td>1</td>\n",
       "      <td>0</td>\n",
       "      <td>363272</td>\n",
       "      <td>7.0000</td>\n",
       "      <td>NaN</td>\n",
       "      <td>S</td>\n",
       "    </tr>\n",
       "    <tr>\n",
       "      <th>2</th>\n",
       "      <td>894</td>\n",
       "      <td>2</td>\n",
       "      <td>Myles, Mr. Thomas Francis</td>\n",
       "      <td>male</td>\n",
       "      <td>62.0</td>\n",
       "      <td>0</td>\n",
       "      <td>0</td>\n",
       "      <td>240276</td>\n",
       "      <td>9.6875</td>\n",
       "      <td>NaN</td>\n",
       "      <td>Q</td>\n",
       "    </tr>\n",
       "    <tr>\n",
       "      <th>3</th>\n",
       "      <td>895</td>\n",
       "      <td>3</td>\n",
       "      <td>Wirz, Mr. Albert</td>\n",
       "      <td>male</td>\n",
       "      <td>27.0</td>\n",
       "      <td>0</td>\n",
       "      <td>0</td>\n",
       "      <td>315154</td>\n",
       "      <td>8.6625</td>\n",
       "      <td>NaN</td>\n",
       "      <td>S</td>\n",
       "    </tr>\n",
       "    <tr>\n",
       "      <th>4</th>\n",
       "      <td>896</td>\n",
       "      <td>3</td>\n",
       "      <td>Hirvonen, Mrs. Alexander (Helga E Lindqvist)</td>\n",
       "      <td>female</td>\n",
       "      <td>22.0</td>\n",
       "      <td>1</td>\n",
       "      <td>1</td>\n",
       "      <td>3101298</td>\n",
       "      <td>12.2875</td>\n",
       "      <td>NaN</td>\n",
       "      <td>S</td>\n",
       "    </tr>\n",
       "  </tbody>\n",
       "</table>\n",
       "</div>"
      ],
      "text/plain": [
       "   PassengerId  Pclass   ...    Cabin Embarked\n",
       "0          892       3   ...      NaN        Q\n",
       "1          893       3   ...      NaN        S\n",
       "2          894       2   ...      NaN        Q\n",
       "3          895       3   ...      NaN        S\n",
       "4          896       3   ...      NaN        S\n",
       "\n",
       "[5 rows x 11 columns]"
      ]
     },
     "execution_count": 6,
     "metadata": {},
     "output_type": "execute_result"
    }
   ],
   "source": [
    "df_test.head()"
   ]
  },
  {
   "cell_type": "code",
   "execution_count": 7,
   "metadata": {
    "_cell_guid": "f0e70763-8b81-401a-92fe-f195ef37b4bc",
    "_uuid": "5d34539fd29d18787e98dfae48ac154efd73d55a"
   },
   "outputs": [
    {
     "name": "stdout",
     "output_type": "stream",
     "text": [
      "<class 'pandas.core.frame.DataFrame'>\n",
      "RangeIndex: 418 entries, 0 to 417\n",
      "Data columns (total 11 columns):\n",
      "PassengerId    418 non-null int64\n",
      "Pclass         418 non-null int64\n",
      "Name           418 non-null object\n",
      "Sex            418 non-null object\n",
      "Age            332 non-null float64\n",
      "SibSp          418 non-null int64\n",
      "Parch          418 non-null int64\n",
      "Ticket         418 non-null object\n",
      "Fare           417 non-null float64\n",
      "Cabin          91 non-null object\n",
      "Embarked       418 non-null object\n",
      "dtypes: float64(2), int64(4), object(5)\n",
      "memory usage: 36.0+ KB\n"
     ]
    }
   ],
   "source": [
    "df_test.info()"
   ]
  },
  {
   "cell_type": "markdown",
   "metadata": {
    "_cell_guid": "bb18628a-d896-4907-9761-aab93999b0b6",
    "_uuid": "b6062b11e45d9f45663bcdbb136eb2a4aa525742"
   },
   "source": [
    "Also in df_test some values for Age and many values for Cabin are missing"
   ]
  },
  {
   "cell_type": "code",
   "execution_count": 8,
   "metadata": {
    "_cell_guid": "0e3973cb-3dee-4dab-9c7f-f4902f62c360",
    "_uuid": "b0c4e63035e9517722d8dbf8b2bc984410456181"
   },
   "outputs": [
    {
     "data": {
      "text/html": [
       "<div>\n",
       "<style scoped>\n",
       "    .dataframe tbody tr th:only-of-type {\n",
       "        vertical-align: middle;\n",
       "    }\n",
       "\n",
       "    .dataframe tbody tr th {\n",
       "        vertical-align: top;\n",
       "    }\n",
       "\n",
       "    .dataframe thead th {\n",
       "        text-align: right;\n",
       "    }\n",
       "</style>\n",
       "<table border=\"1\" class=\"dataframe\">\n",
       "  <thead>\n",
       "    <tr style=\"text-align: right;\">\n",
       "      <th></th>\n",
       "      <th>PassengerId</th>\n",
       "      <th>Survived</th>\n",
       "      <th>Pclass</th>\n",
       "      <th>Age</th>\n",
       "      <th>SibSp</th>\n",
       "      <th>Parch</th>\n",
       "      <th>Fare</th>\n",
       "    </tr>\n",
       "  </thead>\n",
       "  <tbody>\n",
       "    <tr>\n",
       "      <th>count</th>\n",
       "      <td>891.000000</td>\n",
       "      <td>891.000000</td>\n",
       "      <td>891.000000</td>\n",
       "      <td>714.000000</td>\n",
       "      <td>891.000000</td>\n",
       "      <td>891.000000</td>\n",
       "      <td>891.000000</td>\n",
       "    </tr>\n",
       "    <tr>\n",
       "      <th>mean</th>\n",
       "      <td>446.000000</td>\n",
       "      <td>0.383838</td>\n",
       "      <td>2.308642</td>\n",
       "      <td>29.699118</td>\n",
       "      <td>0.523008</td>\n",
       "      <td>0.381594</td>\n",
       "      <td>32.204208</td>\n",
       "    </tr>\n",
       "    <tr>\n",
       "      <th>std</th>\n",
       "      <td>257.353842</td>\n",
       "      <td>0.486592</td>\n",
       "      <td>0.836071</td>\n",
       "      <td>14.526497</td>\n",
       "      <td>1.102743</td>\n",
       "      <td>0.806057</td>\n",
       "      <td>49.693429</td>\n",
       "    </tr>\n",
       "    <tr>\n",
       "      <th>min</th>\n",
       "      <td>1.000000</td>\n",
       "      <td>0.000000</td>\n",
       "      <td>1.000000</td>\n",
       "      <td>0.420000</td>\n",
       "      <td>0.000000</td>\n",
       "      <td>0.000000</td>\n",
       "      <td>0.000000</td>\n",
       "    </tr>\n",
       "    <tr>\n",
       "      <th>25%</th>\n",
       "      <td>223.500000</td>\n",
       "      <td>0.000000</td>\n",
       "      <td>2.000000</td>\n",
       "      <td>20.125000</td>\n",
       "      <td>0.000000</td>\n",
       "      <td>0.000000</td>\n",
       "      <td>7.910400</td>\n",
       "    </tr>\n",
       "    <tr>\n",
       "      <th>50%</th>\n",
       "      <td>446.000000</td>\n",
       "      <td>0.000000</td>\n",
       "      <td>3.000000</td>\n",
       "      <td>28.000000</td>\n",
       "      <td>0.000000</td>\n",
       "      <td>0.000000</td>\n",
       "      <td>14.454200</td>\n",
       "    </tr>\n",
       "    <tr>\n",
       "      <th>75%</th>\n",
       "      <td>668.500000</td>\n",
       "      <td>1.000000</td>\n",
       "      <td>3.000000</td>\n",
       "      <td>38.000000</td>\n",
       "      <td>1.000000</td>\n",
       "      <td>0.000000</td>\n",
       "      <td>31.000000</td>\n",
       "    </tr>\n",
       "    <tr>\n",
       "      <th>max</th>\n",
       "      <td>891.000000</td>\n",
       "      <td>1.000000</td>\n",
       "      <td>3.000000</td>\n",
       "      <td>80.000000</td>\n",
       "      <td>8.000000</td>\n",
       "      <td>6.000000</td>\n",
       "      <td>512.329200</td>\n",
       "    </tr>\n",
       "  </tbody>\n",
       "</table>\n",
       "</div>"
      ],
      "text/plain": [
       "       PassengerId    Survived     ...           Parch        Fare\n",
       "count   891.000000  891.000000     ...      891.000000  891.000000\n",
       "mean    446.000000    0.383838     ...        0.381594   32.204208\n",
       "std     257.353842    0.486592     ...        0.806057   49.693429\n",
       "min       1.000000    0.000000     ...        0.000000    0.000000\n",
       "25%     223.500000    0.000000     ...        0.000000    7.910400\n",
       "50%     446.000000    0.000000     ...        0.000000   14.454200\n",
       "75%     668.500000    1.000000     ...        0.000000   31.000000\n",
       "max     891.000000    1.000000     ...        6.000000  512.329200\n",
       "\n",
       "[8 rows x 7 columns]"
      ]
     },
     "execution_count": 8,
     "metadata": {},
     "output_type": "execute_result"
    }
   ],
   "source": [
    "df_train.describe()"
   ]
  },
  {
   "cell_type": "markdown",
   "metadata": {
    "_cell_guid": "e0e5b43e-3949-420e-960f-697abbec91fb",
    "_uuid": "10e0b721ca4d05176207e5bfaab3932555271f2b"
   },
   "source": [
    "Comparing distribution of features in df_train and df_test, Pclass and Age seem very similar, distributions for SibSo, Parch and Fare only slightly different"
   ]
  },
  {
   "cell_type": "code",
   "execution_count": 9,
   "metadata": {
    "_cell_guid": "0dc4a65f-3460-4fa0-8d0a-0649b679ed01",
    "_uuid": "485bc69da85d5596708f385ca477783581df5231"
   },
   "outputs": [
    {
     "data": {
      "text/html": [
       "<div>\n",
       "<style scoped>\n",
       "    .dataframe tbody tr th:only-of-type {\n",
       "        vertical-align: middle;\n",
       "    }\n",
       "\n",
       "    .dataframe tbody tr th {\n",
       "        vertical-align: top;\n",
       "    }\n",
       "\n",
       "    .dataframe thead th {\n",
       "        text-align: right;\n",
       "    }\n",
       "</style>\n",
       "<table border=\"1\" class=\"dataframe\">\n",
       "  <thead>\n",
       "    <tr style=\"text-align: right;\">\n",
       "      <th></th>\n",
       "      <th>PassengerId</th>\n",
       "      <th>Pclass</th>\n",
       "      <th>Age</th>\n",
       "      <th>SibSp</th>\n",
       "      <th>Parch</th>\n",
       "      <th>Fare</th>\n",
       "    </tr>\n",
       "  </thead>\n",
       "  <tbody>\n",
       "    <tr>\n",
       "      <th>count</th>\n",
       "      <td>418.000000</td>\n",
       "      <td>418.000000</td>\n",
       "      <td>332.000000</td>\n",
       "      <td>418.000000</td>\n",
       "      <td>418.000000</td>\n",
       "      <td>417.000000</td>\n",
       "    </tr>\n",
       "    <tr>\n",
       "      <th>mean</th>\n",
       "      <td>1100.500000</td>\n",
       "      <td>2.265550</td>\n",
       "      <td>30.272590</td>\n",
       "      <td>0.447368</td>\n",
       "      <td>0.392344</td>\n",
       "      <td>35.627188</td>\n",
       "    </tr>\n",
       "    <tr>\n",
       "      <th>std</th>\n",
       "      <td>120.810458</td>\n",
       "      <td>0.841838</td>\n",
       "      <td>14.181209</td>\n",
       "      <td>0.896760</td>\n",
       "      <td>0.981429</td>\n",
       "      <td>55.907576</td>\n",
       "    </tr>\n",
       "    <tr>\n",
       "      <th>min</th>\n",
       "      <td>892.000000</td>\n",
       "      <td>1.000000</td>\n",
       "      <td>0.170000</td>\n",
       "      <td>0.000000</td>\n",
       "      <td>0.000000</td>\n",
       "      <td>0.000000</td>\n",
       "    </tr>\n",
       "    <tr>\n",
       "      <th>25%</th>\n",
       "      <td>996.250000</td>\n",
       "      <td>1.000000</td>\n",
       "      <td>21.000000</td>\n",
       "      <td>0.000000</td>\n",
       "      <td>0.000000</td>\n",
       "      <td>7.895800</td>\n",
       "    </tr>\n",
       "    <tr>\n",
       "      <th>50%</th>\n",
       "      <td>1100.500000</td>\n",
       "      <td>3.000000</td>\n",
       "      <td>27.000000</td>\n",
       "      <td>0.000000</td>\n",
       "      <td>0.000000</td>\n",
       "      <td>14.454200</td>\n",
       "    </tr>\n",
       "    <tr>\n",
       "      <th>75%</th>\n",
       "      <td>1204.750000</td>\n",
       "      <td>3.000000</td>\n",
       "      <td>39.000000</td>\n",
       "      <td>1.000000</td>\n",
       "      <td>0.000000</td>\n",
       "      <td>31.500000</td>\n",
       "    </tr>\n",
       "    <tr>\n",
       "      <th>max</th>\n",
       "      <td>1309.000000</td>\n",
       "      <td>3.000000</td>\n",
       "      <td>76.000000</td>\n",
       "      <td>8.000000</td>\n",
       "      <td>9.000000</td>\n",
       "      <td>512.329200</td>\n",
       "    </tr>\n",
       "  </tbody>\n",
       "</table>\n",
       "</div>"
      ],
      "text/plain": [
       "       PassengerId      Pclass     ...           Parch        Fare\n",
       "count   418.000000  418.000000     ...      418.000000  417.000000\n",
       "mean   1100.500000    2.265550     ...        0.392344   35.627188\n",
       "std     120.810458    0.841838     ...        0.981429   55.907576\n",
       "min     892.000000    1.000000     ...        0.000000    0.000000\n",
       "25%     996.250000    1.000000     ...        0.000000    7.895800\n",
       "50%    1100.500000    3.000000     ...        0.000000   14.454200\n",
       "75%    1204.750000    3.000000     ...        0.000000   31.500000\n",
       "max    1309.000000    3.000000     ...        9.000000  512.329200\n",
       "\n",
       "[8 rows x 6 columns]"
      ]
     },
     "execution_count": 9,
     "metadata": {},
     "output_type": "execute_result"
    }
   ],
   "source": [
    "df_test.describe()"
   ]
  },
  {
   "cell_type": "markdown",
   "metadata": {
    "_cell_guid": "94c7f3de-746d-44cb-9a9d-43f32527948c",
    "_uuid": "20287febf1b25ddf9eccfbb88e363bdb80f3d958"
   },
   "source": [
    "**Of all passengers in df_train, how many survived, how many died ?** "
   ]
  },
  {
   "cell_type": "code",
   "execution_count": 10,
   "metadata": {
    "_cell_guid": "d2bd2723-3a68-4e94-a629-7a0fca99cb2a",
    "_uuid": "3fe99f565401dae73cfecd3fb2cf8dc201119b36"
   },
   "outputs": [
    {
     "data": {
      "image/png": "[encoded data removed]",
      "text/plain": [
       "<Figure size 432x288 with 1 Axes>"
      ]
     },
     "metadata": {},
     "output_type": "display_data"
    }
   ],
   "source": [
    "sns.countplot(x='Survived', data=df_train);"
   ]
  },
  {
   "cell_type": "code",
   "execution_count": 11,
   "metadata": {
    "_cell_guid": "b6aabfa1-fd1b-4ad5-9f95-14a7a703d7ee",
    "_uuid": "26277b12d89958ad5d03a8636786b920c7d4ba08"
   },
   "outputs": [
    {
     "name": "stdout",
     "output_type": "stream",
     "text": [
      "0.3838383838383838\n"
     ]
    }
   ],
   "source": [
    "print(df_train.Survived.sum()/df_train.Survived.count())"
   ]
  },
  {
   "cell_type": "markdown",
   "metadata": {
    "_cell_guid": "1babbbf7-085d-4141-b29a-f9fd8f388e46",
    "_uuid": "efa6e3dbb66ca31c8aa1a2e4ec934c00bbf2e411"
   },
   "source": [
    "more people died than survived (38% survived)\n",
    "\n",
    "-> base model : no survivors\n",
    "\n",
    "submission : 0.627 accuracy"
   ]
  },
  {
   "cell_type": "markdown",
   "metadata": {
    "_uuid": "4d22aef19faa0e9754f27ef26f3b31ec2099f54c"
   },
   "source": [
    "**Uncomment  if you want to check this submission**"
   ]
  },
  {
   "cell_type": "code",
   "execution_count": 12,
   "metadata": {
    "_cell_guid": "c830a8ca-2bb1-496c-807a-c9913dd5d3f2",
    "_uuid": "8b4ce14f870115759569ca8d8e60c71907fe2095"
   },
   "outputs": [],
   "source": [
    "#df_test['Survived'] = 0\n",
    "#df_test[['PassengerId', 'Survived']].to_csv('no_survivors.csv', index=False)"
   ]
  },
  {
   "cell_type": "code",
   "execution_count": 13,
   "metadata": {
    "_uuid": "b43c39397eef7815b8d6d7308750e83c171e0e1c"
   },
   "outputs": [],
   "source": []
  },
  {
   "cell_type": "markdown",
   "metadata": {
    "_cell_guid": "d9cd643d-14a4-43e6-8eeb-53fca5e2ffb1",
    "_uuid": "fdc97f58b646df5993d1e90ff28abfa2b41b1425"
   },
   "source": [
    "**Sex: Female more likely to survive than male**"
   ]
  },
  {
   "cell_type": "code",
   "execution_count": 13,
   "metadata": {
    "_cell_guid": "d6dd2033-80b8-44c6-8d91-95a7353552fd",
    "_uuid": "1b7ef6637506ba053434c3e0b0b3f0bc0cf4d01d"
   },
   "outputs": [
    {
     "data": {
      "text/plain": [
       "Survived  Sex   \n",
       "0         female     81\n",
       "          male      468\n",
       "1         female    233\n",
       "          male      109\n",
       "Name: Survived, dtype: int64"
      ]
     },
     "execution_count": 13,
     "metadata": {},
     "output_type": "execute_result"
    }
   ],
   "source": [
    "df_train.groupby(['Survived','Sex'])['Survived'].count()"
   ]
  },
  {
   "cell_type": "code",
   "execution_count": 14,
   "metadata": {
    "_cell_guid": "b1f97218-9ef5-43b3-b946-e067827a6693",
    "_uuid": "1e13eaa5a0070378fc59f3a87c3862b1eb0a804a"
   },
   "outputs": [
    {
     "data": {
      "image/png": "[encoded data removed]",
      "text/plain": [
       "<Figure size 720x360 with 2 Axes>"
      ]
     },
     "metadata": {},
     "output_type": "display_data"
    }
   ],
   "source": [
    "sns.catplot(x='Sex', col='Survived', kind='count', data=df_train);"
   ]
  },
  {
   "cell_type": "code",
   "execution_count": 15,
   "metadata": {
    "_cell_guid": "4a6f8e4e-c58f-4f6f-9287-9f9a741431da",
    "_uuid": "11444fc10bb62ac315a6ab2114b9ff54dde3d45e"
   },
   "outputs": [
    {
     "name": "stdout",
     "output_type": "stream",
     "text": [
      "% of women survived:  0.7420382165605095\n",
      "% of men survived:    0.18890814558058924\n"
     ]
    }
   ],
   "source": [
    "print(\"% of women survived: \" , df_train[df_train.Sex == 'female'].Survived.sum()/df_train[df_train.Sex == 'female'].Survived.count())\n",
    "print(\"% of men survived:   \" , df_train[df_train.Sex == 'male'].Survived.sum()/df_train[df_train.Sex == 'male'].Survived.count())"
   ]
  },
  {
   "cell_type": "code",
   "execution_count": 16,
   "metadata": {
    "_cell_guid": "fbbf541c-ae16-4f7e-a462-fdd6f9898440",
    "_uuid": "3994bc6102c107006edc0854ea7663eea2c030d2"
   },
   "outputs": [
    {
     "data": {
      "image/png": "[encoded data removed]",
      "text/plain": [
       "<Figure size 1152x504 with 2 Axes>"
      ]
     },
     "metadata": {},
     "output_type": "display_data"
    }
   ],
   "source": [
    "f,ax=plt.subplots(1,2,figsize=(16,7))\n",
    "df_train['Survived'][df_train['Sex']=='male'].value_counts().plot.pie(explode=[0,0.2],autopct='%1.1f%%',ax=ax[0],shadow=True)\n",
    "df_train['Survived'][df_train['Sex']=='female'].value_counts().plot.pie(explode=[0,0.2],autopct='%1.1f%%',ax=ax[1],shadow=True)\n",
    "ax[0].set_title('Survived (male)')\n",
    "ax[1].set_title('Survived (female)')\n",
    "\n",
    "plt.show()"
   ]
  },
  {
   "cell_type": "markdown",
   "metadata": {
    "_cell_guid": "ff42aba4-3b8d-4e63-a086-9f6bcc82c0ae",
    "_uuid": "76959c99bc83db9fc2896d3c7cea2eeef8ec4527"
   },
   "source": [
    "Women were more likely to survive than men \n",
    "\n",
    "74 % of women survived\n",
    "but only 19% of men\n",
    "(in training set)\n",
    "\n",
    "-> second model :\n",
    "all women survived and all men died\n",
    "\n",
    "submission : 0.766 accuracy\n"
   ]
  },
  {
   "cell_type": "markdown",
   "metadata": {
    "_uuid": "0ecbd7c1fb7a7f8facb218dc6abd1ac238e4bf68"
   },
   "source": [
    "**Uncomment  if you want to check this submission**"
   ]
  },
  {
   "cell_type": "code",
   "execution_count": 17,
   "metadata": {
    "_cell_guid": "b879916b-19c7-48cf-a4ba-905f123e96f8",
    "_uuid": "5a2d99bfb866df607fcf7d598d30d11815e1a9a2"
   },
   "outputs": [],
   "source": [
    "#df_test['Survived'] = df_test.Sex == 'female'\n",
    "#df_test['Survived'] = df_test.Survived.apply(lambda x: int(x))\n",
    "#df_test[['PassengerId', 'Survived']].to_csv('women_survive.csv', index=False)"
   ]
  },
  {
   "cell_type": "markdown",
   "metadata": {
    "_cell_guid": "91aabc83-9f92-4e59-936c-e90fdddb0160",
    "_uuid": "0bb33fe29a3977709a691c74fea426010d120a3c"
   },
   "source": [
    "**Passenger Class : Survival rate decreases with Pclass**"
   ]
  },
  {
   "cell_type": "code",
   "execution_count": 18,
   "metadata": {
    "_cell_guid": "b7182fb8-22cf-4adc-aebb-fb5842a753d6",
    "_uuid": "b48eb33382fbc5ee059c5c851fac9cf010858508"
   },
   "outputs": [
    {
     "data": {
      "text/html": [
       "<style  type=\"text/css\" >\n",
       "    #T_b5f703ca_7704_11e9_911c_0242ac130002row0_col0 {\n",
       "            background-color:  #ffff00;\n",
       "        }    #T_b5f703ca_7704_11e9_911c_0242ac130002row0_col1 {\n",
       "            background-color:  #ffce00;\n",
       "        }    #T_b5f703ca_7704_11e9_911c_0242ac130002row0_col2 {\n",
       "            background-color:  #fff400;\n",
       "        }    #T_b5f703ca_7704_11e9_911c_0242ac130002row1_col0 {\n",
       "            background-color:  #fff600;\n",
       "        }    #T_b5f703ca_7704_11e9_911c_0242ac130002row1_col1 {\n",
       "            background-color:  #ffff00;\n",
       "        }    #T_b5f703ca_7704_11e9_911c_0242ac130002row1_col2 {\n",
       "            background-color:  #ffff00;\n",
       "        }    #T_b5f703ca_7704_11e9_911c_0242ac130002row2_col0 {\n",
       "            background-color:  #ff6000;\n",
       "        }    #T_b5f703ca_7704_11e9_911c_0242ac130002row2_col1 {\n",
       "            background-color:  #ffdf00;\n",
       "        }    #T_b5f703ca_7704_11e9_911c_0242ac130002row2_col2 {\n",
       "            background-color:  #ff9000;\n",
       "        }    #T_b5f703ca_7704_11e9_911c_0242ac130002row3_col0 {\n",
       "            background-color:  #ff0000;\n",
       "        }    #T_b5f703ca_7704_11e9_911c_0242ac130002row3_col1 {\n",
       "            background-color:  #ff0000;\n",
       "        }    #T_b5f703ca_7704_11e9_911c_0242ac130002row3_col2 {\n",
       "            background-color:  #ff0000;\n",
       "        }</style>  \n",
       "<table id=\"T_b5f703ca_7704_11e9_911c_0242ac130002\" > \n",
       "<thead>    <tr> \n",
       "        <th class=\"index_name level0\" >Survived</th> \n",
       "        <th class=\"col_heading level0 col0\" >0</th> \n",
       "        <th class=\"col_heading level0 col1\" >1</th> \n",
       "        <th class=\"col_heading level0 col2\" >All</th> \n",
       "    </tr>    <tr> \n",
       "        <th class=\"index_name level0\" >Pclass</th> \n",
       "        <th class=\"blank\" ></th> \n",
       "        <th class=\"blank\" ></th> \n",
       "        <th class=\"blank\" ></th> \n",
       "    </tr></thead> \n",
       "<tbody>    <tr> \n",
       "        <th id=\"T_b5f703ca_7704_11e9_911c_0242ac130002level0_row0\" class=\"row_heading level0 row0\" >1</th> \n",
       "        <td id=\"T_b5f703ca_7704_11e9_911c_0242ac130002row0_col0\" class=\"data row0 col0\" >80</td> \n",
       "        <td id=\"T_b5f703ca_7704_11e9_911c_0242ac130002row0_col1\" class=\"data row0 col1\" >136</td> \n",
       "        <td id=\"T_b5f703ca_7704_11e9_911c_0242ac130002row0_col2\" class=\"data row0 col2\" >216</td> \n",
       "    </tr>    <tr> \n",
       "        <th id=\"T_b5f703ca_7704_11e9_911c_0242ac130002level0_row1\" class=\"row_heading level0 row1\" >2</th> \n",
       "        <td id=\"T_b5f703ca_7704_11e9_911c_0242ac130002row1_col0\" class=\"data row1 col0\" >97</td> \n",
       "        <td id=\"T_b5f703ca_7704_11e9_911c_0242ac130002row1_col1\" class=\"data row1 col1\" >87</td> \n",
       "        <td id=\"T_b5f703ca_7704_11e9_911c_0242ac130002row1_col2\" class=\"data row1 col2\" >184</td> \n",
       "    </tr>    <tr> \n",
       "        <th id=\"T_b5f703ca_7704_11e9_911c_0242ac130002level0_row2\" class=\"row_heading level0 row2\" >3</th> \n",
       "        <td id=\"T_b5f703ca_7704_11e9_911c_0242ac130002row2_col0\" class=\"data row2 col0\" >372</td> \n",
       "        <td id=\"T_b5f703ca_7704_11e9_911c_0242ac130002row2_col1\" class=\"data row2 col1\" >119</td> \n",
       "        <td id=\"T_b5f703ca_7704_11e9_911c_0242ac130002row2_col2\" class=\"data row2 col2\" >491</td> \n",
       "    </tr>    <tr> \n",
       "        <th id=\"T_b5f703ca_7704_11e9_911c_0242ac130002level0_row3\" class=\"row_heading level0 row3\" >All</th> \n",
       "        <td id=\"T_b5f703ca_7704_11e9_911c_0242ac130002row3_col0\" class=\"data row3 col0\" >549</td> \n",
       "        <td id=\"T_b5f703ca_7704_11e9_911c_0242ac130002row3_col1\" class=\"data row3 col1\" >342</td> \n",
       "        <td id=\"T_b5f703ca_7704_11e9_911c_0242ac130002row3_col2\" class=\"data row3 col2\" >891</td> \n",
       "    </tr></tbody> \n",
       "</table> "
      ],
      "text/plain": [
       "<pandas.io.formats.style.Styler at 0x7f95b76b6f28>"
      ]
     },
     "execution_count": 18,
     "metadata": {},
     "output_type": "execute_result"
    }
   ],
   "source": [
    "pd.crosstab(df_train.Pclass, df_train.Survived, margins=True).style.background_gradient(cmap='autumn_r')"
   ]
  },
  {
   "cell_type": "code",
   "execution_count": 19,
   "metadata": {
    "_cell_guid": "051feaa9-c5b0-4035-b002-4b9f2ff7e880",
    "_uuid": "a943c91ea1ce0dd40e8d53c696432e346d6605ab"
   },
   "outputs": [
    {
     "name": "stdout",
     "output_type": "stream",
     "text": [
      "% of survivals in\n",
      "Pclass=1 :  0.6296296296296297\n",
      "Pclass=2 :  0.47282608695652173\n",
      "Pclass=3 :  0.24236252545824846\n"
     ]
    }
   ],
   "source": [
    "print(\"% of survivals in\") \n",
    "print(\"Pclass=1 : \", df_train.Survived[df_train.Pclass == 1].sum()/df_train[df_train.Pclass == 1].Survived.count())\n",
    "print(\"Pclass=2 : \", df_train.Survived[df_train.Pclass == 2].sum()/df_train[df_train.Pclass == 2].Survived.count())\n",
    "print(\"Pclass=3 : \", df_train.Survived[df_train.Pclass == 3].sum()/df_train[df_train.Pclass == 3].Survived.count())"
   ]
  },
  {
   "cell_type": "code",
   "execution_count": 20,
   "metadata": {
    "_cell_guid": "fc517397-1dc7-421e-bc8b-2e287e94ae75",
    "_uuid": "8849e5a5a82f6a1dda18104bb649d304d1925fcd"
   },
   "outputs": [
    {
     "data": {
      "image/png": "[encoded data removed]",
      "text/plain": [
       "<Figure size 360x360 with 1 Axes>"
      ]
     },
     "metadata": {},
     "output_type": "display_data"
    }
   ],
   "source": [
    "sns.catplot('Pclass','Survived', kind='point', data=df_train);"
   ]
  },
  {
   "cell_type": "markdown",
   "metadata": {
    "_cell_guid": "aaccbc96-a530-47df-88d4-0f2e3a6abcf0",
    "_uuid": "5dce35a66e5506d07a18cabb0f3440897d459aa7",
    "collapsed": true
   },
   "source": [
    "**Passenger Class and Sex :**\n",
    "\n",
    "**Almost all women in Pclass 1 and 2 survived and nearly all men in Pclass 2 and 3 died**"
   ]
  },
  {
   "cell_type": "code",
   "execution_count": 21,
   "metadata": {
    "_cell_guid": "620eed70-7c9e-408d-b401-30ee97efd139",
    "_uuid": "e6bf54da5ad3bf4951330540a5671a2129990b52"
   },
   "outputs": [
    {
     "data": {
      "text/html": [
       "<style  type=\"text/css\" >\n",
       "    #T_b6430cf2_7704_11e9_911c_0242ac130002row0_col0 {\n",
       "            background-color:  #ffff00;\n",
       "        }    #T_b6430cf2_7704_11e9_911c_0242ac130002row0_col1 {\n",
       "            background-color:  #ffff00;\n",
       "        }    #T_b6430cf2_7704_11e9_911c_0242ac130002row0_col2 {\n",
       "            background-color:  #fff100;\n",
       "        }    #T_b6430cf2_7704_11e9_911c_0242ac130002row0_col3 {\n",
       "            background-color:  #ffff00;\n",
       "        }    #T_b6430cf2_7704_11e9_911c_0242ac130002row1_col0 {\n",
       "            background-color:  #ff9600;\n",
       "        }    #T_b6430cf2_7704_11e9_911c_0242ac130002row1_col1 {\n",
       "            background-color:  #ffa300;\n",
       "        }    #T_b6430cf2_7704_11e9_911c_0242ac130002row1_col2 {\n",
       "            background-color:  #fff100;\n",
       "        }    #T_b6430cf2_7704_11e9_911c_0242ac130002row1_col3 {\n",
       "            background-color:  #ffcf00;\n",
       "        }    #T_b6430cf2_7704_11e9_911c_0242ac130002row2_col0 {\n",
       "            background-color:  #ffa700;\n",
       "        }    #T_b6430cf2_7704_11e9_911c_0242ac130002row2_col1 {\n",
       "            background-color:  #ff8500;\n",
       "        }    #T_b6430cf2_7704_11e9_911c_0242ac130002row2_col2 {\n",
       "            background-color:  #ff6e00;\n",
       "        }    #T_b6430cf2_7704_11e9_911c_0242ac130002row2_col3 {\n",
       "            background-color:  #ff8500;\n",
       "        }    #T_b6430cf2_7704_11e9_911c_0242ac130002row3_col0 {\n",
       "            background-color:  #ffcd00;\n",
       "        }    #T_b6430cf2_7704_11e9_911c_0242ac130002row3_col1 {\n",
       "            background-color:  #fff000;\n",
       "        }    #T_b6430cf2_7704_11e9_911c_0242ac130002row3_col2 {\n",
       "            background-color:  #ffff00;\n",
       "        }    #T_b6430cf2_7704_11e9_911c_0242ac130002row3_col3 {\n",
       "            background-color:  #fff700;\n",
       "        }    #T_b6430cf2_7704_11e9_911c_0242ac130002row4_col0 {\n",
       "            background-color:  #ff0000;\n",
       "        }    #T_b6430cf2_7704_11e9_911c_0242ac130002row4_col1 {\n",
       "            background-color:  #ff0000;\n",
       "        }    #T_b6430cf2_7704_11e9_911c_0242ac130002row4_col2 {\n",
       "            background-color:  #ff0000;\n",
       "        }    #T_b6430cf2_7704_11e9_911c_0242ac130002row4_col3 {\n",
       "            background-color:  #ff0000;\n",
       "        }</style>  \n",
       "<table id=\"T_b6430cf2_7704_11e9_911c_0242ac130002\" > \n",
       "<thead>    <tr> \n",
       "        <th class=\"blank\" ></th> \n",
       "        <th class=\"index_name level0\" >Pclass</th> \n",
       "        <th class=\"col_heading level0 col0\" >1</th> \n",
       "        <th class=\"col_heading level0 col1\" >2</th> \n",
       "        <th class=\"col_heading level0 col2\" >3</th> \n",
       "        <th class=\"col_heading level0 col3\" >All</th> \n",
       "    </tr>    <tr> \n",
       "        <th class=\"index_name level0\" >Sex</th> \n",
       "        <th class=\"index_name level1\" >Survived</th> \n",
       "        <th class=\"blank\" ></th> \n",
       "        <th class=\"blank\" ></th> \n",
       "        <th class=\"blank\" ></th> \n",
       "        <th class=\"blank\" ></th> \n",
       "    </tr></thead> \n",
       "<tbody>    <tr> \n",
       "        <th id=\"T_b6430cf2_7704_11e9_911c_0242ac130002level0_row0\" class=\"row_heading level0 row0\" rowspan=2>female</th> \n",
       "        <th id=\"T_b6430cf2_7704_11e9_911c_0242ac130002level1_row0\" class=\"row_heading level1 row0\" >0</th> \n",
       "        <td id=\"T_b6430cf2_7704_11e9_911c_0242ac130002row0_col0\" class=\"data row0 col0\" >3</td> \n",
       "        <td id=\"T_b6430cf2_7704_11e9_911c_0242ac130002row0_col1\" class=\"data row0 col1\" >6</td> \n",
       "        <td id=\"T_b6430cf2_7704_11e9_911c_0242ac130002row0_col2\" class=\"data row0 col2\" >72</td> \n",
       "        <td id=\"T_b6430cf2_7704_11e9_911c_0242ac130002row0_col3\" class=\"data row0 col3\" >81</td> \n",
       "    </tr>    <tr> \n",
       "        <th id=\"T_b6430cf2_7704_11e9_911c_0242ac130002level1_row1\" class=\"row_heading level1 row1\" >1</th> \n",
       "        <td id=\"T_b6430cf2_7704_11e9_911c_0242ac130002row1_col0\" class=\"data row1 col0\" >91</td> \n",
       "        <td id=\"T_b6430cf2_7704_11e9_911c_0242ac130002row1_col1\" class=\"data row1 col1\" >70</td> \n",
       "        <td id=\"T_b6430cf2_7704_11e9_911c_0242ac130002row1_col2\" class=\"data row1 col2\" >72</td> \n",
       "        <td id=\"T_b6430cf2_7704_11e9_911c_0242ac130002row1_col3\" class=\"data row1 col3\" >233</td> \n",
       "    </tr>    <tr> \n",
       "        <th id=\"T_b6430cf2_7704_11e9_911c_0242ac130002level0_row2\" class=\"row_heading level0 row2\" rowspan=2>male</th> \n",
       "        <th id=\"T_b6430cf2_7704_11e9_911c_0242ac130002level1_row2\" class=\"row_heading level1 row2\" >0</th> \n",
       "        <td id=\"T_b6430cf2_7704_11e9_911c_0242ac130002row2_col0\" class=\"data row2 col0\" >77</td> \n",
       "        <td id=\"T_b6430cf2_7704_11e9_911c_0242ac130002row2_col1\" class=\"data row2 col1\" >91</td> \n",
       "        <td id=\"T_b6430cf2_7704_11e9_911c_0242ac130002row2_col2\" class=\"data row2 col2\" >300</td> \n",
       "        <td id=\"T_b6430cf2_7704_11e9_911c_0242ac130002row2_col3\" class=\"data row2 col3\" >468</td> \n",
       "    </tr>    <tr> \n",
       "        <th id=\"T_b6430cf2_7704_11e9_911c_0242ac130002level1_row3\" class=\"row_heading level1 row3\" >1</th> \n",
       "        <td id=\"T_b6430cf2_7704_11e9_911c_0242ac130002row3_col0\" class=\"data row3 col0\" >45</td> \n",
       "        <td id=\"T_b6430cf2_7704_11e9_911c_0242ac130002row3_col1\" class=\"data row3 col1\" >17</td> \n",
       "        <td id=\"T_b6430cf2_7704_11e9_911c_0242ac130002row3_col2\" class=\"data row3 col2\" >47</td> \n",
       "        <td id=\"T_b6430cf2_7704_11e9_911c_0242ac130002row3_col3\" class=\"data row3 col3\" >109</td> \n",
       "    </tr>    <tr> \n",
       "        <th id=\"T_b6430cf2_7704_11e9_911c_0242ac130002level0_row4\" class=\"row_heading level0 row4\" >All</th> \n",
       "        <th id=\"T_b6430cf2_7704_11e9_911c_0242ac130002level1_row4\" class=\"row_heading level1 row4\" ></th> \n",
       "        <td id=\"T_b6430cf2_7704_11e9_911c_0242ac130002row4_col0\" class=\"data row4 col0\" >216</td> \n",
       "        <td id=\"T_b6430cf2_7704_11e9_911c_0242ac130002row4_col1\" class=\"data row4 col1\" >184</td> \n",
       "        <td id=\"T_b6430cf2_7704_11e9_911c_0242ac130002row4_col2\" class=\"data row4 col2\" >491</td> \n",
       "        <td id=\"T_b6430cf2_7704_11e9_911c_0242ac130002row4_col3\" class=\"data row4 col3\" >891</td> \n",
       "    </tr></tbody> \n",
       "</table> "
      ],
      "text/plain": [
       "<pandas.io.formats.style.Styler at 0x7f95b3b8b400>"
      ]
     },
     "execution_count": 21,
     "metadata": {},
     "output_type": "execute_result"
    }
   ],
   "source": [
    "pd.crosstab([df_train.Sex, df_train.Survived], df_train.Pclass, margins=True).style.background_gradient(cmap='autumn_r')"
   ]
  },
  {
   "cell_type": "code",
   "execution_count": 22,
   "metadata": {
    "_cell_guid": "d716de50-8e5f-4a26-9cb9-e95c76e526a3",
    "_uuid": "5377daafd312ed7e33376c2599d52d4c4db3ce5b"
   },
   "outputs": [
    {
     "data": {
      "image/png": "[encoded data removed]",
      "text/plain": [
       "<Figure size 437.975x360 with 1 Axes>"
      ]
     },
     "metadata": {},
     "output_type": "display_data"
    }
   ],
   "source": [
    "sns.catplot('Pclass','Survived',hue='Sex', kind='point', data=df_train);"
   ]
  },
  {
   "cell_type": "markdown",
   "metadata": {
    "_cell_guid": "8c90fa09-97fc-4143-b364-ff0dabd43292",
    "_uuid": "f042a3bdb18e289edfd62688d308f6c8f6bcd27e",
    "collapsed": true
   },
   "source": [
    "**Embarked : Survival rate lowest for S and highest for C**"
   ]
  },
  {
   "cell_type": "code",
   "execution_count": 23,
   "metadata": {
    "_cell_guid": "5dc3dccf-9b61-424e-b251-56ce33d1e1b4",
    "_uuid": "59a813d6b0bf1d1427475ebf92d5791a300f34a8"
   },
   "outputs": [
    {
     "data": {
      "image/png": "[encoded data removed]",
      "text/plain": [
       "<Figure size 1080x360 with 3 Axes>"
      ]
     },
     "metadata": {},
     "output_type": "display_data"
    }
   ],
   "source": [
    "sns.catplot(x='Survived', col='Embarked', kind='count', data=df_train);"
   ]
  },
  {
   "cell_type": "code",
   "execution_count": 24,
   "metadata": {
    "_cell_guid": "9c55a6cd-cb3e-490b-b272-489252eaf55e",
    "_uuid": "805776505e93b1fd06f25f43e6400c6377131320"
   },
   "outputs": [
    {
     "data": {
      "image/png": "[encoded data removed]",
      "text/plain": [
       "<Figure size 360x360 with 1 Axes>"
      ]
     },
     "metadata": {},
     "output_type": "display_data"
    }
   ],
   "source": [
    "sns.catplot('Embarked','Survived', kind='point', data=df_train);"
   ]
  },
  {
   "cell_type": "markdown",
   "metadata": {
    "_cell_guid": "5d41c75f-d13a-441e-b8bf-e2605ce42b6b",
    "_uuid": "a2257cddd2784ac55fa3bc40673ef99a7b311aa4"
   },
   "source": [
    "**Embarked and Sex**"
   ]
  },
  {
   "cell_type": "code",
   "execution_count": 25,
   "metadata": {
    "_cell_guid": "259c13c1-5d2c-4549-95ed-61baa9d2a6c1",
    "_uuid": "f9d1d2137f0ce7a8ac1ef9d3bf1f3225dbcbdaf4"
   },
   "outputs": [
    {
     "data": {
      "image/png": "[encoded data removed]",
      "text/plain": [
       "<Figure size 437.975x360 with 1 Axes>"
      ]
     },
     "metadata": {},
     "output_type": "display_data"
    }
   ],
   "source": [
    "sns.catplot('Embarked','Survived', hue= 'Sex', kind='point', data=df_train);"
   ]
  },
  {
   "cell_type": "markdown",
   "metadata": {
    "_cell_guid": "6891d2dc-0121-442b-809e-b236c6d52ca2",
    "_uuid": "b4a4775d5992483cbca12f98dcff676a3804310c"
   },
   "source": [
    "**Embarked, Pclass and Sex :**\n",
    "\n",
    "** Practically all women of Pclass 2 that embarked in C and Q survived, also nearly all women of Pclass 1 survived. **\n",
    "\n",
    "** All men of Pclass 1 and 2 embarked in Q died, survival rate for men in Pclass 2 and 3 is always below 0.2 **\n",
    "\n",
    "** For the remaining men in Pclass 1 that embarked in S and Q, survival rate is approx. 0.4 **"
   ]
  },
  {
   "cell_type": "code",
   "execution_count": 26,
   "metadata": {
    "_cell_guid": "dc3d169f-b2e8-4df8-b4e6-dced76b43bee",
    "_uuid": "a1f54e702d6fe53ef1f60032469d24d956cb366a"
   },
   "outputs": [
    {
     "data": {
      "image/png": "[encoded data removed]",
      "text/plain": [
       "<Figure size 1157.97x360 with 3 Axes>"
      ]
     },
     "metadata": {},
     "output_type": "display_data"
    }
   ],
   "source": [
    "sns.catplot('Embarked','Survived', col='Pclass', hue= 'Sex', kind='point', data=df_train);"
   ]
  },
  {
   "cell_type": "code",
   "execution_count": 27,
   "metadata": {
    "_cell_guid": "e2b0c14d-cef5-423e-a433-786c09fdcfa6",
    "_uuid": "3a79d321096144428ad92c82829f6a5c3daee183"
   },
   "outputs": [
    {
     "data": {
      "text/html": [
       "<div>\n",
       "<style scoped>\n",
       "    .dataframe tbody tr th:only-of-type {\n",
       "        vertical-align: middle;\n",
       "    }\n",
       "\n",
       "    .dataframe tbody tr th {\n",
       "        vertical-align: top;\n",
       "    }\n",
       "\n",
       "    .dataframe thead tr th {\n",
       "        text-align: left;\n",
       "    }\n",
       "\n",
       "    .dataframe thead tr:last-of-type th {\n",
       "        text-align: right;\n",
       "    }\n",
       "</style>\n",
       "<table border=\"1\" class=\"dataframe\">\n",
       "  <thead>\n",
       "    <tr>\n",
       "      <th>Sex</th>\n",
       "      <th colspan=\"9\" halign=\"left\">female</th>\n",
       "      <th colspan=\"9\" halign=\"left\">male</th>\n",
       "      <th>All</th>\n",
       "    </tr>\n",
       "    <tr>\n",
       "      <th>Pclass</th>\n",
       "      <th colspan=\"3\" halign=\"left\">1</th>\n",
       "      <th colspan=\"3\" halign=\"left\">2</th>\n",
       "      <th colspan=\"3\" halign=\"left\">3</th>\n",
       "      <th colspan=\"3\" halign=\"left\">1</th>\n",
       "      <th colspan=\"3\" halign=\"left\">2</th>\n",
       "      <th colspan=\"3\" halign=\"left\">3</th>\n",
       "      <th></th>\n",
       "    </tr>\n",
       "    <tr>\n",
       "      <th>Embarked</th>\n",
       "      <th>C</th>\n",
       "      <th>Q</th>\n",
       "      <th>S</th>\n",
       "      <th>C</th>\n",
       "      <th>Q</th>\n",
       "      <th>S</th>\n",
       "      <th>C</th>\n",
       "      <th>Q</th>\n",
       "      <th>S</th>\n",
       "      <th>C</th>\n",
       "      <th>Q</th>\n",
       "      <th>S</th>\n",
       "      <th>C</th>\n",
       "      <th>Q</th>\n",
       "      <th>S</th>\n",
       "      <th>C</th>\n",
       "      <th>Q</th>\n",
       "      <th>S</th>\n",
       "      <th></th>\n",
       "    </tr>\n",
       "    <tr>\n",
       "      <th>Survived</th>\n",
       "      <th></th>\n",
       "      <th></th>\n",
       "      <th></th>\n",
       "      <th></th>\n",
       "      <th></th>\n",
       "      <th></th>\n",
       "      <th></th>\n",
       "      <th></th>\n",
       "      <th></th>\n",
       "      <th></th>\n",
       "      <th></th>\n",
       "      <th></th>\n",
       "      <th></th>\n",
       "      <th></th>\n",
       "      <th></th>\n",
       "      <th></th>\n",
       "      <th></th>\n",
       "      <th></th>\n",
       "      <th></th>\n",
       "    </tr>\n",
       "  </thead>\n",
       "  <tbody>\n",
       "    <tr>\n",
       "      <th>0</th>\n",
       "      <td>1</td>\n",
       "      <td>0</td>\n",
       "      <td>2</td>\n",
       "      <td>0</td>\n",
       "      <td>0</td>\n",
       "      <td>6</td>\n",
       "      <td>8</td>\n",
       "      <td>9</td>\n",
       "      <td>55</td>\n",
       "      <td>25</td>\n",
       "      <td>1</td>\n",
       "      <td>51</td>\n",
       "      <td>8</td>\n",
       "      <td>1</td>\n",
       "      <td>82</td>\n",
       "      <td>33</td>\n",
       "      <td>36</td>\n",
       "      <td>231</td>\n",
       "      <td>549</td>\n",
       "    </tr>\n",
       "    <tr>\n",
       "      <th>1</th>\n",
       "      <td>42</td>\n",
       "      <td>1</td>\n",
       "      <td>46</td>\n",
       "      <td>7</td>\n",
       "      <td>2</td>\n",
       "      <td>61</td>\n",
       "      <td>15</td>\n",
       "      <td>24</td>\n",
       "      <td>33</td>\n",
       "      <td>17</td>\n",
       "      <td>0</td>\n",
       "      <td>28</td>\n",
       "      <td>2</td>\n",
       "      <td>0</td>\n",
       "      <td>15</td>\n",
       "      <td>10</td>\n",
       "      <td>3</td>\n",
       "      <td>34</td>\n",
       "      <td>340</td>\n",
       "    </tr>\n",
       "    <tr>\n",
       "      <th>All</th>\n",
       "      <td>43</td>\n",
       "      <td>1</td>\n",
       "      <td>48</td>\n",
       "      <td>7</td>\n",
       "      <td>2</td>\n",
       "      <td>67</td>\n",
       "      <td>23</td>\n",
       "      <td>33</td>\n",
       "      <td>88</td>\n",
       "      <td>42</td>\n",
       "      <td>1</td>\n",
       "      <td>79</td>\n",
       "      <td>10</td>\n",
       "      <td>1</td>\n",
       "      <td>97</td>\n",
       "      <td>43</td>\n",
       "      <td>39</td>\n",
       "      <td>265</td>\n",
       "      <td>889</td>\n",
       "    </tr>\n",
       "  </tbody>\n",
       "</table>\n",
       "</div>"
      ],
      "text/plain": [
       "Sex      female                          ...  male                          All\n",
       "Pclass        1         2          3     ...     1   2          3              \n",
       "Embarked      C  Q   S  C  Q   S   C   Q ...     S   C  Q   S   C   Q    S     \n",
       "Survived                                 ...                                   \n",
       "0             1  0   2  0  0   6   8   9 ...    51   8  1  82  33  36  231  549\n",
       "1            42  1  46  7  2  61  15  24 ...    28   2  0  15  10   3   34  340\n",
       "All          43  1  48  7  2  67  23  33 ...    79  10  1  97  43  39  265  889\n",
       "\n",
       "[3 rows x 19 columns]"
      ]
     },
     "execution_count": 27,
     "metadata": {},
     "output_type": "execute_result"
    }
   ],
   "source": [
    "pd.crosstab([df_train.Survived], [df_train.Sex, df_train.Pclass, df_train.Embarked], margins=True)"
   ]
  },
  {
   "cell_type": "markdown",
   "metadata": {
    "_cell_guid": "6b69a722-4335-44cd-baac-5ae3fb02065d",
    "_uuid": "a53b6d009d7862a454baec4dcac787e22cc6f4d5"
   },
   "source": [
    "third model :\n",
    "based on PClass, Sex and Embarked ,\n",
    "submission : 0.779 accuracy"
   ]
  },
  {
   "cell_type": "code",
   "execution_count": 28,
   "metadata": {
    "_cell_guid": "c842cd85-5bd1-4b38-914f-99affb2c69b1",
    "_uuid": "82f6e7102aee58b2d9673ecabb85a6d5b9df91e6"
   },
   "outputs": [],
   "source": [
    "# model 3\n",
    "df_test['Survived'] = 0\n",
    "# all women survived\n",
    "df_test.loc[ (df_test.Sex == 'female'), 'Survived'] = 1\n",
    "# except for those in Pclass 3 and embarked in S\n",
    "df_test.loc[ (df_test.Sex == 'female') & (df_test.Pclass == 3) & (df_test.Embarked == 'S') , 'Survived'] = 0\n",
    "#df_test[['PassengerId', 'Survived']].to_csv('embarked_pclass_sex.csv', index=False)"
   ]
  },
  {
   "cell_type": "markdown",
   "metadata": {
    "_cell_guid": "8e635867-d4a4-4ceb-b7a8-f8260cc01254",
    "_uuid": "449bb1e89a1d99b85dc03f76034f293db349e42e"
   },
   "source": [
    "**Age:  continuous numerical  to  8 bins **"
   ]
  },
  {
   "cell_type": "code",
   "execution_count": 29,
   "metadata": {
    "_cell_guid": "4f536aeb-8f8b-4b6d-8020-adef0f25b22c",
    "_uuid": "08da3a287de8af95a4ca012c42fd14dc02554815"
   },
   "outputs": [],
   "source": [
    "for df in [df_train, df_test]:\n",
    "    df['Age_bin']=np.nan\n",
    "    for i in range(8,0,-1):\n",
    "        df.loc[ df['Age'] <= i*10, 'Age_bin'] = i"
   ]
  },
  {
   "cell_type": "code",
   "execution_count": 30,
   "metadata": {
    "_cell_guid": "5afbb91b-4407-45b4-81e3-7cf112ddb489",
    "_uuid": "4b41dd56f41faff7a762cf1fb0d180f4b113ad26"
   },
   "outputs": [
    {
     "name": "stdout",
     "output_type": "stream",
     "text": [
      "    Age  Age_bin\n",
      "0  22.0      3.0\n",
      "1  38.0      4.0\n",
      "2  26.0      3.0\n",
      "3  35.0      4.0\n",
      "4  35.0      4.0\n",
      "5   NaN      NaN\n",
      "6  54.0      6.0\n",
      "7   2.0      1.0\n",
      "8  27.0      3.0\n",
      "9  14.0      2.0\n"
     ]
    }
   ],
   "source": [
    "print(df_train[['Age' , 'Age_bin']].head(10))"
   ]
  },
  {
   "cell_type": "code",
   "execution_count": 31,
   "metadata": {
    "_cell_guid": "d0d60033-5a87-44ec-89d1-45f48bea213e",
    "_uuid": "546efacb21995beea817894c7616bc24950d1f8e"
   },
   "outputs": [
    {
     "data": {
      "image/png": "[encoded data removed]",
      "text/plain": [
       "<Figure size 437.975x360 with 1 Axes>"
      ]
     },
     "metadata": {},
     "output_type": "display_data"
    }
   ],
   "source": [
    "sns.catplot('Age_bin','Survived',hue='Sex',kind='point',data=df_train);"
   ]
  },
  {
   "cell_type": "code",
   "execution_count": 32,
   "metadata": {
    "_cell_guid": "472167a5-72cf-4ba9-be0b-7ff17e161702",
    "_uuid": "a234b585b5826c2cb32631c105e841fc5e6e8362"
   },
   "outputs": [
    {
     "data": {
      "image/png": "[encoded data removed]",
      "text/plain": [
       "<Figure size 1080x720 with 6 Axes>"
      ]
     },
     "metadata": {},
     "output_type": "display_data"
    }
   ],
   "source": [
    "sns.catplot('Age_bin','Survived', col='Pclass' , row = 'Sex', kind='point', data=df_train);"
   ]
  },
  {
   "cell_type": "code",
   "execution_count": 33,
   "metadata": {
    "_cell_guid": "63acf86d-0a8f-4ac7-a1a5-ecac2fb7b4c6",
    "_uuid": "02f16d15f9223c10e3db1f80f6b138275b66ec75"
   },
   "outputs": [
    {
     "data": {
      "text/html": [
       "<style  type=\"text/css\" >\n",
       "    #T_ba5f33c4_7704_11e9_911c_0242ac130002row0_col0 {\n",
       "            background-color:  #ffaa00;\n",
       "        }    #T_ba5f33c4_7704_11e9_911c_0242ac130002row0_col1 {\n",
       "            background-color:  #ffff00;\n",
       "        }    #T_ba5f33c4_7704_11e9_911c_0242ac130002row0_col2 {\n",
       "            background-color:  #ffea00;\n",
       "        }    #T_ba5f33c4_7704_11e9_911c_0242ac130002row0_col3 {\n",
       "            background-color:  #ffff00;\n",
       "        }    #T_ba5f33c4_7704_11e9_911c_0242ac130002row0_col4 {\n",
       "            background-color:  #ffff00;\n",
       "        }    #T_ba5f33c4_7704_11e9_911c_0242ac130002row0_col5 {\n",
       "            background-color:  #ffee00;\n",
       "        }    #T_ba5f33c4_7704_11e9_911c_0242ac130002row0_col6 {\n",
       "            background-color:  #ffff00;\n",
       "        }    #T_ba5f33c4_7704_11e9_911c_0242ac130002row0_col7 {\n",
       "            background-color:  #fff300;\n",
       "        }    #T_ba5f33c4_7704_11e9_911c_0242ac130002row0_col8 {\n",
       "            background-color:  #fffb00;\n",
       "        }    #T_ba5f33c4_7704_11e9_911c_0242ac130002row0_col9 {\n",
       "            background-color:  #ffff00;\n",
       "        }    #T_ba5f33c4_7704_11e9_911c_0242ac130002row0_col10 {\n",
       "            background-color:  #ffff00;\n",
       "        }    #T_ba5f33c4_7704_11e9_911c_0242ac130002row0_col11 {\n",
       "            background-color:  #fff700;\n",
       "        }    #T_ba5f33c4_7704_11e9_911c_0242ac130002row0_col12 {\n",
       "            background-color:  #ffff00;\n",
       "        }    #T_ba5f33c4_7704_11e9_911c_0242ac130002row0_col13 {\n",
       "            background-color:  #ffff00;\n",
       "        }    #T_ba5f33c4_7704_11e9_911c_0242ac130002row0_col14 {\n",
       "            background-color:  #ffbb00;\n",
       "        }    #T_ba5f33c4_7704_11e9_911c_0242ac130002row0_col15 {\n",
       "            background-color:  #ffff00;\n",
       "        }    #T_ba5f33c4_7704_11e9_911c_0242ac130002row0_col16 {\n",
       "            background-color:  #ffea00;\n",
       "        }    #T_ba5f33c4_7704_11e9_911c_0242ac130002row0_col17 {\n",
       "            background-color:  #ffff00;\n",
       "        }    #T_ba5f33c4_7704_11e9_911c_0242ac130002row0_col18 {\n",
       "            background-color:  #ffff00;\n",
       "        }    #T_ba5f33c4_7704_11e9_911c_0242ac130002row0_col19 {\n",
       "            background-color:  #ffff00;\n",
       "        }    #T_ba5f33c4_7704_11e9_911c_0242ac130002row0_col20 {\n",
       "            background-color:  #ffff00;\n",
       "        }    #T_ba5f33c4_7704_11e9_911c_0242ac130002row0_col21 {\n",
       "            background-color:  #ffff00;\n",
       "        }    #T_ba5f33c4_7704_11e9_911c_0242ac130002row0_col22 {\n",
       "            background-color:  #ffff00;\n",
       "        }    #T_ba5f33c4_7704_11e9_911c_0242ac130002row0_col23 {\n",
       "            background-color:  #ffff00;\n",
       "        }    #T_ba5f33c4_7704_11e9_911c_0242ac130002row1_col0 {\n",
       "            background-color:  #ffff00;\n",
       "        }    #T_ba5f33c4_7704_11e9_911c_0242ac130002row1_col1 {\n",
       "            background-color:  #ff8700;\n",
       "        }    #T_ba5f33c4_7704_11e9_911c_0242ac130002row1_col2 {\n",
       "            background-color:  #ffea00;\n",
       "        }    #T_ba5f33c4_7704_11e9_911c_0242ac130002row1_col3 {\n",
       "            background-color:  #ff4700;\n",
       "        }    #T_ba5f33c4_7704_11e9_911c_0242ac130002row1_col4 {\n",
       "            background-color:  #ff8e00;\n",
       "        }    #T_ba5f33c4_7704_11e9_911c_0242ac130002row1_col5 {\n",
       "            background-color:  #ffea00;\n",
       "        }    #T_ba5f33c4_7704_11e9_911c_0242ac130002row1_col6 {\n",
       "            background-color:  #ff8300;\n",
       "        }    #T_ba5f33c4_7704_11e9_911c_0242ac130002row1_col7 {\n",
       "            background-color:  #ff9700;\n",
       "        }    #T_ba5f33c4_7704_11e9_911c_0242ac130002row1_col8 {\n",
       "            background-color:  #fffb00;\n",
       "        }    #T_ba5f33c4_7704_11e9_911c_0242ac130002row1_col9 {\n",
       "            background-color:  #ff8200;\n",
       "        }    #T_ba5f33c4_7704_11e9_911c_0242ac130002row1_col10 {\n",
       "            background-color:  #ffa400;\n",
       "        }    #T_ba5f33c4_7704_11e9_911c_0242ac130002row1_col11 {\n",
       "            background-color:  #ffff00;\n",
       "        }    #T_ba5f33c4_7704_11e9_911c_0242ac130002row1_col12 {\n",
       "            background-color:  #ffb100;\n",
       "        }    #T_ba5f33c4_7704_11e9_911c_0242ac130002row1_col13 {\n",
       "            background-color:  #ff8e00;\n",
       "        }    #T_ba5f33c4_7704_11e9_911c_0242ac130002row1_col14 {\n",
       "            background-color:  #ffff00;\n",
       "        }    #T_ba5f33c4_7704_11e9_911c_0242ac130002row1_col15 {\n",
       "            background-color:  #ff8f00;\n",
       "        }    #T_ba5f33c4_7704_11e9_911c_0242ac130002row1_col16 {\n",
       "            background-color:  #ffd500;\n",
       "        }    #T_ba5f33c4_7704_11e9_911c_0242ac130002row1_col17 {\n",
       "            background-color:  #ffff00;\n",
       "        }    #T_ba5f33c4_7704_11e9_911c_0242ac130002row1_col18 {\n",
       "            background-color:  #ffd100;\n",
       "        }    #T_ba5f33c4_7704_11e9_911c_0242ac130002row1_col19 {\n",
       "            background-color:  #ffff00;\n",
       "        }    #T_ba5f33c4_7704_11e9_911c_0242ac130002row1_col20 {\n",
       "            background-color:  #ffaa00;\n",
       "        }    #T_ba5f33c4_7704_11e9_911c_0242ac130002row1_col21 {\n",
       "            background-color:  #ffff00;\n",
       "        }    #T_ba5f33c4_7704_11e9_911c_0242ac130002row1_col22 {\n",
       "            background-color:  #ffff00;\n",
       "        }    #T_ba5f33c4_7704_11e9_911c_0242ac130002row1_col23 {\n",
       "            background-color:  #ffcb00;\n",
       "        }    #T_ba5f33c4_7704_11e9_911c_0242ac130002row2_col0 {\n",
       "            background-color:  #ffff00;\n",
       "        }    #T_ba5f33c4_7704_11e9_911c_0242ac130002row2_col1 {\n",
       "            background-color:  #ffff00;\n",
       "        }    #T_ba5f33c4_7704_11e9_911c_0242ac130002row2_col2 {\n",
       "            background-color:  #ffd500;\n",
       "        }    #T_ba5f33c4_7704_11e9_911c_0242ac130002row2_col3 {\n",
       "            background-color:  #ffd500;\n",
       "        }    #T_ba5f33c4_7704_11e9_911c_0242ac130002row2_col4 {\n",
       "            background-color:  #ff7f00;\n",
       "        }    #T_ba5f33c4_7704_11e9_911c_0242ac130002row2_col5 {\n",
       "            background-color:  #ff7100;\n",
       "        }    #T_ba5f33c4_7704_11e9_911c_0242ac130002row2_col6 {\n",
       "            background-color:  #ffc400;\n",
       "        }    #T_ba5f33c4_7704_11e9_911c_0242ac130002row2_col7 {\n",
       "            background-color:  #ff7500;\n",
       "        }    #T_ba5f33c4_7704_11e9_911c_0242ac130002row2_col8 {\n",
       "            background-color:  #ff6600;\n",
       "        }    #T_ba5f33c4_7704_11e9_911c_0242ac130002row2_col9 {\n",
       "            background-color:  #ffc100;\n",
       "        }    #T_ba5f33c4_7704_11e9_911c_0242ac130002row2_col10 {\n",
       "            background-color:  #ff7900;\n",
       "        }    #T_ba5f33c4_7704_11e9_911c_0242ac130002row2_col11 {\n",
       "            background-color:  #ff5e00;\n",
       "        }    #T_ba5f33c4_7704_11e9_911c_0242ac130002row2_col12 {\n",
       "            background-color:  #ff9c00;\n",
       "        }    #T_ba5f33c4_7704_11e9_911c_0242ac130002row2_col13 {\n",
       "            background-color:  #ff9c00;\n",
       "        }    #T_ba5f33c4_7704_11e9_911c_0242ac130002row2_col14 {\n",
       "            background-color:  #ff5500;\n",
       "        }    #T_ba5f33c4_7704_11e9_911c_0242ac130002row2_col15 {\n",
       "            background-color:  #ff9900;\n",
       "        }    #T_ba5f33c4_7704_11e9_911c_0242ac130002row2_col16 {\n",
       "            background-color:  #ff3f00;\n",
       "        }    #T_ba5f33c4_7704_11e9_911c_0242ac130002row2_col17 {\n",
       "            background-color:  #ff0000;\n",
       "        }    #T_ba5f33c4_7704_11e9_911c_0242ac130002row2_col18 {\n",
       "            background-color:  #ff2e00;\n",
       "        }    #T_ba5f33c4_7704_11e9_911c_0242ac130002row2_col19 {\n",
       "            background-color:  #ff5500;\n",
       "        }    #T_ba5f33c4_7704_11e9_911c_0242ac130002row2_col20 {\n",
       "            background-color:  #ff5500;\n",
       "        }    #T_ba5f33c4_7704_11e9_911c_0242ac130002row2_col21 {\n",
       "            background-color:  #ff5500;\n",
       "        }    #T_ba5f33c4_7704_11e9_911c_0242ac130002row2_col22 {\n",
       "            background-color:  #ff0000;\n",
       "        }    #T_ba5f33c4_7704_11e9_911c_0242ac130002row2_col23 {\n",
       "            background-color:  #ff8b00;\n",
       "        }    #T_ba5f33c4_7704_11e9_911c_0242ac130002row3_col0 {\n",
       "            background-color:  #ff5500;\n",
       "        }    #T_ba5f33c4_7704_11e9_911c_0242ac130002row3_col1 {\n",
       "            background-color:  #ff7800;\n",
       "        }    #T_ba5f33c4_7704_11e9_911c_0242ac130002row3_col2 {\n",
       "            background-color:  #ffff00;\n",
       "        }    #T_ba5f33c4_7704_11e9_911c_0242ac130002row3_col3 {\n",
       "            background-color:  #ffe300;\n",
       "        }    #T_ba5f33c4_7704_11e9_911c_0242ac130002row3_col4 {\n",
       "            background-color:  #fff100;\n",
       "        }    #T_ba5f33c4_7704_11e9_911c_0242ac130002row3_col5 {\n",
       "            background-color:  #ffff00;\n",
       "        }    #T_ba5f33c4_7704_11e9_911c_0242ac130002row3_col6 {\n",
       "            background-color:  #ffcb00;\n",
       "        }    #T_ba5f33c4_7704_11e9_911c_0242ac130002row3_col7 {\n",
       "            background-color:  #ffff00;\n",
       "        }    #T_ba5f33c4_7704_11e9_911c_0242ac130002row3_col8 {\n",
       "            background-color:  #ffff00;\n",
       "        }    #T_ba5f33c4_7704_11e9_911c_0242ac130002row3_col9 {\n",
       "            background-color:  #ffbc00;\n",
       "        }    #T_ba5f33c4_7704_11e9_911c_0242ac130002row3_col10 {\n",
       "            background-color:  #fff300;\n",
       "        }    #T_ba5f33c4_7704_11e9_911c_0242ac130002row3_col11 {\n",
       "            background-color:  #fffb00;\n",
       "        }    #T_ba5f33c4_7704_11e9_911c_0242ac130002row3_col12 {\n",
       "            background-color:  #ffc700;\n",
       "        }    #T_ba5f33c4_7704_11e9_911c_0242ac130002row3_col13 {\n",
       "            background-color:  #ffff00;\n",
       "        }    #T_ba5f33c4_7704_11e9_911c_0242ac130002row3_col14 {\n",
       "            background-color:  #ffee00;\n",
       "        }    #T_ba5f33c4_7704_11e9_911c_0242ac130002row3_col15 {\n",
       "            background-color:  #ffd700;\n",
       "        }    #T_ba5f33c4_7704_11e9_911c_0242ac130002row3_col16 {\n",
       "            background-color:  #ffff00;\n",
       "        }    #T_ba5f33c4_7704_11e9_911c_0242ac130002row3_col17 {\n",
       "            background-color:  #ffff00;\n",
       "        }    #T_ba5f33c4_7704_11e9_911c_0242ac130002row3_col18 {\n",
       "            background-color:  #ffff00;\n",
       "        }    #T_ba5f33c4_7704_11e9_911c_0242ac130002row3_col19 {\n",
       "            background-color:  #ffaa00;\n",
       "        }    #T_ba5f33c4_7704_11e9_911c_0242ac130002row3_col20 {\n",
       "            background-color:  #ffff00;\n",
       "        }    #T_ba5f33c4_7704_11e9_911c_0242ac130002row3_col21 {\n",
       "            background-color:  #ffaa00;\n",
       "        }    #T_ba5f33c4_7704_11e9_911c_0242ac130002row3_col22 {\n",
       "            background-color:  #ffff00;\n",
       "        }    #T_ba5f33c4_7704_11e9_911c_0242ac130002row3_col23 {\n",
       "            background-color:  #fff400;\n",
       "        }    #T_ba5f33c4_7704_11e9_911c_0242ac130002row4_col0 {\n",
       "            background-color:  #ff0000;\n",
       "        }    #T_ba5f33c4_7704_11e9_911c_0242ac130002row4_col1 {\n",
       "            background-color:  #ff0000;\n",
       "        }    #T_ba5f33c4_7704_11e9_911c_0242ac130002row4_col2 {\n",
       "            background-color:  #ff0000;\n",
       "        }    #T_ba5f33c4_7704_11e9_911c_0242ac130002row4_col3 {\n",
       "            background-color:  #ff0000;\n",
       "        }    #T_ba5f33c4_7704_11e9_911c_0242ac130002row4_col4 {\n",
       "            background-color:  #ff0000;\n",
       "        }    #T_ba5f33c4_7704_11e9_911c_0242ac130002row4_col5 {\n",
       "            background-color:  #ff0000;\n",
       "        }    #T_ba5f33c4_7704_11e9_911c_0242ac130002row4_col6 {\n",
       "            background-color:  #ff0000;\n",
       "        }    #T_ba5f33c4_7704_11e9_911c_0242ac130002row4_col7 {\n",
       "            background-color:  #ff0000;\n",
       "        }    #T_ba5f33c4_7704_11e9_911c_0242ac130002row4_col8 {\n",
       "            background-color:  #ff0000;\n",
       "        }    #T_ba5f33c4_7704_11e9_911c_0242ac130002row4_col9 {\n",
       "            background-color:  #ff0000;\n",
       "        }    #T_ba5f33c4_7704_11e9_911c_0242ac130002row4_col10 {\n",
       "            background-color:  #ff0000;\n",
       "        }    #T_ba5f33c4_7704_11e9_911c_0242ac130002row4_col11 {\n",
       "            background-color:  #ff0000;\n",
       "        }    #T_ba5f33c4_7704_11e9_911c_0242ac130002row4_col12 {\n",
       "            background-color:  #ff0000;\n",
       "        }    #T_ba5f33c4_7704_11e9_911c_0242ac130002row4_col13 {\n",
       "            background-color:  #ff0000;\n",
       "        }    #T_ba5f33c4_7704_11e9_911c_0242ac130002row4_col14 {\n",
       "            background-color:  #ff0000;\n",
       "        }    #T_ba5f33c4_7704_11e9_911c_0242ac130002row4_col15 {\n",
       "            background-color:  #ff0000;\n",
       "        }    #T_ba5f33c4_7704_11e9_911c_0242ac130002row4_col16 {\n",
       "            background-color:  #ff0000;\n",
       "        }    #T_ba5f33c4_7704_11e9_911c_0242ac130002row4_col17 {\n",
       "            background-color:  #ff0000;\n",
       "        }    #T_ba5f33c4_7704_11e9_911c_0242ac130002row4_col18 {\n",
       "            background-color:  #ff0000;\n",
       "        }    #T_ba5f33c4_7704_11e9_911c_0242ac130002row4_col19 {\n",
       "            background-color:  #ff0000;\n",
       "        }    #T_ba5f33c4_7704_11e9_911c_0242ac130002row4_col20 {\n",
       "            background-color:  #ff0000;\n",
       "        }    #T_ba5f33c4_7704_11e9_911c_0242ac130002row4_col21 {\n",
       "            background-color:  #ff0000;\n",
       "        }    #T_ba5f33c4_7704_11e9_911c_0242ac130002row4_col22 {\n",
       "            background-color:  #ff0000;\n",
       "        }    #T_ba5f33c4_7704_11e9_911c_0242ac130002row4_col23 {\n",
       "            background-color:  #ff0000;\n",
       "        }</style>  \n",
       "<table id=\"T_ba5f33c4_7704_11e9_911c_0242ac130002\" > \n",
       "<thead>    <tr> \n",
       "        <th class=\"blank\" ></th> \n",
       "        <th class=\"index_name level0\" >Age_bin</th> \n",
       "        <th class=\"col_heading level0 col0\" colspan=3>1.0</th> \n",
       "        <th class=\"col_heading level0 col3\" colspan=3>2.0</th> \n",
       "        <th class=\"col_heading level0 col6\" colspan=3>3.0</th> \n",
       "        <th class=\"col_heading level0 col9\" colspan=3>4.0</th> \n",
       "        <th class=\"col_heading level0 col12\" colspan=3>5.0</th> \n",
       "        <th class=\"col_heading level0 col15\" colspan=3>6.0</th> \n",
       "        <th class=\"col_heading level0 col18\" colspan=3>7.0</th> \n",
       "        <th class=\"col_heading level0 col21\" colspan=2>8.0</th> \n",
       "        <th class=\"col_heading level0 col23\" >All</th> \n",
       "    </tr>    <tr> \n",
       "        <th class=\"blank\" ></th> \n",
       "        <th class=\"index_name level1\" >Pclass</th> \n",
       "        <th class=\"col_heading level1 col0\" >1</th> \n",
       "        <th class=\"col_heading level1 col1\" >2</th> \n",
       "        <th class=\"col_heading level1 col2\" >3</th> \n",
       "        <th class=\"col_heading level1 col3\" >1</th> \n",
       "        <th class=\"col_heading level1 col4\" >2</th> \n",
       "        <th class=\"col_heading level1 col5\" >3</th> \n",
       "        <th class=\"col_heading level1 col6\" >1</th> \n",
       "        <th class=\"col_heading level1 col7\" >2</th> \n",
       "        <th class=\"col_heading level1 col8\" >3</th> \n",
       "        <th class=\"col_heading level1 col9\" >1</th> \n",
       "        <th class=\"col_heading level1 col10\" >2</th> \n",
       "        <th class=\"col_heading level1 col11\" >3</th> \n",
       "        <th class=\"col_heading level1 col12\" >1</th> \n",
       "        <th class=\"col_heading level1 col13\" >2</th> \n",
       "        <th class=\"col_heading level1 col14\" >3</th> \n",
       "        <th class=\"col_heading level1 col15\" >1</th> \n",
       "        <th class=\"col_heading level1 col16\" >2</th> \n",
       "        <th class=\"col_heading level1 col17\" >3</th> \n",
       "        <th class=\"col_heading level1 col18\" >1</th> \n",
       "        <th class=\"col_heading level1 col19\" >2</th> \n",
       "        <th class=\"col_heading level1 col20\" >3</th> \n",
       "        <th class=\"col_heading level1 col21\" >1</th> \n",
       "        <th class=\"col_heading level1 col22\" >3</th> \n",
       "        <th class=\"col_heading level1 col23\" ></th> \n",
       "    </tr>    <tr> \n",
       "        <th class=\"index_name level0\" >Sex</th> \n",
       "        <th class=\"index_name level1\" >Survived</th> \n",
       "        <th class=\"blank\" ></th> \n",
       "        <th class=\"blank\" ></th> \n",
       "        <th class=\"blank\" ></th> \n",
       "        <th class=\"blank\" ></th> \n",
       "        <th class=\"blank\" ></th> \n",
       "        <th class=\"blank\" ></th> \n",
       "        <th class=\"blank\" ></th> \n",
       "        <th class=\"blank\" ></th> \n",
       "        <th class=\"blank\" ></th> \n",
       "        <th class=\"blank\" ></th> \n",
       "        <th class=\"blank\" ></th> \n",
       "        <th class=\"blank\" ></th> \n",
       "        <th class=\"blank\" ></th> \n",
       "        <th class=\"blank\" ></th> \n",
       "        <th class=\"blank\" ></th> \n",
       "        <th class=\"blank\" ></th> \n",
       "        <th class=\"blank\" ></th> \n",
       "        <th class=\"blank\" ></th> \n",
       "        <th class=\"blank\" ></th> \n",
       "        <th class=\"blank\" ></th> \n",
       "        <th class=\"blank\" ></th> \n",
       "        <th class=\"blank\" ></th> \n",
       "        <th class=\"blank\" ></th> \n",
       "        <th class=\"blank\" ></th> \n",
       "    </tr></thead> \n",
       "<tbody>    <tr> \n",
       "        <th id=\"T_ba5f33c4_7704_11e9_911c_0242ac130002level0_row0\" class=\"row_heading level0 row0\" rowspan=2>female</th> \n",
       "        <th id=\"T_ba5f33c4_7704_11e9_911c_0242ac130002level1_row0\" class=\"row_heading level1 row0\" >0</th> \n",
       "        <td id=\"T_ba5f33c4_7704_11e9_911c_0242ac130002row0_col0\" class=\"data row0 col0\" >1</td> \n",
       "        <td id=\"T_ba5f33c4_7704_11e9_911c_0242ac130002row0_col1\" class=\"data row0 col1\" >0</td> \n",
       "        <td id=\"T_ba5f33c4_7704_11e9_911c_0242ac130002row0_col2\" class=\"data row0 col2\" >11</td> \n",
       "        <td id=\"T_ba5f33c4_7704_11e9_911c_0242ac130002row0_col3\" class=\"data row0 col3\" >0</td> \n",
       "        <td id=\"T_ba5f33c4_7704_11e9_911c_0242ac130002row0_col4\" class=\"data row0 col4\" >0</td> \n",
       "        <td id=\"T_ba5f33c4_7704_11e9_911c_0242ac130002row0_col5\" class=\"data row0 col5\" >12</td> \n",
       "        <td id=\"T_ba5f33c4_7704_11e9_911c_0242ac130002row0_col6\" class=\"data row0 col6\" >1</td> \n",
       "        <td id=\"T_ba5f33c4_7704_11e9_911c_0242ac130002row0_col7\" class=\"data row0 col7\" >3</td> \n",
       "        <td id=\"T_ba5f33c4_7704_11e9_911c_0242ac130002row0_col8\" class=\"data row0 col8\" >16</td> \n",
       "        <td id=\"T_ba5f33c4_7704_11e9_911c_0242ac130002row0_col9\" class=\"data row0 col9\" >0</td> \n",
       "        <td id=\"T_ba5f33c4_7704_11e9_911c_0242ac130002row0_col10\" class=\"data row0 col10\" >1</td> \n",
       "        <td id=\"T_ba5f33c4_7704_11e9_911c_0242ac130002row0_col11\" class=\"data row0 col11\" >8</td> \n",
       "        <td id=\"T_ba5f33c4_7704_11e9_911c_0242ac130002row0_col12\" class=\"data row0 col12\" >1</td> \n",
       "        <td id=\"T_ba5f33c4_7704_11e9_911c_0242ac130002row0_col13\" class=\"data row0 col13\" >1</td> \n",
       "        <td id=\"T_ba5f33c4_7704_11e9_911c_0242ac130002row0_col14\" class=\"data row0 col14\" >8</td> \n",
       "        <td id=\"T_ba5f33c4_7704_11e9_911c_0242ac130002row0_col15\" class=\"data row0 col15\" >0</td> \n",
       "        <td id=\"T_ba5f33c4_7704_11e9_911c_0242ac130002row0_col16\" class=\"data row0 col16\" >1</td> \n",
       "        <td id=\"T_ba5f33c4_7704_11e9_911c_0242ac130002row0_col17\" class=\"data row0 col17\" >0</td> \n",
       "        <td id=\"T_ba5f33c4_7704_11e9_911c_0242ac130002row0_col18\" class=\"data row0 col18\" >0</td> \n",
       "        <td id=\"T_ba5f33c4_7704_11e9_911c_0242ac130002row0_col19\" class=\"data row0 col19\" >0</td> \n",
       "        <td id=\"T_ba5f33c4_7704_11e9_911c_0242ac130002row0_col20\" class=\"data row0 col20\" >0</td> \n",
       "        <td id=\"T_ba5f33c4_7704_11e9_911c_0242ac130002row0_col21\" class=\"data row0 col21\" >0</td> \n",
       "        <td id=\"T_ba5f33c4_7704_11e9_911c_0242ac130002row0_col22\" class=\"data row0 col22\" >0</td> \n",
       "        <td id=\"T_ba5f33c4_7704_11e9_911c_0242ac130002row0_col23\" class=\"data row0 col23\" >64</td> \n",
       "    </tr>    <tr> \n",
       "        <th id=\"T_ba5f33c4_7704_11e9_911c_0242ac130002level1_row1\" class=\"row_heading level1 row1\" >1</th> \n",
       "        <td id=\"T_ba5f33c4_7704_11e9_911c_0242ac130002row1_col0\" class=\"data row1 col0\" >0</td> \n",
       "        <td id=\"T_ba5f33c4_7704_11e9_911c_0242ac130002row1_col1\" class=\"data row1 col1\" >8</td> \n",
       "        <td id=\"T_ba5f33c4_7704_11e9_911c_0242ac130002row1_col2\" class=\"data row1 col2\" >11</td> \n",
       "        <td id=\"T_ba5f33c4_7704_11e9_911c_0242ac130002row1_col3\" class=\"data row1 col3\" >13</td> \n",
       "        <td id=\"T_ba5f33c4_7704_11e9_911c_0242ac130002row1_col4\" class=\"data row1 col4\" >8</td> \n",
       "        <td id=\"T_ba5f33c4_7704_11e9_911c_0242ac130002row1_col5\" class=\"data row1 col5\" >13</td> \n",
       "        <td id=\"T_ba5f33c4_7704_11e9_911c_0242ac130002row1_col6\" class=\"data row1 col6\" >20</td> \n",
       "        <td id=\"T_ba5f33c4_7704_11e9_911c_0242ac130002row1_col7\" class=\"data row1 col7\" >25</td> \n",
       "        <td id=\"T_ba5f33c4_7704_11e9_911c_0242ac130002row1_col8\" class=\"data row1 col8\" >16</td> \n",
       "        <td id=\"T_ba5f33c4_7704_11e9_911c_0242ac130002row1_col9\" class=\"data row1 col9\" >24</td> \n",
       "        <td id=\"T_ba5f33c4_7704_11e9_911c_0242ac130002row1_col10\" class=\"data row1 col10\" >16</td> \n",
       "        <td id=\"T_ba5f33c4_7704_11e9_911c_0242ac130002row1_col11\" class=\"data row1 col11\" >6</td> \n",
       "        <td id=\"T_ba5f33c4_7704_11e9_911c_0242ac130002row1_col12\" class=\"data row1 col12\" >12</td> \n",
       "        <td id=\"T_ba5f33c4_7704_11e9_911c_0242ac130002row1_col13\" class=\"data row1 col13\" >9</td> \n",
       "        <td id=\"T_ba5f33c4_7704_11e9_911c_0242ac130002row1_col14\" class=\"data row1 col14\" >0</td> \n",
       "        <td id=\"T_ba5f33c4_7704_11e9_911c_0242ac130002row1_col15\" class=\"data row1 col15\" >11</td> \n",
       "        <td id=\"T_ba5f33c4_7704_11e9_911c_0242ac130002row1_col16\" class=\"data row1 col16\" >2</td> \n",
       "        <td id=\"T_ba5f33c4_7704_11e9_911c_0242ac130002row1_col17\" class=\"data row1 col17\" >0</td> \n",
       "        <td id=\"T_ba5f33c4_7704_11e9_911c_0242ac130002row1_col18\" class=\"data row1 col18\" >2</td> \n",
       "        <td id=\"T_ba5f33c4_7704_11e9_911c_0242ac130002row1_col19\" class=\"data row1 col19\" >0</td> \n",
       "        <td id=\"T_ba5f33c4_7704_11e9_911c_0242ac130002row1_col20\" class=\"data row1 col20\" >1</td> \n",
       "        <td id=\"T_ba5f33c4_7704_11e9_911c_0242ac130002row1_col21\" class=\"data row1 col21\" >0</td> \n",
       "        <td id=\"T_ba5f33c4_7704_11e9_911c_0242ac130002row1_col22\" class=\"data row1 col22\" >0</td> \n",
       "        <td id=\"T_ba5f33c4_7704_11e9_911c_0242ac130002row1_col23\" class=\"data row1 col23\" >197</td> \n",
       "    </tr>    <tr> \n",
       "        <th id=\"T_ba5f33c4_7704_11e9_911c_0242ac130002level0_row2\" class=\"row_heading level0 row2\" rowspan=2>male</th> \n",
       "        <th id=\"T_ba5f33c4_7704_11e9_911c_0242ac130002level1_row2\" class=\"row_heading level1 row2\" >0</th> \n",
       "        <td id=\"T_ba5f33c4_7704_11e9_911c_0242ac130002row2_col0\" class=\"data row2 col0\" >0</td> \n",
       "        <td id=\"T_ba5f33c4_7704_11e9_911c_0242ac130002row2_col1\" class=\"data row2 col1\" >0</td> \n",
       "        <td id=\"T_ba5f33c4_7704_11e9_911c_0242ac130002row2_col2\" class=\"data row2 col2\" >14</td> \n",
       "        <td id=\"T_ba5f33c4_7704_11e9_911c_0242ac130002row2_col3\" class=\"data row2 col3\" >3</td> \n",
       "        <td id=\"T_ba5f33c4_7704_11e9_911c_0242ac130002row2_col4\" class=\"data row2 col4\" >9</td> \n",
       "        <td id=\"T_ba5f33c4_7704_11e9_911c_0242ac130002row2_col5\" class=\"data row2 col5\" >47</td> \n",
       "        <td id=\"T_ba5f33c4_7704_11e9_911c_0242ac130002row2_col6\" class=\"data row2 col6\" >10</td> \n",
       "        <td id=\"T_ba5f33c4_7704_11e9_911c_0242ac130002row2_col7\" class=\"data row2 col7\" >33</td> \n",
       "        <td id=\"T_ba5f33c4_7704_11e9_911c_0242ac130002row2_col8\" class=\"data row2 col8\" >83</td> \n",
       "        <td id=\"T_ba5f33c4_7704_11e9_911c_0242ac130002row2_col9\" class=\"data row2 col9\" >12</td> \n",
       "        <td id=\"T_ba5f33c4_7704_11e9_911c_0242ac130002row2_col10\" class=\"data row2 col10\" >23</td> \n",
       "        <td id=\"T_ba5f33c4_7704_11e9_911c_0242ac130002row2_col11\" class=\"data row2 col11\" >42</td> \n",
       "        <td id=\"T_ba5f33c4_7704_11e9_911c_0242ac130002row2_col12\" class=\"data row2 col12\" >15</td> \n",
       "        <td id=\"T_ba5f33c4_7704_11e9_911c_0242ac130002row2_col13\" class=\"data row2 col13\" >8</td> \n",
       "        <td id=\"T_ba5f33c4_7704_11e9_911c_0242ac130002row2_col14\" class=\"data row2 col14\" >20</td> \n",
       "        <td id=\"T_ba5f33c4_7704_11e9_911c_0242ac130002row2_col15\" class=\"data row2 col15\" >10</td> \n",
       "        <td id=\"T_ba5f33c4_7704_11e9_911c_0242ac130002row2_col16\" class=\"data row2 col16\" >9</td> \n",
       "        <td id=\"T_ba5f33c4_7704_11e9_911c_0242ac130002row2_col17\" class=\"data row2 col17\" >5</td> \n",
       "        <td id=\"T_ba5f33c4_7704_11e9_911c_0242ac130002row2_col18\" class=\"data row2 col18\" >9</td> \n",
       "        <td id=\"T_ba5f33c4_7704_11e9_911c_0242ac130002row2_col19\" class=\"data row2 col19\" >2</td> \n",
       "        <td id=\"T_ba5f33c4_7704_11e9_911c_0242ac130002row2_col20\" class=\"data row2 col20\" >2</td> \n",
       "        <td id=\"T_ba5f33c4_7704_11e9_911c_0242ac130002row2_col21\" class=\"data row2 col21\" >2</td> \n",
       "        <td id=\"T_ba5f33c4_7704_11e9_911c_0242ac130002row2_col22\" class=\"data row2 col22\" >2</td> \n",
       "        <td id=\"T_ba5f33c4_7704_11e9_911c_0242ac130002row2_col23\" class=\"data row2 col23\" >360</td> \n",
       "    </tr>    <tr> \n",
       "        <th id=\"T_ba5f33c4_7704_11e9_911c_0242ac130002level1_row3\" class=\"row_heading level1 row3\" >1</th> \n",
       "        <td id=\"T_ba5f33c4_7704_11e9_911c_0242ac130002row3_col0\" class=\"data row3 col0\" >2</td> \n",
       "        <td id=\"T_ba5f33c4_7704_11e9_911c_0242ac130002row3_col1\" class=\"data row3 col1\" >9</td> \n",
       "        <td id=\"T_ba5f33c4_7704_11e9_911c_0242ac130002row3_col2\" class=\"data row3 col2\" >8</td> \n",
       "        <td id=\"T_ba5f33c4_7704_11e9_911c_0242ac130002row3_col3\" class=\"data row3 col3\" >2</td> \n",
       "        <td id=\"T_ba5f33c4_7704_11e9_911c_0242ac130002row3_col4\" class=\"data row3 col4\" >1</td> \n",
       "        <td id=\"T_ba5f33c4_7704_11e9_911c_0242ac130002row3_col5\" class=\"data row3 col5\" >7</td> \n",
       "        <td id=\"T_ba5f33c4_7704_11e9_911c_0242ac130002row3_col6\" class=\"data row3 col6\" >9</td> \n",
       "        <td id=\"T_ba5f33c4_7704_11e9_911c_0242ac130002row3_col7\" class=\"data row3 col7\" >0</td> \n",
       "        <td id=\"T_ba5f33c4_7704_11e9_911c_0242ac130002row3_col8\" class=\"data row3 col8\" >14</td> \n",
       "        <td id=\"T_ba5f33c4_7704_11e9_911c_0242ac130002row3_col9\" class=\"data row3 col9\" >13</td> \n",
       "        <td id=\"T_ba5f33c4_7704_11e9_911c_0242ac130002row3_col10\" class=\"data row3 col10\" >3</td> \n",
       "        <td id=\"T_ba5f33c4_7704_11e9_911c_0242ac130002row3_col11\" class=\"data row3 col11\" >7</td> \n",
       "        <td id=\"T_ba5f33c4_7704_11e9_911c_0242ac130002row3_col12\" class=\"data row3 col12\" >9</td> \n",
       "        <td id=\"T_ba5f33c4_7704_11e9_911c_0242ac130002row3_col13\" class=\"data row3 col13\" >1</td> \n",
       "        <td id=\"T_ba5f33c4_7704_11e9_911c_0242ac130002row3_col14\" class=\"data row3 col14\" >2</td> \n",
       "        <td id=\"T_ba5f33c4_7704_11e9_911c_0242ac130002row3_col15\" class=\"data row3 col15\" >4</td> \n",
       "        <td id=\"T_ba5f33c4_7704_11e9_911c_0242ac130002row3_col16\" class=\"data row3 col16\" >0</td> \n",
       "        <td id=\"T_ba5f33c4_7704_11e9_911c_0242ac130002row3_col17\" class=\"data row3 col17\" >0</td> \n",
       "        <td id=\"T_ba5f33c4_7704_11e9_911c_0242ac130002row3_col18\" class=\"data row3 col18\" >0</td> \n",
       "        <td id=\"T_ba5f33c4_7704_11e9_911c_0242ac130002row3_col19\" class=\"data row3 col19\" >1</td> \n",
       "        <td id=\"T_ba5f33c4_7704_11e9_911c_0242ac130002row3_col20\" class=\"data row3 col20\" >0</td> \n",
       "        <td id=\"T_ba5f33c4_7704_11e9_911c_0242ac130002row3_col21\" class=\"data row3 col21\" >1</td> \n",
       "        <td id=\"T_ba5f33c4_7704_11e9_911c_0242ac130002row3_col22\" class=\"data row3 col22\" >0</td> \n",
       "        <td id=\"T_ba5f33c4_7704_11e9_911c_0242ac130002row3_col23\" class=\"data row3 col23\" >93</td> \n",
       "    </tr>    <tr> \n",
       "        <th id=\"T_ba5f33c4_7704_11e9_911c_0242ac130002level0_row4\" class=\"row_heading level0 row4\" >All</th> \n",
       "        <th id=\"T_ba5f33c4_7704_11e9_911c_0242ac130002level1_row4\" class=\"row_heading level1 row4\" ></th> \n",
       "        <td id=\"T_ba5f33c4_7704_11e9_911c_0242ac130002row4_col0\" class=\"data row4 col0\" >3</td> \n",
       "        <td id=\"T_ba5f33c4_7704_11e9_911c_0242ac130002row4_col1\" class=\"data row4 col1\" >17</td> \n",
       "        <td id=\"T_ba5f33c4_7704_11e9_911c_0242ac130002row4_col2\" class=\"data row4 col2\" >44</td> \n",
       "        <td id=\"T_ba5f33c4_7704_11e9_911c_0242ac130002row4_col3\" class=\"data row4 col3\" >18</td> \n",
       "        <td id=\"T_ba5f33c4_7704_11e9_911c_0242ac130002row4_col4\" class=\"data row4 col4\" >18</td> \n",
       "        <td id=\"T_ba5f33c4_7704_11e9_911c_0242ac130002row4_col5\" class=\"data row4 col5\" >79</td> \n",
       "        <td id=\"T_ba5f33c4_7704_11e9_911c_0242ac130002row4_col6\" class=\"data row4 col6\" >40</td> \n",
       "        <td id=\"T_ba5f33c4_7704_11e9_911c_0242ac130002row4_col7\" class=\"data row4 col7\" >61</td> \n",
       "        <td id=\"T_ba5f33c4_7704_11e9_911c_0242ac130002row4_col8\" class=\"data row4 col8\" >129</td> \n",
       "        <td id=\"T_ba5f33c4_7704_11e9_911c_0242ac130002row4_col9\" class=\"data row4 col9\" >49</td> \n",
       "        <td id=\"T_ba5f33c4_7704_11e9_911c_0242ac130002row4_col10\" class=\"data row4 col10\" >43</td> \n",
       "        <td id=\"T_ba5f33c4_7704_11e9_911c_0242ac130002row4_col11\" class=\"data row4 col11\" >63</td> \n",
       "        <td id=\"T_ba5f33c4_7704_11e9_911c_0242ac130002row4_col12\" class=\"data row4 col12\" >37</td> \n",
       "        <td id=\"T_ba5f33c4_7704_11e9_911c_0242ac130002row4_col13\" class=\"data row4 col13\" >19</td> \n",
       "        <td id=\"T_ba5f33c4_7704_11e9_911c_0242ac130002row4_col14\" class=\"data row4 col14\" >30</td> \n",
       "        <td id=\"T_ba5f33c4_7704_11e9_911c_0242ac130002row4_col15\" class=\"data row4 col15\" >25</td> \n",
       "        <td id=\"T_ba5f33c4_7704_11e9_911c_0242ac130002row4_col16\" class=\"data row4 col16\" >12</td> \n",
       "        <td id=\"T_ba5f33c4_7704_11e9_911c_0242ac130002row4_col17\" class=\"data row4 col17\" >5</td> \n",
       "        <td id=\"T_ba5f33c4_7704_11e9_911c_0242ac130002row4_col18\" class=\"data row4 col18\" >11</td> \n",
       "        <td id=\"T_ba5f33c4_7704_11e9_911c_0242ac130002row4_col19\" class=\"data row4 col19\" >3</td> \n",
       "        <td id=\"T_ba5f33c4_7704_11e9_911c_0242ac130002row4_col20\" class=\"data row4 col20\" >3</td> \n",
       "        <td id=\"T_ba5f33c4_7704_11e9_911c_0242ac130002row4_col21\" class=\"data row4 col21\" >3</td> \n",
       "        <td id=\"T_ba5f33c4_7704_11e9_911c_0242ac130002row4_col22\" class=\"data row4 col22\" >2</td> \n",
       "        <td id=\"T_ba5f33c4_7704_11e9_911c_0242ac130002row4_col23\" class=\"data row4 col23\" >714</td> \n",
       "    </tr></tbody> \n",
       "</table> "
      ],
      "text/plain": [
       "<pandas.io.formats.style.Styler at 0x7f95b3123160>"
      ]
     },
     "execution_count": 33,
     "metadata": {},
     "output_type": "execute_result"
    }
   ],
   "source": [
    "pd.crosstab([df_train.Sex, df_train.Survived], [df_train.Age_bin, df_train.Pclass], margins=True).style.background_gradient(cmap='autumn_r')"
   ]
  },
  {
   "cell_type": "markdown",
   "metadata": {
    "_cell_guid": "8af62a6c-65e4-4383-9ea9-daae642f0427",
    "_uuid": "57605b4aefcee3d5ff35c530fdff83c6ffccb3db",
    "collapsed": true
   },
   "source": [
    "For passengers in Age_bin = 1 (younger than 10) : All male in Pclass 1 and 2 survived\n",
    "\n",
    "All female in Pclass 3 and Age_bin = 5 died. \n",
    "\n",
    "(Survival rate for female in Pclass 3 and Age_bin = 4 is below 50%)\n",
    "\n",
    "(Survival rate for male in Pclass 1 and Age_bin = 4 is above 50%)\n",
    "\n"
   ]
  },
  {
   "cell_type": "code",
   "execution_count": 34,
   "metadata": {
    "_cell_guid": "44cc892a-5f66-4768-947d-029ec46f8b6f",
    "_uuid": "bc2d2102e698e2e1d02b3b50d6eecd7b5ce4f3fa"
   },
   "outputs": [],
   "source": [
    "# in Pclass 1 and 2 all men in Age_bin = 1 survived\n",
    "df_test.loc[ (df_test.Sex == 'male') & (df_test.Pclass == 1) & (df_test.Age_bin == 1), 'Survived'] = 1\n",
    "df_test.loc[ (df_test.Sex == 'male') & (df_test.Pclass == 2) & (df_test.Age_bin == 1), 'Survived'] = 1"
   ]
  },
  {
   "cell_type": "markdown",
   "metadata": {
    "_cell_guid": "6027c753-0a2a-4fe0-b9a8-b151aba7db7e",
    "_uuid": "747b94caf67dd939f761453c7d53e187bbf7d815"
   },
   "source": [
    "**SibSp and Parch**"
   ]
  },
  {
   "cell_type": "code",
   "execution_count": 35,
   "metadata": {
    "_cell_guid": "7664f482-0caa-4614-8fe1-419d5b25eeb4",
    "_uuid": "118acf7db03474aa7bb41588f1e1b7475ab6abb8"
   },
   "outputs": [
    {
     "data": {
      "image/png": "[encoded data removed]",
      "text/plain": [
       "<Figure size 1080x720 with 6 Axes>"
      ]
     },
     "metadata": {},
     "output_type": "display_data"
    }
   ],
   "source": [
    "sns.catplot('SibSp','Survived', col='Pclass' , row = 'Sex', kind='point', data=df_train);"
   ]
  },
  {
   "cell_type": "code",
   "execution_count": 36,
   "metadata": {
    "_cell_guid": "9a22dfd7-5f7a-42d5-9e0f-ba72238f9f40",
    "_uuid": "9aaf8e3e51e52aac54cd0818b7284ff9e3ea876e"
   },
   "outputs": [
    {
     "data": {
      "text/html": [
       "<style  type=\"text/css\" >\n",
       "    #T_bbcad0a6_7704_11e9_911c_0242ac130002row0_col0 {\n",
       "            background-color:  #ffff00;\n",
       "        }    #T_bbcad0a6_7704_11e9_911c_0242ac130002row0_col1 {\n",
       "            background-color:  #ffff00;\n",
       "        }    #T_bbcad0a6_7704_11e9_911c_0242ac130002row0_col2 {\n",
       "            background-color:  #ffff00;\n",
       "        }    #T_bbcad0a6_7704_11e9_911c_0242ac130002row0_col3 {\n",
       "            background-color:  #ffff00;\n",
       "        }    #T_bbcad0a6_7704_11e9_911c_0242ac130002row0_col4 {\n",
       "            background-color:  #ffff00;\n",
       "        }    #T_bbcad0a6_7704_11e9_911c_0242ac130002row0_col5 {\n",
       "            background-color:  #ffd900;\n",
       "        }    #T_bbcad0a6_7704_11e9_911c_0242ac130002row0_col6 {\n",
       "            background-color:  #ffff00;\n",
       "        }    #T_bbcad0a6_7704_11e9_911c_0242ac130002row0_col7 {\n",
       "            background-color:  #ffff00;\n",
       "        }    #T_bbcad0a6_7704_11e9_911c_0242ac130002row0_col8 {\n",
       "            background-color:  #ffdb00;\n",
       "        }    #T_bbcad0a6_7704_11e9_911c_0242ac130002row0_col9 {\n",
       "            background-color:  #ffff00;\n",
       "        }    #T_bbcad0a6_7704_11e9_911c_0242ac130002row0_col10 {\n",
       "            background-color:  #ffff00;\n",
       "        }    #T_bbcad0a6_7704_11e9_911c_0242ac130002row0_col11 {\n",
       "            background-color:  #ff6a00;\n",
       "        }    #T_bbcad0a6_7704_11e9_911c_0242ac130002row0_col12 {\n",
       "            background-color:  #ffd200;\n",
       "        }    #T_bbcad0a6_7704_11e9_911c_0242ac130002row0_col13 {\n",
       "            background-color:  #ffcc00;\n",
       "        }    #T_bbcad0a6_7704_11e9_911c_0242ac130002row0_col14 {\n",
       "            background-color:  #ff9200;\n",
       "        }    #T_bbcad0a6_7704_11e9_911c_0242ac130002row0_col15 {\n",
       "            background-color:  #ffff00;\n",
       "        }    #T_bbcad0a6_7704_11e9_911c_0242ac130002row1_col0 {\n",
       "            background-color:  #ffa700;\n",
       "        }    #T_bbcad0a6_7704_11e9_911c_0242ac130002row1_col1 {\n",
       "            background-color:  #ffac00;\n",
       "        }    #T_bbcad0a6_7704_11e9_911c_0242ac130002row1_col2 {\n",
       "            background-color:  #fff300;\n",
       "        }    #T_bbcad0a6_7704_11e9_911c_0242ac130002row1_col3 {\n",
       "            background-color:  #ff7a00;\n",
       "        }    #T_bbcad0a6_7704_11e9_911c_0242ac130002row1_col4 {\n",
       "            background-color:  #ff9300;\n",
       "        }    #T_bbcad0a6_7704_11e9_911c_0242ac130002row1_col5 {\n",
       "            background-color:  #ffe700;\n",
       "        }    #T_bbcad0a6_7704_11e9_911c_0242ac130002row1_col6 {\n",
       "            background-color:  #ff6600;\n",
       "        }    #T_bbcad0a6_7704_11e9_911c_0242ac130002row1_col7 {\n",
       "            background-color:  #ff9f00;\n",
       "        }    #T_bbcad0a6_7704_11e9_911c_0242ac130002row1_col8 {\n",
       "            background-color:  #ffc900;\n",
       "        }    #T_bbcad0a6_7704_11e9_911c_0242ac130002row1_col9 {\n",
       "            background-color:  #ff5500;\n",
       "        }    #T_bbcad0a6_7704_11e9_911c_0242ac130002row1_col10 {\n",
       "            background-color:  #ff0000;\n",
       "        }    #T_bbcad0a6_7704_11e9_911c_0242ac130002row1_col11 {\n",
       "            background-color:  #ffea00;\n",
       "        }    #T_bbcad0a6_7704_11e9_911c_0242ac130002row1_col12 {\n",
       "            background-color:  #fff000;\n",
       "        }    #T_bbcad0a6_7704_11e9_911c_0242ac130002row1_col13 {\n",
       "            background-color:  #ffff00;\n",
       "        }    #T_bbcad0a6_7704_11e9_911c_0242ac130002row1_col14 {\n",
       "            background-color:  #ffff00;\n",
       "        }    #T_bbcad0a6_7704_11e9_911c_0242ac130002row1_col15 {\n",
       "            background-color:  #ffcf00;\n",
       "        }    #T_bbcad0a6_7704_11e9_911c_0242ac130002row2_col0 {\n",
       "            background-color:  #ff9200;\n",
       "        }    #T_bbcad0a6_7704_11e9_911c_0242ac130002row2_col1 {\n",
       "            background-color:  #ff7300;\n",
       "        }    #T_bbcad0a6_7704_11e9_911c_0242ac130002row2_col2 {\n",
       "            background-color:  #ff5d00;\n",
       "        }    #T_bbcad0a6_7704_11e9_911c_0242ac130002row2_col3 {\n",
       "            background-color:  #ffcc00;\n",
       "        }    #T_bbcad0a6_7704_11e9_911c_0242ac130002row2_col4 {\n",
       "            background-color:  #ffac00;\n",
       "        }    #T_bbcad0a6_7704_11e9_911c_0242ac130002row2_col5 {\n",
       "            background-color:  #ffa800;\n",
       "        }    #T_bbcad0a6_7704_11e9_911c_0242ac130002row2_col6 {\n",
       "            background-color:  #ffcc00;\n",
       "        }    #T_bbcad0a6_7704_11e9_911c_0242ac130002row2_col7 {\n",
       "            background-color:  #ff7f00;\n",
       "        }    #T_bbcad0a6_7704_11e9_911c_0242ac130002row2_col8 {\n",
       "            background-color:  #ff9200;\n",
       "        }    #T_bbcad0a6_7704_11e9_911c_0242ac130002row2_col9 {\n",
       "            background-color:  #ffaa00;\n",
       "        }    #T_bbcad0a6_7704_11e9_911c_0242ac130002row2_col10 {\n",
       "            background-color:  #ffff00;\n",
       "        }    #T_bbcad0a6_7704_11e9_911c_0242ac130002row2_col11 {\n",
       "            background-color:  #ffaa00;\n",
       "        }    #T_bbcad0a6_7704_11e9_911c_0242ac130002row2_col12 {\n",
       "            background-color:  #ff6900;\n",
       "        }    #T_bbcad0a6_7704_11e9_911c_0242ac130002row2_col13 {\n",
       "            background-color:  #ff3300;\n",
       "        }    #T_bbcad0a6_7704_11e9_911c_0242ac130002row2_col14 {\n",
       "            background-color:  #ff6d00;\n",
       "        }    #T_bbcad0a6_7704_11e9_911c_0242ac130002row2_col15 {\n",
       "            background-color:  #ff8500;\n",
       "        }    #T_bbcad0a6_7704_11e9_911c_0242ac130002row3_col0 {\n",
       "            background-color:  #ffcb00;\n",
       "        }    #T_bbcad0a6_7704_11e9_911c_0242ac130002row3_col1 {\n",
       "            background-color:  #fff200;\n",
       "        }    #T_bbcad0a6_7704_11e9_911c_0242ac130002row3_col2 {\n",
       "            background-color:  #fffe00;\n",
       "        }    #T_bbcad0a6_7704_11e9_911c_0242ac130002row3_col3 {\n",
       "            background-color:  #ffcf00;\n",
       "        }    #T_bbcad0a6_7704_11e9_911c_0242ac130002row3_col4 {\n",
       "            background-color:  #ffec00;\n",
       "        }    #T_bbcad0a6_7704_11e9_911c_0242ac130002row3_col5 {\n",
       "            background-color:  #ffff00;\n",
       "        }    #T_bbcad0a6_7704_11e9_911c_0242ac130002row3_col6 {\n",
       "            background-color:  #ffcc00;\n",
       "        }    #T_bbcad0a6_7704_11e9_911c_0242ac130002row3_col7 {\n",
       "            background-color:  #ffdf00;\n",
       "        }    #T_bbcad0a6_7704_11e9_911c_0242ac130002row3_col8 {\n",
       "            background-color:  #ffff00;\n",
       "        }    #T_bbcad0a6_7704_11e9_911c_0242ac130002row3_col9 {\n",
       "            background-color:  #ffff00;\n",
       "        }    #T_bbcad0a6_7704_11e9_911c_0242ac130002row3_col10 {\n",
       "            background-color:  #ffff00;\n",
       "        }    #T_bbcad0a6_7704_11e9_911c_0242ac130002row3_col11 {\n",
       "            background-color:  #ffff00;\n",
       "        }    #T_bbcad0a6_7704_11e9_911c_0242ac130002row3_col12 {\n",
       "            background-color:  #ffff00;\n",
       "        }    #T_bbcad0a6_7704_11e9_911c_0242ac130002row3_col13 {\n",
       "            background-color:  #ffff00;\n",
       "        }    #T_bbcad0a6_7704_11e9_911c_0242ac130002row3_col14 {\n",
       "            background-color:  #ffff00;\n",
       "        }    #T_bbcad0a6_7704_11e9_911c_0242ac130002row3_col15 {\n",
       "            background-color:  #fff700;\n",
       "        }    #T_bbcad0a6_7704_11e9_911c_0242ac130002row4_col0 {\n",
       "            background-color:  #ff0000;\n",
       "        }    #T_bbcad0a6_7704_11e9_911c_0242ac130002row4_col1 {\n",
       "            background-color:  #ff0000;\n",
       "        }    #T_bbcad0a6_7704_11e9_911c_0242ac130002row4_col2 {\n",
       "            background-color:  #ff0000;\n",
       "        }    #T_bbcad0a6_7704_11e9_911c_0242ac130002row4_col3 {\n",
       "            background-color:  #ff0000;\n",
       "        }    #T_bbcad0a6_7704_11e9_911c_0242ac130002row4_col4 {\n",
       "            background-color:  #ff0000;\n",
       "        }    #T_bbcad0a6_7704_11e9_911c_0242ac130002row4_col5 {\n",
       "            background-color:  #ff0000;\n",
       "        }    #T_bbcad0a6_7704_11e9_911c_0242ac130002row4_col6 {\n",
       "            background-color:  #ff0000;\n",
       "        }    #T_bbcad0a6_7704_11e9_911c_0242ac130002row4_col7 {\n",
       "            background-color:  #ff0000;\n",
       "        }    #T_bbcad0a6_7704_11e9_911c_0242ac130002row4_col8 {\n",
       "            background-color:  #ff0000;\n",
       "        }    #T_bbcad0a6_7704_11e9_911c_0242ac130002row4_col9 {\n",
       "            background-color:  #ff0000;\n",
       "        }    #T_bbcad0a6_7704_11e9_911c_0242ac130002row4_col10 {\n",
       "            background-color:  #ff0000;\n",
       "        }    #T_bbcad0a6_7704_11e9_911c_0242ac130002row4_col11 {\n",
       "            background-color:  #ff0000;\n",
       "        }    #T_bbcad0a6_7704_11e9_911c_0242ac130002row4_col12 {\n",
       "            background-color:  #ff0000;\n",
       "        }    #T_bbcad0a6_7704_11e9_911c_0242ac130002row4_col13 {\n",
       "            background-color:  #ff0000;\n",
       "        }    #T_bbcad0a6_7704_11e9_911c_0242ac130002row4_col14 {\n",
       "            background-color:  #ff0000;\n",
       "        }    #T_bbcad0a6_7704_11e9_911c_0242ac130002row4_col15 {\n",
       "            background-color:  #ff0000;\n",
       "        }</style>  \n",
       "<table id=\"T_bbcad0a6_7704_11e9_911c_0242ac130002\" > \n",
       "<thead>    <tr> \n",
       "        <th class=\"blank\" ></th> \n",
       "        <th class=\"index_name level0\" >SibSp</th> \n",
       "        <th class=\"col_heading level0 col0\" colspan=3>0</th> \n",
       "        <th class=\"col_heading level0 col3\" colspan=3>1</th> \n",
       "        <th class=\"col_heading level0 col6\" colspan=3>2</th> \n",
       "        <th class=\"col_heading level0 col9\" colspan=3>3</th> \n",
       "        <th class=\"col_heading level0 col12\" >4</th> \n",
       "        <th class=\"col_heading level0 col13\" >5</th> \n",
       "        <th class=\"col_heading level0 col14\" >8</th> \n",
       "        <th class=\"col_heading level0 col15\" >All</th> \n",
       "    </tr>    <tr> \n",
       "        <th class=\"blank\" ></th> \n",
       "        <th class=\"index_name level1\" >Pclass</th> \n",
       "        <th class=\"col_heading level1 col0\" >1</th> \n",
       "        <th class=\"col_heading level1 col1\" >2</th> \n",
       "        <th class=\"col_heading level1 col2\" >3</th> \n",
       "        <th class=\"col_heading level1 col3\" >1</th> \n",
       "        <th class=\"col_heading level1 col4\" >2</th> \n",
       "        <th class=\"col_heading level1 col5\" >3</th> \n",
       "        <th class=\"col_heading level1 col6\" >1</th> \n",
       "        <th class=\"col_heading level1 col7\" >2</th> \n",
       "        <th class=\"col_heading level1 col8\" >3</th> \n",
       "        <th class=\"col_heading level1 col9\" >1</th> \n",
       "        <th class=\"col_heading level1 col10\" >2</th> \n",
       "        <th class=\"col_heading level1 col11\" >3</th> \n",
       "        <th class=\"col_heading level1 col12\" >3</th> \n",
       "        <th class=\"col_heading level1 col13\" >3</th> \n",
       "        <th class=\"col_heading level1 col14\" >3</th> \n",
       "        <th class=\"col_heading level1 col15\" ></th> \n",
       "    </tr>    <tr> \n",
       "        <th class=\"index_name level0\" >Sex</th> \n",
       "        <th class=\"index_name level1\" >Survived</th> \n",
       "        <th class=\"blank\" ></th> \n",
       "        <th class=\"blank\" ></th> \n",
       "        <th class=\"blank\" ></th> \n",
       "        <th class=\"blank\" ></th> \n",
       "        <th class=\"blank\" ></th> \n",
       "        <th class=\"blank\" ></th> \n",
       "        <th class=\"blank\" ></th> \n",
       "        <th class=\"blank\" ></th> \n",
       "        <th class=\"blank\" ></th> \n",
       "        <th class=\"blank\" ></th> \n",
       "        <th class=\"blank\" ></th> \n",
       "        <th class=\"blank\" ></th> \n",
       "        <th class=\"blank\" ></th> \n",
       "        <th class=\"blank\" ></th> \n",
       "        <th class=\"blank\" ></th> \n",
       "        <th class=\"blank\" ></th> \n",
       "    </tr></thead> \n",
       "<tbody>    <tr> \n",
       "        <th id=\"T_bbcad0a6_7704_11e9_911c_0242ac130002level0_row0\" class=\"row_heading level0 row0\" rowspan=2>female</th> \n",
       "        <th id=\"T_bbcad0a6_7704_11e9_911c_0242ac130002level1_row0\" class=\"row_heading level1 row0\" >0</th> \n",
       "        <td id=\"T_bbcad0a6_7704_11e9_911c_0242ac130002row0_col0\" class=\"data row0 col0\" >1</td> \n",
       "        <td id=\"T_bbcad0a6_7704_11e9_911c_0242ac130002row0_col1\" class=\"data row0 col1\" >3</td> \n",
       "        <td id=\"T_bbcad0a6_7704_11e9_911c_0242ac130002row0_col2\" class=\"data row0 col2\" >33</td> \n",
       "        <td id=\"T_bbcad0a6_7704_11e9_911c_0242ac130002row0_col3\" class=\"data row0 col3\" >2</td> \n",
       "        <td id=\"T_bbcad0a6_7704_11e9_911c_0242ac130002row0_col4\" class=\"data row0 col4\" >3</td> \n",
       "        <td id=\"T_bbcad0a6_7704_11e9_911c_0242ac130002row0_col5\" class=\"data row0 col5\" >21</td> \n",
       "        <td id=\"T_bbcad0a6_7704_11e9_911c_0242ac130002row0_col6\" class=\"data row0 col6\" >0</td> \n",
       "        <td id=\"T_bbcad0a6_7704_11e9_911c_0242ac130002row0_col7\" class=\"data row0 col7\" >0</td> \n",
       "        <td id=\"T_bbcad0a6_7704_11e9_911c_0242ac130002row0_col8\" class=\"data row0 col8\" >3</td> \n",
       "        <td id=\"T_bbcad0a6_7704_11e9_911c_0242ac130002row0_col9\" class=\"data row0 col9\" >0</td> \n",
       "        <td id=\"T_bbcad0a6_7704_11e9_911c_0242ac130002row0_col10\" class=\"data row0 col10\" >0</td> \n",
       "        <td id=\"T_bbcad0a6_7704_11e9_911c_0242ac130002row0_col11\" class=\"data row0 col11\" >7</td> \n",
       "        <td id=\"T_bbcad0a6_7704_11e9_911c_0242ac130002row0_col12\" class=\"data row0 col12\" >4</td> \n",
       "        <td id=\"T_bbcad0a6_7704_11e9_911c_0242ac130002row0_col13\" class=\"data row0 col13\" >1</td> \n",
       "        <td id=\"T_bbcad0a6_7704_11e9_911c_0242ac130002row0_col14\" class=\"data row0 col14\" >3</td> \n",
       "        <td id=\"T_bbcad0a6_7704_11e9_911c_0242ac130002row0_col15\" class=\"data row0 col15\" >81</td> \n",
       "    </tr>    <tr> \n",
       "        <th id=\"T_bbcad0a6_7704_11e9_911c_0242ac130002level1_row1\" class=\"row_heading level1 row1\" >1</th> \n",
       "        <td id=\"T_bbcad0a6_7704_11e9_911c_0242ac130002row1_col0\" class=\"data row1 col0\" >48</td> \n",
       "        <td id=\"T_bbcad0a6_7704_11e9_911c_0242ac130002row1_col1\" class=\"data row1 col1\" >41</td> \n",
       "        <td id=\"T_bbcad0a6_7704_11e9_911c_0242ac130002row1_col2\" class=\"data row1 col2\" >48</td> \n",
       "        <td id=\"T_bbcad0a6_7704_11e9_911c_0242ac130002row1_col3\" class=\"data row1 col3\" >38</td> \n",
       "        <td id=\"T_bbcad0a6_7704_11e9_911c_0242ac130002row1_col4\" class=\"data row1 col4\" >25</td> \n",
       "        <td id=\"T_bbcad0a6_7704_11e9_911c_0242ac130002row1_col5\" class=\"data row1 col5\" >17</td> \n",
       "        <td id=\"T_bbcad0a6_7704_11e9_911c_0242ac130002row1_col6\" class=\"data row1 col6\" >3</td> \n",
       "        <td id=\"T_bbcad0a6_7704_11e9_911c_0242ac130002row1_col7\" class=\"data row1 col7\" >3</td> \n",
       "        <td id=\"T_bbcad0a6_7704_11e9_911c_0242ac130002row1_col8\" class=\"data row1 col8\" >4</td> \n",
       "        <td id=\"T_bbcad0a6_7704_11e9_911c_0242ac130002row1_col9\" class=\"data row1 col9\" >2</td> \n",
       "        <td id=\"T_bbcad0a6_7704_11e9_911c_0242ac130002row1_col10\" class=\"data row1 col10\" >1</td> \n",
       "        <td id=\"T_bbcad0a6_7704_11e9_911c_0242ac130002row1_col11\" class=\"data row1 col11\" >1</td> \n",
       "        <td id=\"T_bbcad0a6_7704_11e9_911c_0242ac130002row1_col12\" class=\"data row1 col12\" >2</td> \n",
       "        <td id=\"T_bbcad0a6_7704_11e9_911c_0242ac130002row1_col13\" class=\"data row1 col13\" >0</td> \n",
       "        <td id=\"T_bbcad0a6_7704_11e9_911c_0242ac130002row1_col14\" class=\"data row1 col14\" >0</td> \n",
       "        <td id=\"T_bbcad0a6_7704_11e9_911c_0242ac130002row1_col15\" class=\"data row1 col15\" >233</td> \n",
       "    </tr>    <tr> \n",
       "        <th id=\"T_bbcad0a6_7704_11e9_911c_0242ac130002level0_row2\" class=\"row_heading level0 row2\" rowspan=2>male</th> \n",
       "        <th id=\"T_bbcad0a6_7704_11e9_911c_0242ac130002level1_row2\" class=\"row_heading level1 row2\" >0</th> \n",
       "        <td id=\"T_bbcad0a6_7704_11e9_911c_0242ac130002row2_col0\" class=\"data row2 col0\" >59</td> \n",
       "        <td id=\"T_bbcad0a6_7704_11e9_911c_0242ac130002row2_col1\" class=\"data row2 col1\" >67</td> \n",
       "        <td id=\"T_bbcad0a6_7704_11e9_911c_0242ac130002row2_col2\" class=\"data row2 col2\" >235</td> \n",
       "        <td id=\"T_bbcad0a6_7704_11e9_911c_0242ac130002row2_col3\" class=\"data row2 col3\" >16</td> \n",
       "        <td id=\"T_bbcad0a6_7704_11e9_911c_0242ac130002row2_col4\" class=\"data row2 col4\" >20</td> \n",
       "        <td id=\"T_bbcad0a6_7704_11e9_911c_0242ac130002row2_col5\" class=\"data row2 col5\" >35</td> \n",
       "        <td id=\"T_bbcad0a6_7704_11e9_911c_0242ac130002row2_col6\" class=\"data row2 col6\" >1</td> \n",
       "        <td id=\"T_bbcad0a6_7704_11e9_911c_0242ac130002row2_col7\" class=\"data row2 col7\" >4</td> \n",
       "        <td id=\"T_bbcad0a6_7704_11e9_911c_0242ac130002row2_col8\" class=\"data row2 col8\" >7</td> \n",
       "        <td id=\"T_bbcad0a6_7704_11e9_911c_0242ac130002row2_col9\" class=\"data row2 col9\" >1</td> \n",
       "        <td id=\"T_bbcad0a6_7704_11e9_911c_0242ac130002row2_col10\" class=\"data row2 col10\" >0</td> \n",
       "        <td id=\"T_bbcad0a6_7704_11e9_911c_0242ac130002row2_col11\" class=\"data row2 col11\" >4</td> \n",
       "        <td id=\"T_bbcad0a6_7704_11e9_911c_0242ac130002row2_col12\" class=\"data row2 col12\" >11</td> \n",
       "        <td id=\"T_bbcad0a6_7704_11e9_911c_0242ac130002row2_col13\" class=\"data row2 col13\" >4</td> \n",
       "        <td id=\"T_bbcad0a6_7704_11e9_911c_0242ac130002row2_col14\" class=\"data row2 col14\" >4</td> \n",
       "        <td id=\"T_bbcad0a6_7704_11e9_911c_0242ac130002row2_col15\" class=\"data row2 col15\" >468</td> \n",
       "    </tr>    <tr> \n",
       "        <th id=\"T_bbcad0a6_7704_11e9_911c_0242ac130002level1_row3\" class=\"row_heading level1 row3\" >1</th> \n",
       "        <td id=\"T_bbcad0a6_7704_11e9_911c_0242ac130002row3_col0\" class=\"data row3 col0\" >29</td> \n",
       "        <td id=\"T_bbcad0a6_7704_11e9_911c_0242ac130002row3_col1\" class=\"data row3 col1\" >9</td> \n",
       "        <td id=\"T_bbcad0a6_7704_11e9_911c_0242ac130002row3_col2\" class=\"data row3 col2\" >35</td> \n",
       "        <td id=\"T_bbcad0a6_7704_11e9_911c_0242ac130002row3_col3\" class=\"data row3 col3\" >15</td> \n",
       "        <td id=\"T_bbcad0a6_7704_11e9_911c_0242ac130002row3_col4\" class=\"data row3 col4\" >7</td> \n",
       "        <td id=\"T_bbcad0a6_7704_11e9_911c_0242ac130002row3_col5\" class=\"data row3 col5\" >10</td> \n",
       "        <td id=\"T_bbcad0a6_7704_11e9_911c_0242ac130002row3_col6\" class=\"data row3 col6\" >1</td> \n",
       "        <td id=\"T_bbcad0a6_7704_11e9_911c_0242ac130002row3_col7\" class=\"data row3 col7\" >1</td> \n",
       "        <td id=\"T_bbcad0a6_7704_11e9_911c_0242ac130002row3_col8\" class=\"data row3 col8\" >1</td> \n",
       "        <td id=\"T_bbcad0a6_7704_11e9_911c_0242ac130002row3_col9\" class=\"data row3 col9\" >0</td> \n",
       "        <td id=\"T_bbcad0a6_7704_11e9_911c_0242ac130002row3_col10\" class=\"data row3 col10\" >0</td> \n",
       "        <td id=\"T_bbcad0a6_7704_11e9_911c_0242ac130002row3_col11\" class=\"data row3 col11\" >0</td> \n",
       "        <td id=\"T_bbcad0a6_7704_11e9_911c_0242ac130002row3_col12\" class=\"data row3 col12\" >1</td> \n",
       "        <td id=\"T_bbcad0a6_7704_11e9_911c_0242ac130002row3_col13\" class=\"data row3 col13\" >0</td> \n",
       "        <td id=\"T_bbcad0a6_7704_11e9_911c_0242ac130002row3_col14\" class=\"data row3 col14\" >0</td> \n",
       "        <td id=\"T_bbcad0a6_7704_11e9_911c_0242ac130002row3_col15\" class=\"data row3 col15\" >109</td> \n",
       "    </tr>    <tr> \n",
       "        <th id=\"T_bbcad0a6_7704_11e9_911c_0242ac130002level0_row4\" class=\"row_heading level0 row4\" >All</th> \n",
       "        <th id=\"T_bbcad0a6_7704_11e9_911c_0242ac130002level1_row4\" class=\"row_heading level1 row4\" ></th> \n",
       "        <td id=\"T_bbcad0a6_7704_11e9_911c_0242ac130002row4_col0\" class=\"data row4 col0\" >137</td> \n",
       "        <td id=\"T_bbcad0a6_7704_11e9_911c_0242ac130002row4_col1\" class=\"data row4 col1\" >120</td> \n",
       "        <td id=\"T_bbcad0a6_7704_11e9_911c_0242ac130002row4_col2\" class=\"data row4 col2\" >351</td> \n",
       "        <td id=\"T_bbcad0a6_7704_11e9_911c_0242ac130002row4_col3\" class=\"data row4 col3\" >71</td> \n",
       "        <td id=\"T_bbcad0a6_7704_11e9_911c_0242ac130002row4_col4\" class=\"data row4 col4\" >55</td> \n",
       "        <td id=\"T_bbcad0a6_7704_11e9_911c_0242ac130002row4_col5\" class=\"data row4 col5\" >83</td> \n",
       "        <td id=\"T_bbcad0a6_7704_11e9_911c_0242ac130002row4_col6\" class=\"data row4 col6\" >5</td> \n",
       "        <td id=\"T_bbcad0a6_7704_11e9_911c_0242ac130002row4_col7\" class=\"data row4 col7\" >8</td> \n",
       "        <td id=\"T_bbcad0a6_7704_11e9_911c_0242ac130002row4_col8\" class=\"data row4 col8\" >15</td> \n",
       "        <td id=\"T_bbcad0a6_7704_11e9_911c_0242ac130002row4_col9\" class=\"data row4 col9\" >3</td> \n",
       "        <td id=\"T_bbcad0a6_7704_11e9_911c_0242ac130002row4_col10\" class=\"data row4 col10\" >1</td> \n",
       "        <td id=\"T_bbcad0a6_7704_11e9_911c_0242ac130002row4_col11\" class=\"data row4 col11\" >12</td> \n",
       "        <td id=\"T_bbcad0a6_7704_11e9_911c_0242ac130002row4_col12\" class=\"data row4 col12\" >18</td> \n",
       "        <td id=\"T_bbcad0a6_7704_11e9_911c_0242ac130002row4_col13\" class=\"data row4 col13\" >5</td> \n",
       "        <td id=\"T_bbcad0a6_7704_11e9_911c_0242ac130002row4_col14\" class=\"data row4 col14\" >7</td> \n",
       "        <td id=\"T_bbcad0a6_7704_11e9_911c_0242ac130002row4_col15\" class=\"data row4 col15\" >891</td> \n",
       "    </tr></tbody> \n",
       "</table> "
      ],
      "text/plain": [
       "<pandas.io.formats.style.Styler at 0x7f95b10e4278>"
      ]
     },
     "execution_count": 36,
     "metadata": {},
     "output_type": "execute_result"
    }
   ],
   "source": [
    "pd.crosstab([df_train.Sex, df_train.Survived], [df_train.SibSp, df_train.Pclass], margins=True).style.background_gradient(cmap='autumn_r')"
   ]
  },
  {
   "cell_type": "markdown",
   "metadata": {
    "_cell_guid": "3901a25e-e503-4608-94d1-386c47ebdff6",
    "_uuid": "26aa63ddac2e81f4e72706a035b62dfd0ce60e4b"
   },
   "source": [
    "For males, no survival rate above 0.5 for any values of SibSp.\n",
    "For females, passengers with SibSp = 3 and Pclass = 3 died, also all females with SibSp > 4 died.\n",
    "For females with SibSp = 1 and Pclass = 3 survival rate is below 0.5"
   ]
  },
  {
   "cell_type": "code",
   "execution_count": 37,
   "metadata": {
    "_cell_guid": "920ae833-cc78-4c62-927b-b3a3a52fbe9b",
    "_uuid": "7b5cd71b5c35fda0526c3c978a49fd288ac4601b"
   },
   "outputs": [],
   "source": [
    "# all females with SibSp > 7 died\n",
    "df_test.loc[ (df_test.Sex == 'female') & (df_test.SibSp > 7) , 'Survived'] = 0"
   ]
  },
  {
   "cell_type": "code",
   "execution_count": 38,
   "metadata": {
    "_cell_guid": "f0ddf2ce-3d60-4500-8fce-38e1e1bb0e42",
    "_uuid": "7b6172a9ee094ee03e0d8ff0cb030c7fcc4afad8"
   },
   "outputs": [
    {
     "data": {
      "image/png": "[encoded data removed]",
      "text/plain": [
       "<Figure size 1080x720 with 6 Axes>"
      ]
     },
     "metadata": {},
     "output_type": "display_data"
    }
   ],
   "source": [
    "sns.catplot('Parch','Survived', col='Pclass' , row = 'Sex', kind='point', data=df_train);"
   ]
  },
  {
   "cell_type": "code",
   "execution_count": 39,
   "metadata": {
    "_cell_guid": "b364bf8a-06c7-4868-a62a-b16ad732f9eb",
    "_uuid": "37ce56a44ebaf5c40528bb5985dafbc7a64dc346"
   },
   "outputs": [
    {
     "data": {
      "text/html": [
       "<style  type=\"text/css\" >\n",
       "    #T_bd160fd4_7704_11e9_911c_0242ac130002row0_col0 {\n",
       "            background-color:  #ffff00;\n",
       "        }    #T_bd160fd4_7704_11e9_911c_0242ac130002row0_col1 {\n",
       "            background-color:  #ffff00;\n",
       "        }    #T_bd160fd4_7704_11e9_911c_0242ac130002row0_col2 {\n",
       "            background-color:  #ffff00;\n",
       "        }    #T_bd160fd4_7704_11e9_911c_0242ac130002row0_col3 {\n",
       "            background-color:  #ffff00;\n",
       "        }    #T_bd160fd4_7704_11e9_911c_0242ac130002row0_col4 {\n",
       "            background-color:  #ffff00;\n",
       "        }    #T_bd160fd4_7704_11e9_911c_0242ac130002row0_col5 {\n",
       "            background-color:  #ffe400;\n",
       "        }    #T_bd160fd4_7704_11e9_911c_0242ac130002row0_col6 {\n",
       "            background-color:  #ffff00;\n",
       "        }    #T_bd160fd4_7704_11e9_911c_0242ac130002row0_col7 {\n",
       "            background-color:  #ffff00;\n",
       "        }    #T_bd160fd4_7704_11e9_911c_0242ac130002row0_col8 {\n",
       "            background-color:  #ffa600;\n",
       "        }    #T_bd160fd4_7704_11e9_911c_0242ac130002row0_col9 {\n",
       "            background-color:  #ffff00;\n",
       "        }    #T_bd160fd4_7704_11e9_911c_0242ac130002row0_col10 {\n",
       "            background-color:  #ffaa00;\n",
       "        }    #T_bd160fd4_7704_11e9_911c_0242ac130002row0_col11 {\n",
       "            background-color:  #ffff00;\n",
       "        }    #T_bd160fd4_7704_11e9_911c_0242ac130002row0_col12 {\n",
       "            background-color:  #ff5500;\n",
       "        }    #T_bd160fd4_7704_11e9_911c_0242ac130002row0_col13 {\n",
       "            background-color:  #ff6600;\n",
       "        }    #T_bd160fd4_7704_11e9_911c_0242ac130002row0_col14 {\n",
       "            background-color:  #ff0000;\n",
       "        }    #T_bd160fd4_7704_11e9_911c_0242ac130002row0_col15 {\n",
       "            background-color:  #ffff00;\n",
       "        }    #T_bd160fd4_7704_11e9_911c_0242ac130002row1_col0 {\n",
       "            background-color:  #ff9e00;\n",
       "        }    #T_bd160fd4_7704_11e9_911c_0242ac130002row1_col1 {\n",
       "            background-color:  #ffba00;\n",
       "        }    #T_bd160fd4_7704_11e9_911c_0242ac130002row1_col2 {\n",
       "            background-color:  #fff400;\n",
       "        }    #T_bd160fd4_7704_11e9_911c_0242ac130002row1_col3 {\n",
       "            background-color:  #ff7300;\n",
       "        }    #T_bd160fd4_7704_11e9_911c_0242ac130002row1_col4 {\n",
       "            background-color:  #ff7b00;\n",
       "        }    #T_bd160fd4_7704_11e9_911c_0242ac130002row1_col5 {\n",
       "            background-color:  #ffea00;\n",
       "        }    #T_bd160fd4_7704_11e9_911c_0242ac130002row1_col6 {\n",
       "            background-color:  #ff8600;\n",
       "        }    #T_bd160fd4_7704_11e9_911c_0242ac130002row1_col7 {\n",
       "            background-color:  #ff4f00;\n",
       "        }    #T_bd160fd4_7704_11e9_911c_0242ac130002row1_col8 {\n",
       "            background-color:  #ffdf00;\n",
       "        }    #T_bd160fd4_7704_11e9_911c_0242ac130002row1_col9 {\n",
       "            background-color:  #ff0000;\n",
       "        }    #T_bd160fd4_7704_11e9_911c_0242ac130002row1_col10 {\n",
       "            background-color:  #ffaa00;\n",
       "        }    #T_bd160fd4_7704_11e9_911c_0242ac130002row1_col11 {\n",
       "            background-color:  #ffff00;\n",
       "        }    #T_bd160fd4_7704_11e9_911c_0242ac130002row1_col12 {\n",
       "            background-color:  #ffff00;\n",
       "        }    #T_bd160fd4_7704_11e9_911c_0242ac130002row1_col13 {\n",
       "            background-color:  #ffcc00;\n",
       "        }    #T_bd160fd4_7704_11e9_911c_0242ac130002row1_col14 {\n",
       "            background-color:  #ffff00;\n",
       "        }    #T_bd160fd4_7704_11e9_911c_0242ac130002row1_col15 {\n",
       "            background-color:  #ffcf00;\n",
       "        }    #T_bd160fd4_7704_11e9_911c_0242ac130002row2_col0 {\n",
       "            background-color:  #ff9e00;\n",
       "        }    #T_bd160fd4_7704_11e9_911c_0242ac130002row2_col1 {\n",
       "            background-color:  #ff6900;\n",
       "        }    #T_bd160fd4_7704_11e9_911c_0242ac130002row2_col2 {\n",
       "            background-color:  #ff5900;\n",
       "        }    #T_bd160fd4_7704_11e9_911c_0242ac130002row2_col3 {\n",
       "            background-color:  #ffad00;\n",
       "        }    #T_bd160fd4_7704_11e9_911c_0242ac130002row2_col4 {\n",
       "            background-color:  #ffce00;\n",
       "        }    #T_bd160fd4_7704_11e9_911c_0242ac130002row2_col5 {\n",
       "            background-color:  #ffb300;\n",
       "        }    #T_bd160fd4_7704_11e9_911c_0242ac130002row2_col6 {\n",
       "            background-color:  #fff200;\n",
       "        }    #T_bd160fd4_7704_11e9_911c_0242ac130002row2_col7 {\n",
       "            background-color:  #ffcf00;\n",
       "        }    #T_bd160fd4_7704_11e9_911c_0242ac130002row2_col8 {\n",
       "            background-color:  #ffb300;\n",
       "        }    #T_bd160fd4_7704_11e9_911c_0242ac130002row2_col9 {\n",
       "            background-color:  #ffff00;\n",
       "        }    #T_bd160fd4_7704_11e9_911c_0242ac130002row2_col10 {\n",
       "            background-color:  #ffaa00;\n",
       "        }    #T_bd160fd4_7704_11e9_911c_0242ac130002row2_col11 {\n",
       "            background-color:  #ff0000;\n",
       "        }    #T_bd160fd4_7704_11e9_911c_0242ac130002row2_col12 {\n",
       "            background-color:  #ffaa00;\n",
       "        }    #T_bd160fd4_7704_11e9_911c_0242ac130002row2_col13 {\n",
       "            background-color:  #ffcc00;\n",
       "        }    #T_bd160fd4_7704_11e9_911c_0242ac130002row2_col14 {\n",
       "            background-color:  #ffff00;\n",
       "        }    #T_bd160fd4_7704_11e9_911c_0242ac130002row2_col15 {\n",
       "            background-color:  #ff8500;\n",
       "        }    #T_bd160fd4_7704_11e9_911c_0242ac130002row3_col0 {\n",
       "            background-color:  #ffc800;\n",
       "        }    #T_bd160fd4_7704_11e9_911c_0242ac130002row3_col1 {\n",
       "            background-color:  #fffa00;\n",
       "        }    #T_bd160fd4_7704_11e9_911c_0242ac130002row3_col2 {\n",
       "            background-color:  #ffff00;\n",
       "        }    #T_bd160fd4_7704_11e9_911c_0242ac130002row3_col3 {\n",
       "            background-color:  #ffde00;\n",
       "        }    #T_bd160fd4_7704_11e9_911c_0242ac130002row3_col4 {\n",
       "            background-color:  #ffce00;\n",
       "        }    #T_bd160fd4_7704_11e9_911c_0242ac130002row3_col5 {\n",
       "            background-color:  #ffff00;\n",
       "        }    #T_bd160fd4_7704_11e9_911c_0242ac130002row3_col6 {\n",
       "            background-color:  #ffd700;\n",
       "        }    #T_bd160fd4_7704_11e9_911c_0242ac130002row3_col7 {\n",
       "            background-color:  #ffdf00;\n",
       "        }    #T_bd160fd4_7704_11e9_911c_0242ac130002row3_col8 {\n",
       "            background-color:  #ffff00;\n",
       "        }    #T_bd160fd4_7704_11e9_911c_0242ac130002row3_col9 {\n",
       "            background-color:  #ffff00;\n",
       "        }    #T_bd160fd4_7704_11e9_911c_0242ac130002row3_col10 {\n",
       "            background-color:  #ffff00;\n",
       "        }    #T_bd160fd4_7704_11e9_911c_0242ac130002row3_col11 {\n",
       "            background-color:  #ffff00;\n",
       "        }    #T_bd160fd4_7704_11e9_911c_0242ac130002row3_col12 {\n",
       "            background-color:  #ffff00;\n",
       "        }    #T_bd160fd4_7704_11e9_911c_0242ac130002row3_col13 {\n",
       "            background-color:  #ffff00;\n",
       "        }    #T_bd160fd4_7704_11e9_911c_0242ac130002row3_col14 {\n",
       "            background-color:  #ffff00;\n",
       "        }    #T_bd160fd4_7704_11e9_911c_0242ac130002row3_col15 {\n",
       "            background-color:  #fff700;\n",
       "        }    #T_bd160fd4_7704_11e9_911c_0242ac130002row4_col0 {\n",
       "            background-color:  #ff0000;\n",
       "        }    #T_bd160fd4_7704_11e9_911c_0242ac130002row4_col1 {\n",
       "            background-color:  #ff0000;\n",
       "        }    #T_bd160fd4_7704_11e9_911c_0242ac130002row4_col2 {\n",
       "            background-color:  #ff0000;\n",
       "        }    #T_bd160fd4_7704_11e9_911c_0242ac130002row4_col3 {\n",
       "            background-color:  #ff0000;\n",
       "        }    #T_bd160fd4_7704_11e9_911c_0242ac130002row4_col4 {\n",
       "            background-color:  #ff0000;\n",
       "        }    #T_bd160fd4_7704_11e9_911c_0242ac130002row4_col5 {\n",
       "            background-color:  #ff0000;\n",
       "        }    #T_bd160fd4_7704_11e9_911c_0242ac130002row4_col6 {\n",
       "            background-color:  #ff0000;\n",
       "        }    #T_bd160fd4_7704_11e9_911c_0242ac130002row4_col7 {\n",
       "            background-color:  #ff0000;\n",
       "        }    #T_bd160fd4_7704_11e9_911c_0242ac130002row4_col8 {\n",
       "            background-color:  #ff0000;\n",
       "        }    #T_bd160fd4_7704_11e9_911c_0242ac130002row4_col9 {\n",
       "            background-color:  #ff0000;\n",
       "        }    #T_bd160fd4_7704_11e9_911c_0242ac130002row4_col10 {\n",
       "            background-color:  #ff0000;\n",
       "        }    #T_bd160fd4_7704_11e9_911c_0242ac130002row4_col11 {\n",
       "            background-color:  #ff0000;\n",
       "        }    #T_bd160fd4_7704_11e9_911c_0242ac130002row4_col12 {\n",
       "            background-color:  #ff0000;\n",
       "        }    #T_bd160fd4_7704_11e9_911c_0242ac130002row4_col13 {\n",
       "            background-color:  #ff0000;\n",
       "        }    #T_bd160fd4_7704_11e9_911c_0242ac130002row4_col14 {\n",
       "            background-color:  #ff0000;\n",
       "        }    #T_bd160fd4_7704_11e9_911c_0242ac130002row4_col15 {\n",
       "            background-color:  #ff0000;\n",
       "        }</style>  \n",
       "<table id=\"T_bd160fd4_7704_11e9_911c_0242ac130002\" > \n",
       "<thead>    <tr> \n",
       "        <th class=\"blank\" ></th> \n",
       "        <th class=\"index_name level0\" >Parch</th> \n",
       "        <th class=\"col_heading level0 col0\" colspan=3>0</th> \n",
       "        <th class=\"col_heading level0 col3\" colspan=3>1</th> \n",
       "        <th class=\"col_heading level0 col6\" colspan=3>2</th> \n",
       "        <th class=\"col_heading level0 col9\" colspan=2>3</th> \n",
       "        <th class=\"col_heading level0 col11\" colspan=2>4</th> \n",
       "        <th class=\"col_heading level0 col13\" >5</th> \n",
       "        <th class=\"col_heading level0 col14\" >6</th> \n",
       "        <th class=\"col_heading level0 col15\" >All</th> \n",
       "    </tr>    <tr> \n",
       "        <th class=\"blank\" ></th> \n",
       "        <th class=\"index_name level1\" >Pclass</th> \n",
       "        <th class=\"col_heading level1 col0\" >1</th> \n",
       "        <th class=\"col_heading level1 col1\" >2</th> \n",
       "        <th class=\"col_heading level1 col2\" >3</th> \n",
       "        <th class=\"col_heading level1 col3\" >1</th> \n",
       "        <th class=\"col_heading level1 col4\" >2</th> \n",
       "        <th class=\"col_heading level1 col5\" >3</th> \n",
       "        <th class=\"col_heading level1 col6\" >1</th> \n",
       "        <th class=\"col_heading level1 col7\" >2</th> \n",
       "        <th class=\"col_heading level1 col8\" >3</th> \n",
       "        <th class=\"col_heading level1 col9\" >2</th> \n",
       "        <th class=\"col_heading level1 col10\" >3</th> \n",
       "        <th class=\"col_heading level1 col11\" >1</th> \n",
       "        <th class=\"col_heading level1 col12\" >3</th> \n",
       "        <th class=\"col_heading level1 col13\" >3</th> \n",
       "        <th class=\"col_heading level1 col14\" >3</th> \n",
       "        <th class=\"col_heading level1 col15\" ></th> \n",
       "    </tr>    <tr> \n",
       "        <th class=\"index_name level0\" >Sex</th> \n",
       "        <th class=\"index_name level1\" >Survived</th> \n",
       "        <th class=\"blank\" ></th> \n",
       "        <th class=\"blank\" ></th> \n",
       "        <th class=\"blank\" ></th> \n",
       "        <th class=\"blank\" ></th> \n",
       "        <th class=\"blank\" ></th> \n",
       "        <th class=\"blank\" ></th> \n",
       "        <th class=\"blank\" ></th> \n",
       "        <th class=\"blank\" ></th> \n",
       "        <th class=\"blank\" ></th> \n",
       "        <th class=\"blank\" ></th> \n",
       "        <th class=\"blank\" ></th> \n",
       "        <th class=\"blank\" ></th> \n",
       "        <th class=\"blank\" ></th> \n",
       "        <th class=\"blank\" ></th> \n",
       "        <th class=\"blank\" ></th> \n",
       "        <th class=\"blank\" ></th> \n",
       "    </tr></thead> \n",
       "<tbody>    <tr> \n",
       "        <th id=\"T_bd160fd4_7704_11e9_911c_0242ac130002level0_row0\" class=\"row_heading level0 row0\" rowspan=2>female</th> \n",
       "        <th id=\"T_bd160fd4_7704_11e9_911c_0242ac130002level1_row0\" class=\"row_heading level1 row0\" >0</th> \n",
       "        <td id=\"T_bd160fd4_7704_11e9_911c_0242ac130002row0_col0\" class=\"data row0 col0\" >1</td> \n",
       "        <td id=\"T_bd160fd4_7704_11e9_911c_0242ac130002row0_col1\" class=\"data row0 col1\" >5</td> \n",
       "        <td id=\"T_bd160fd4_7704_11e9_911c_0242ac130002row0_col2\" class=\"data row0 col2\" >35</td> \n",
       "        <td id=\"T_bd160fd4_7704_11e9_911c_0242ac130002row0_col3\" class=\"data row0 col3\" >0</td> \n",
       "        <td id=\"T_bd160fd4_7704_11e9_911c_0242ac130002row0_col4\" class=\"data row0 col4\" >1</td> \n",
       "        <td id=\"T_bd160fd4_7704_11e9_911c_0242ac130002row0_col5\" class=\"data row0 col5\" >13</td> \n",
       "        <td id=\"T_bd160fd4_7704_11e9_911c_0242ac130002row0_col6\" class=\"data row0 col6\" >2</td> \n",
       "        <td id=\"T_bd160fd4_7704_11e9_911c_0242ac130002row0_col7\" class=\"data row0 col7\" >0</td> \n",
       "        <td id=\"T_bd160fd4_7704_11e9_911c_0242ac130002row0_col8\" class=\"data row0 col8\" >17</td> \n",
       "        <td id=\"T_bd160fd4_7704_11e9_911c_0242ac130002row0_col9\" class=\"data row0 col9\" >0</td> \n",
       "        <td id=\"T_bd160fd4_7704_11e9_911c_0242ac130002row0_col10\" class=\"data row0 col10\" >1</td> \n",
       "        <td id=\"T_bd160fd4_7704_11e9_911c_0242ac130002row0_col11\" class=\"data row0 col11\" >0</td> \n",
       "        <td id=\"T_bd160fd4_7704_11e9_911c_0242ac130002row0_col12\" class=\"data row0 col12\" >2</td> \n",
       "        <td id=\"T_bd160fd4_7704_11e9_911c_0242ac130002row0_col13\" class=\"data row0 col13\" >3</td> \n",
       "        <td id=\"T_bd160fd4_7704_11e9_911c_0242ac130002row0_col14\" class=\"data row0 col14\" >1</td> \n",
       "        <td id=\"T_bd160fd4_7704_11e9_911c_0242ac130002row0_col15\" class=\"data row0 col15\" >81</td> \n",
       "    </tr>    <tr> \n",
       "        <th id=\"T_bd160fd4_7704_11e9_911c_0242ac130002level1_row1\" class=\"row_heading level1 row1\" >1</th> \n",
       "        <td id=\"T_bd160fd4_7704_11e9_911c_0242ac130002row1_col0\" class=\"data row1 col0\" >63</td> \n",
       "        <td id=\"T_bd160fd4_7704_11e9_911c_0242ac130002row1_col1\" class=\"data row1 col1\" >40</td> \n",
       "        <td id=\"T_bd160fd4_7704_11e9_911c_0242ac130002row1_col2\" class=\"data row1 col2\" >50</td> \n",
       "        <td id=\"T_bd160fd4_7704_11e9_911c_0242ac130002row1_col3\" class=\"data row1 col3\" >17</td> \n",
       "        <td id=\"T_bd160fd4_7704_11e9_911c_0242ac130002row1_col4\" class=\"data row1 col4\" >17</td> \n",
       "        <td id=\"T_bd160fd4_7704_11e9_911c_0242ac130002row1_col5\" class=\"data row1 col5\" >12</td> \n",
       "        <td id=\"T_bd160fd4_7704_11e9_911c_0242ac130002row1_col6\" class=\"data row1 col6\" >11</td> \n",
       "        <td id=\"T_bd160fd4_7704_11e9_911c_0242ac130002row1_col7\" class=\"data row1 col7\" >11</td> \n",
       "        <td id=\"T_bd160fd4_7704_11e9_911c_0242ac130002row1_col8\" class=\"data row1 col8\" >8</td> \n",
       "        <td id=\"T_bd160fd4_7704_11e9_911c_0242ac130002row1_col9\" class=\"data row1 col9\" >2</td> \n",
       "        <td id=\"T_bd160fd4_7704_11e9_911c_0242ac130002row1_col10\" class=\"data row1 col10\" >1</td> \n",
       "        <td id=\"T_bd160fd4_7704_11e9_911c_0242ac130002row1_col11\" class=\"data row1 col11\" >0</td> \n",
       "        <td id=\"T_bd160fd4_7704_11e9_911c_0242ac130002row1_col12\" class=\"data row1 col12\" >0</td> \n",
       "        <td id=\"T_bd160fd4_7704_11e9_911c_0242ac130002row1_col13\" class=\"data row1 col13\" >1</td> \n",
       "        <td id=\"T_bd160fd4_7704_11e9_911c_0242ac130002row1_col14\" class=\"data row1 col14\" >0</td> \n",
       "        <td id=\"T_bd160fd4_7704_11e9_911c_0242ac130002row1_col15\" class=\"data row1 col15\" >233</td> \n",
       "    </tr>    <tr> \n",
       "        <th id=\"T_bd160fd4_7704_11e9_911c_0242ac130002level0_row2\" class=\"row_heading level0 row2\" rowspan=2>male</th> \n",
       "        <th id=\"T_bd160fd4_7704_11e9_911c_0242ac130002level1_row2\" class=\"row_heading level1 row2\" >0</th> \n",
       "        <td id=\"T_bd160fd4_7704_11e9_911c_0242ac130002row2_col0\" class=\"data row2 col0\" >63</td> \n",
       "        <td id=\"T_bd160fd4_7704_11e9_911c_0242ac130002row2_col1\" class=\"data row2 col1\" >81</td> \n",
       "        <td id=\"T_bd160fd4_7704_11e9_911c_0242ac130002row2_col2\" class=\"data row2 col2\" >260</td> \n",
       "        <td id=\"T_bd160fd4_7704_11e9_911c_0242ac130002row2_col3\" class=\"data row2 col3\" >10</td> \n",
       "        <td id=\"T_bd160fd4_7704_11e9_911c_0242ac130002row2_col4\" class=\"data row2 col4\" >7</td> \n",
       "        <td id=\"T_bd160fd4_7704_11e9_911c_0242ac130002row2_col5\" class=\"data row2 col5\" >22</td> \n",
       "        <td id=\"T_bd160fd4_7704_11e9_911c_0242ac130002row2_col6\" class=\"data row2 col6\" >3</td> \n",
       "        <td id=\"T_bd160fd4_7704_11e9_911c_0242ac130002row2_col7\" class=\"data row2 col7\" >3</td> \n",
       "        <td id=\"T_bd160fd4_7704_11e9_911c_0242ac130002row2_col8\" class=\"data row2 col8\" >15</td> \n",
       "        <td id=\"T_bd160fd4_7704_11e9_911c_0242ac130002row2_col9\" class=\"data row2 col9\" >0</td> \n",
       "        <td id=\"T_bd160fd4_7704_11e9_911c_0242ac130002row2_col10\" class=\"data row2 col10\" >1</td> \n",
       "        <td id=\"T_bd160fd4_7704_11e9_911c_0242ac130002row2_col11\" class=\"data row2 col11\" >1</td> \n",
       "        <td id=\"T_bd160fd4_7704_11e9_911c_0242ac130002row2_col12\" class=\"data row2 col12\" >1</td> \n",
       "        <td id=\"T_bd160fd4_7704_11e9_911c_0242ac130002row2_col13\" class=\"data row2 col13\" >1</td> \n",
       "        <td id=\"T_bd160fd4_7704_11e9_911c_0242ac130002row2_col14\" class=\"data row2 col14\" >0</td> \n",
       "        <td id=\"T_bd160fd4_7704_11e9_911c_0242ac130002row2_col15\" class=\"data row2 col15\" >468</td> \n",
       "    </tr>    <tr> \n",
       "        <th id=\"T_bd160fd4_7704_11e9_911c_0242ac130002level1_row3\" class=\"row_heading level1 row3\" >1</th> \n",
       "        <td id=\"T_bd160fd4_7704_11e9_911c_0242ac130002row3_col0\" class=\"data row3 col0\" >36</td> \n",
       "        <td id=\"T_bd160fd4_7704_11e9_911c_0242ac130002row3_col1\" class=\"data row3 col1\" >8</td> \n",
       "        <td id=\"T_bd160fd4_7704_11e9_911c_0242ac130002row3_col2\" class=\"data row3 col2\" >36</td> \n",
       "        <td id=\"T_bd160fd4_7704_11e9_911c_0242ac130002row3_col3\" class=\"data row3 col3\" >4</td> \n",
       "        <td id=\"T_bd160fd4_7704_11e9_911c_0242ac130002row3_col4\" class=\"data row3 col4\" >7</td> \n",
       "        <td id=\"T_bd160fd4_7704_11e9_911c_0242ac130002row3_col5\" class=\"data row3 col5\" >8</td> \n",
       "        <td id=\"T_bd160fd4_7704_11e9_911c_0242ac130002row3_col6\" class=\"data row3 col6\" >5</td> \n",
       "        <td id=\"T_bd160fd4_7704_11e9_911c_0242ac130002row3_col7\" class=\"data row3 col7\" >2</td> \n",
       "        <td id=\"T_bd160fd4_7704_11e9_911c_0242ac130002row3_col8\" class=\"data row3 col8\" >3</td> \n",
       "        <td id=\"T_bd160fd4_7704_11e9_911c_0242ac130002row3_col9\" class=\"data row3 col9\" >0</td> \n",
       "        <td id=\"T_bd160fd4_7704_11e9_911c_0242ac130002row3_col10\" class=\"data row3 col10\" >0</td> \n",
       "        <td id=\"T_bd160fd4_7704_11e9_911c_0242ac130002row3_col11\" class=\"data row3 col11\" >0</td> \n",
       "        <td id=\"T_bd160fd4_7704_11e9_911c_0242ac130002row3_col12\" class=\"data row3 col12\" >0</td> \n",
       "        <td id=\"T_bd160fd4_7704_11e9_911c_0242ac130002row3_col13\" class=\"data row3 col13\" >0</td> \n",
       "        <td id=\"T_bd160fd4_7704_11e9_911c_0242ac130002row3_col14\" class=\"data row3 col14\" >0</td> \n",
       "        <td id=\"T_bd160fd4_7704_11e9_911c_0242ac130002row3_col15\" class=\"data row3 col15\" >109</td> \n",
       "    </tr>    <tr> \n",
       "        <th id=\"T_bd160fd4_7704_11e9_911c_0242ac130002level0_row4\" class=\"row_heading level0 row4\" >All</th> \n",
       "        <th id=\"T_bd160fd4_7704_11e9_911c_0242ac130002level1_row4\" class=\"row_heading level1 row4\" ></th> \n",
       "        <td id=\"T_bd160fd4_7704_11e9_911c_0242ac130002row4_col0\" class=\"data row4 col0\" >163</td> \n",
       "        <td id=\"T_bd160fd4_7704_11e9_911c_0242ac130002row4_col1\" class=\"data row4 col1\" >134</td> \n",
       "        <td id=\"T_bd160fd4_7704_11e9_911c_0242ac130002row4_col2\" class=\"data row4 col2\" >381</td> \n",
       "        <td id=\"T_bd160fd4_7704_11e9_911c_0242ac130002row4_col3\" class=\"data row4 col3\" >31</td> \n",
       "        <td id=\"T_bd160fd4_7704_11e9_911c_0242ac130002row4_col4\" class=\"data row4 col4\" >32</td> \n",
       "        <td id=\"T_bd160fd4_7704_11e9_911c_0242ac130002row4_col5\" class=\"data row4 col5\" >55</td> \n",
       "        <td id=\"T_bd160fd4_7704_11e9_911c_0242ac130002row4_col6\" class=\"data row4 col6\" >21</td> \n",
       "        <td id=\"T_bd160fd4_7704_11e9_911c_0242ac130002row4_col7\" class=\"data row4 col7\" >16</td> \n",
       "        <td id=\"T_bd160fd4_7704_11e9_911c_0242ac130002row4_col8\" class=\"data row4 col8\" >43</td> \n",
       "        <td id=\"T_bd160fd4_7704_11e9_911c_0242ac130002row4_col9\" class=\"data row4 col9\" >2</td> \n",
       "        <td id=\"T_bd160fd4_7704_11e9_911c_0242ac130002row4_col10\" class=\"data row4 col10\" >3</td> \n",
       "        <td id=\"T_bd160fd4_7704_11e9_911c_0242ac130002row4_col11\" class=\"data row4 col11\" >1</td> \n",
       "        <td id=\"T_bd160fd4_7704_11e9_911c_0242ac130002row4_col12\" class=\"data row4 col12\" >3</td> \n",
       "        <td id=\"T_bd160fd4_7704_11e9_911c_0242ac130002row4_col13\" class=\"data row4 col13\" >5</td> \n",
       "        <td id=\"T_bd160fd4_7704_11e9_911c_0242ac130002row4_col14\" class=\"data row4 col14\" >1</td> \n",
       "        <td id=\"T_bd160fd4_7704_11e9_911c_0242ac130002row4_col15\" class=\"data row4 col15\" >891</td> \n",
       "    </tr></tbody> \n",
       "</table> "
      ],
      "text/plain": [
       "<pandas.io.formats.style.Styler at 0x7f95b3138b38>"
      ]
     },
     "execution_count": 39,
     "metadata": {},
     "output_type": "execute_result"
    }
   ],
   "source": [
    "pd.crosstab([df_train.Sex, df_train.Survived], [df_train.Parch, df_train.Pclass], margins=True).style.background_gradient(cmap='autumn_r')"
   ]
  },
  {
   "cell_type": "markdown",
   "metadata": {
    "_cell_guid": "05fa17b4-c3ca-467b-a11c-3594372e42aa",
    "_uuid": "6706031a1f86b950de579014fb9f9b119bdd92dc",
    "collapsed": true
   },
   "source": [
    "Very similar to SibSp - 1 , but different values  ?\n",
    "For females with Parch = 2 and Pclass = 3 survival rate is below 0.5  \n",
    "All females with Parch = 4 and Pclass = 3 died.\n",
    "All females with Parch > 4 died.\n",
    "(For females with Parch = 1 and Pclass = 3 survival rate is below 0.5)\n",
    "For males,all survival rates below 0.5 for any values of Parch, except for Parch = 2 and Pclass = 1."
   ]
  },
  {
   "cell_type": "code",
   "execution_count": 40,
   "metadata": {
    "_cell_guid": "1029cc1d-1b73-4a6f-87ed-f12fb744895c",
    "_uuid": "a557a0e8577d738f623d6ec94fe57b28371347f0"
   },
   "outputs": [],
   "source": [
    "# survival rate is below 0.5 for females with Parch = 2 and Pclass = 3 \n",
    "#df_test.loc[ (df_test.Sex == 'female') & (df_test.Pclass == 3) & (df_test.Parch == 2), 'Survived'] = 0\n",
    "\n",
    "# All females with Parch = 4 and Pclass = 3 died\n",
    "##df_test.loc[ (df_test.Sex == 'female') & (df_test.Pclass == 3) & (df_test.Parch == 4), 'Survived'] = 0\n",
    "\n",
    "# all females with Parch > 4 died\n",
    "#df_test.loc[ (df_test.Sex == 'female') & (df_test.Parch > 4) , 'Survived'] = 0\n",
    "\n",
    "# For males with Parch = 2 and Pclass = 1 survival rate is above 0.5\n",
    "##df_test.loc[ (df_test.Sex == 'male') & (df_test.Pclass == 1) & (df_test.Parch == 1) , 'Survived'] = 1\n",
    "\n",
    "#df_test.head(20)"
   ]
  },
  {
   "cell_type": "markdown",
   "metadata": {
    "_cell_guid": "b70366e6-40cd-4b49-be28-d9c6e24b7a91",
    "_uuid": "9be20e55154d523983caa038da053b52e16c0231"
   },
   "source": [
    "**Fare:  continuous numerical  to  12 bins **"
   ]
  },
  {
   "cell_type": "code",
   "execution_count": 41,
   "metadata": {
    "_cell_guid": "175cc9dd-f96e-47c3-9516-e32d01c28aa3",
    "_uuid": "2bde44c43067232fb1a2ef8deff227374c6eab3a"
   },
   "outputs": [
    {
     "data": {
      "image/png": "[encoded data removed]",
      "text/plain": [
       "<Figure size 432x288 with 1 Axes>"
      ]
     },
     "metadata": {},
     "output_type": "display_data"
    }
   ],
   "source": [
    "sns.distplot(df_train['Fare']);"
   ]
  },
  {
   "cell_type": "code",
   "execution_count": 42,
   "metadata": {
    "_cell_guid": "8a24e3c4-ea4e-4558-b9f4-d21eff1a5bf0",
    "_uuid": "7c0b70efca4ecaafbefecdfdcb81868c5221b505"
   },
   "outputs": [],
   "source": [
    "for df in [df_train, df_test]:\n",
    "    df['Fare_bin']=np.nan\n",
    "    for i in range(12,0,-1):\n",
    "        df.loc[ df['Fare'] <= i*50, 'Fare_bin'] = i"
   ]
  },
  {
   "cell_type": "code",
   "execution_count": 43,
   "metadata": {
    "_cell_guid": "dbd84dd3-877b-4776-bf41-893a1f430db2",
    "_uuid": "3ac79a5e7f2b7b24b83d3d30d4e98c4985dff982"
   },
   "outputs": [
    {
     "data": {
      "image/png": "[encoded data removed]",
      "text/plain": [
       "<Figure size 1080x720 with 6 Axes>"
      ]
     },
     "metadata": {},
     "output_type": "display_data"
    }
   ],
   "source": [
    "sns.catplot('Fare_bin','Survived', col='Pclass' , row = 'Sex', kind='point', data=df_train);"
   ]
  },
  {
   "cell_type": "code",
   "execution_count": 44,
   "metadata": {
    "_cell_guid": "deed0fac-16b3-4516-aa12-312af2737854",
    "_uuid": "b53e3f946de54690664973cd7f58846d4d86cda8"
   },
   "outputs": [
    {
     "data": {
      "text/html": [
       "<style  type=\"text/css\" >\n",
       "    #T_be99fe92_7704_11e9_911c_0242ac130002row0_col0 {\n",
       "            background-color:  #ffff00;\n",
       "        }    #T_be99fe92_7704_11e9_911c_0242ac130002row0_col1 {\n",
       "            background-color:  #ffff00;\n",
       "        }    #T_be99fe92_7704_11e9_911c_0242ac130002row0_col2 {\n",
       "            background-color:  #fff000;\n",
       "        }    #T_be99fe92_7704_11e9_911c_0242ac130002row0_col3 {\n",
       "            background-color:  #ffff00;\n",
       "        }    #T_be99fe92_7704_11e9_911c_0242ac130002row0_col4 {\n",
       "            background-color:  #ffff00;\n",
       "        }    #T_be99fe92_7704_11e9_911c_0242ac130002row0_col5 {\n",
       "            background-color:  #ffc900;\n",
       "        }    #T_be99fe92_7704_11e9_911c_0242ac130002row0_col6 {\n",
       "            background-color:  #ffff00;\n",
       "        }    #T_be99fe92_7704_11e9_911c_0242ac130002row0_col7 {\n",
       "            background-color:  #ffdf00;\n",
       "        }    #T_be99fe92_7704_11e9_911c_0242ac130002row0_col8 {\n",
       "            background-color:  #ffff00;\n",
       "        }    #T_be99fe92_7704_11e9_911c_0242ac130002row0_col9 {\n",
       "            background-color:  #ffff00;\n",
       "        }    #T_be99fe92_7704_11e9_911c_0242ac130002row0_col10 {\n",
       "            background-color:  #ffff00;\n",
       "        }    #T_be99fe92_7704_11e9_911c_0242ac130002row0_col11 {\n",
       "            background-color:  #ffff00;\n",
       "        }    #T_be99fe92_7704_11e9_911c_0242ac130002row1_col0 {\n",
       "            background-color:  #ffde00;\n",
       "        }    #T_be99fe92_7704_11e9_911c_0242ac130002row1_col1 {\n",
       "            background-color:  #ffa300;\n",
       "        }    #T_be99fe92_7704_11e9_911c_0242ac130002row1_col2 {\n",
       "            background-color:  #ffee00;\n",
       "        }    #T_be99fe92_7704_11e9_911c_0242ac130002row1_col3 {\n",
       "            background-color:  #ff7100;\n",
       "        }    #T_be99fe92_7704_11e9_911c_0242ac130002row1_col4 {\n",
       "            background-color:  #ffb600;\n",
       "        }    #T_be99fe92_7704_11e9_911c_0242ac130002row1_col5 {\n",
       "            background-color:  #ffff00;\n",
       "        }    #T_be99fe92_7704_11e9_911c_0242ac130002row1_col6 {\n",
       "            background-color:  #ff5f00;\n",
       "        }    #T_be99fe92_7704_11e9_911c_0242ac130002row1_col7 {\n",
       "            background-color:  #ff7f00;\n",
       "        }    #T_be99fe92_7704_11e9_911c_0242ac130002row1_col8 {\n",
       "            background-color:  #ff5d00;\n",
       "        }    #T_be99fe92_7704_11e9_911c_0242ac130002row1_col9 {\n",
       "            background-color:  #ff5500;\n",
       "        }    #T_be99fe92_7704_11e9_911c_0242ac130002row1_col10 {\n",
       "            background-color:  #ffaa00;\n",
       "        }    #T_be99fe92_7704_11e9_911c_0242ac130002row1_col11 {\n",
       "            background-color:  #ffcf00;\n",
       "        }    #T_be99fe92_7704_11e9_911c_0242ac130002row2_col0 {\n",
       "            background-color:  #ff7500;\n",
       "        }    #T_be99fe92_7704_11e9_911c_0242ac130002row2_col1 {\n",
       "            background-color:  #ff8800;\n",
       "        }    #T_be99fe92_7704_11e9_911c_0242ac130002row2_col2 {\n",
       "            background-color:  #ff6b00;\n",
       "        }    #T_be99fe92_7704_11e9_911c_0242ac130002row2_col3 {\n",
       "            background-color:  #ffbb00;\n",
       "        }    #T_be99fe92_7704_11e9_911c_0242ac130002row2_col4 {\n",
       "            background-color:  #ff4900;\n",
       "        }    #T_be99fe92_7704_11e9_911c_0242ac130002row2_col5 {\n",
       "            background-color:  #ff9200;\n",
       "        }    #T_be99fe92_7704_11e9_911c_0242ac130002row2_col6 {\n",
       "            background-color:  #ffca00;\n",
       "        }    #T_be99fe92_7704_11e9_911c_0242ac130002row2_col7 {\n",
       "            background-color:  #ffff00;\n",
       "        }    #T_be99fe92_7704_11e9_911c_0242ac130002row2_col8 {\n",
       "            background-color:  #ffa200;\n",
       "        }    #T_be99fe92_7704_11e9_911c_0242ac130002row2_col9 {\n",
       "            background-color:  #ffaa00;\n",
       "        }    #T_be99fe92_7704_11e9_911c_0242ac130002row2_col10 {\n",
       "            background-color:  #ffff00;\n",
       "        }    #T_be99fe92_7704_11e9_911c_0242ac130002row2_col11 {\n",
       "            background-color:  #ff8500;\n",
       "        }    #T_be99fe92_7704_11e9_911c_0242ac130002row3_col0 {\n",
       "            background-color:  #ffb500;\n",
       "        }    #T_be99fe92_7704_11e9_911c_0242ac130002row3_col1 {\n",
       "            background-color:  #ffef00;\n",
       "        }    #T_be99fe92_7704_11e9_911c_0242ac130002row3_col2 {\n",
       "            background-color:  #ffff00;\n",
       "        }    #T_be99fe92_7704_11e9_911c_0242ac130002row3_col3 {\n",
       "            background-color:  #ffd300;\n",
       "        }    #T_be99fe92_7704_11e9_911c_0242ac130002row3_col4 {\n",
       "            background-color:  #ffff00;\n",
       "        }    #T_be99fe92_7704_11e9_911c_0242ac130002row3_col5 {\n",
       "            background-color:  #ffa400;\n",
       "        }    #T_be99fe92_7704_11e9_911c_0242ac130002row3_col6 {\n",
       "            background-color:  #ffd500;\n",
       "        }    #T_be99fe92_7704_11e9_911c_0242ac130002row3_col7 {\n",
       "            background-color:  #ffff00;\n",
       "        }    #T_be99fe92_7704_11e9_911c_0242ac130002row3_col8 {\n",
       "            background-color:  #ffff00;\n",
       "        }    #T_be99fe92_7704_11e9_911c_0242ac130002row3_col9 {\n",
       "            background-color:  #ffff00;\n",
       "        }    #T_be99fe92_7704_11e9_911c_0242ac130002row3_col10 {\n",
       "            background-color:  #ff5500;\n",
       "        }    #T_be99fe92_7704_11e9_911c_0242ac130002row3_col11 {\n",
       "            background-color:  #fff700;\n",
       "        }    #T_be99fe92_7704_11e9_911c_0242ac130002row4_col0 {\n",
       "            background-color:  #ff0000;\n",
       "        }    #T_be99fe92_7704_11e9_911c_0242ac130002row4_col1 {\n",
       "            background-color:  #ff0000;\n",
       "        }    #T_be99fe92_7704_11e9_911c_0242ac130002row4_col2 {\n",
       "            background-color:  #ff0000;\n",
       "        }    #T_be99fe92_7704_11e9_911c_0242ac130002row4_col3 {\n",
       "            background-color:  #ff0000;\n",
       "        }    #T_be99fe92_7704_11e9_911c_0242ac130002row4_col4 {\n",
       "            background-color:  #ff0000;\n",
       "        }    #T_be99fe92_7704_11e9_911c_0242ac130002row4_col5 {\n",
       "            background-color:  #ff0000;\n",
       "        }    #T_be99fe92_7704_11e9_911c_0242ac130002row4_col6 {\n",
       "            background-color:  #ff0000;\n",
       "        }    #T_be99fe92_7704_11e9_911c_0242ac130002row4_col7 {\n",
       "            background-color:  #ff0000;\n",
       "        }    #T_be99fe92_7704_11e9_911c_0242ac130002row4_col8 {\n",
       "            background-color:  #ff0000;\n",
       "        }    #T_be99fe92_7704_11e9_911c_0242ac130002row4_col9 {\n",
       "            background-color:  #ff0000;\n",
       "        }    #T_be99fe92_7704_11e9_911c_0242ac130002row4_col10 {\n",
       "            background-color:  #ff0000;\n",
       "        }    #T_be99fe92_7704_11e9_911c_0242ac130002row4_col11 {\n",
       "            background-color:  #ff0000;\n",
       "        }</style>  \n",
       "<table id=\"T_be99fe92_7704_11e9_911c_0242ac130002\" > \n",
       "<thead>    <tr> \n",
       "        <th class=\"blank\" ></th> \n",
       "        <th class=\"index_name level0\" >Fare_bin</th> \n",
       "        <th class=\"col_heading level0 col0\" colspan=3>1.0</th> \n",
       "        <th class=\"col_heading level0 col3\" colspan=3>2.0</th> \n",
       "        <th class=\"col_heading level0 col6\" >3.0</th> \n",
       "        <th class=\"col_heading level0 col7\" >4.0</th> \n",
       "        <th class=\"col_heading level0 col8\" >5.0</th> \n",
       "        <th class=\"col_heading level0 col9\" >6.0</th> \n",
       "        <th class=\"col_heading level0 col10\" >11.0</th> \n",
       "        <th class=\"col_heading level0 col11\" >All</th> \n",
       "    </tr>    <tr> \n",
       "        <th class=\"blank\" ></th> \n",
       "        <th class=\"index_name level1\" >Pclass</th> \n",
       "        <th class=\"col_heading level1 col0\" >1</th> \n",
       "        <th class=\"col_heading level1 col1\" >2</th> \n",
       "        <th class=\"col_heading level1 col2\" >3</th> \n",
       "        <th class=\"col_heading level1 col3\" >1</th> \n",
       "        <th class=\"col_heading level1 col4\" >2</th> \n",
       "        <th class=\"col_heading level1 col5\" >3</th> \n",
       "        <th class=\"col_heading level1 col6\" >1</th> \n",
       "        <th class=\"col_heading level1 col7\" >1</th> \n",
       "        <th class=\"col_heading level1 col8\" >1</th> \n",
       "        <th class=\"col_heading level1 col9\" >1</th> \n",
       "        <th class=\"col_heading level1 col10\" >1</th> \n",
       "        <th class=\"col_heading level1 col11\" ></th> \n",
       "    </tr>    <tr> \n",
       "        <th class=\"index_name level0\" >Sex</th> \n",
       "        <th class=\"index_name level1\" >Survived</th> \n",
       "        <th class=\"blank\" ></th> \n",
       "        <th class=\"blank\" ></th> \n",
       "        <th class=\"blank\" ></th> \n",
       "        <th class=\"blank\" ></th> \n",
       "        <th class=\"blank\" ></th> \n",
       "        <th class=\"blank\" ></th> \n",
       "        <th class=\"blank\" ></th> \n",
       "        <th class=\"blank\" ></th> \n",
       "        <th class=\"blank\" ></th> \n",
       "        <th class=\"blank\" ></th> \n",
       "        <th class=\"blank\" ></th> \n",
       "        <th class=\"blank\" ></th> \n",
       "    </tr></thead> \n",
       "<tbody>    <tr> \n",
       "        <th id=\"T_be99fe92_7704_11e9_911c_0242ac130002level0_row0\" class=\"row_heading level0 row0\" rowspan=2>female</th> \n",
       "        <th id=\"T_be99fe92_7704_11e9_911c_0242ac130002level1_row0\" class=\"row_heading level1 row0\" >0</th> \n",
       "        <td id=\"T_be99fe92_7704_11e9_911c_0242ac130002row0_col0\" class=\"data row0 col0\" >1</td> \n",
       "        <td id=\"T_be99fe92_7704_11e9_911c_0242ac130002row0_col1\" class=\"data row0 col1\" >6</td> \n",
       "        <td id=\"T_be99fe92_7704_11e9_911c_0242ac130002row0_col2\" class=\"data row0 col2\" >69</td> \n",
       "        <td id=\"T_be99fe92_7704_11e9_911c_0242ac130002row0_col3\" class=\"data row0 col3\" >0</td> \n",
       "        <td id=\"T_be99fe92_7704_11e9_911c_0242ac130002row0_col4\" class=\"data row0 col4\" >0</td> \n",
       "        <td id=\"T_be99fe92_7704_11e9_911c_0242ac130002row0_col5\" class=\"data row0 col5\" >3</td> \n",
       "        <td id=\"T_be99fe92_7704_11e9_911c_0242ac130002row0_col6\" class=\"data row0 col6\" >0</td> \n",
       "        <td id=\"T_be99fe92_7704_11e9_911c_0242ac130002row0_col7\" class=\"data row0 col7\" >2</td> \n",
       "        <td id=\"T_be99fe92_7704_11e9_911c_0242ac130002row0_col8\" class=\"data row0 col8\" >0</td> \n",
       "        <td id=\"T_be99fe92_7704_11e9_911c_0242ac130002row0_col9\" class=\"data row0 col9\" >0</td> \n",
       "        <td id=\"T_be99fe92_7704_11e9_911c_0242ac130002row0_col10\" class=\"data row0 col10\" >0</td> \n",
       "        <td id=\"T_be99fe92_7704_11e9_911c_0242ac130002row0_col11\" class=\"data row0 col11\" >81</td> \n",
       "    </tr>    <tr> \n",
       "        <th id=\"T_be99fe92_7704_11e9_911c_0242ac130002level1_row1\" class=\"row_heading level1 row1\" >1</th> \n",
       "        <td id=\"T_be99fe92_7704_11e9_911c_0242ac130002row1_col0\" class=\"data row1 col0\" >11</td> \n",
       "        <td id=\"T_be99fe92_7704_11e9_911c_0242ac130002row1_col1\" class=\"data row1 col1\" >68</td> \n",
       "        <td id=\"T_be99fe92_7704_11e9_911c_0242ac130002row1_col2\" class=\"data row1 col2\" >72</td> \n",
       "        <td id=\"T_be99fe92_7704_11e9_911c_0242ac130002row1_col3\" class=\"data row1 col3\" >48</td> \n",
       "        <td id=\"T_be99fe92_7704_11e9_911c_0242ac130002row1_col4\" class=\"data row1 col4\" >2</td> \n",
       "        <td id=\"T_be99fe92_7704_11e9_911c_0242ac130002row1_col5\" class=\"data row1 col5\" >0</td> \n",
       "        <td id=\"T_be99fe92_7704_11e9_911c_0242ac130002row1_col6\" class=\"data row1 col6\" >15</td> \n",
       "        <td id=\"T_be99fe92_7704_11e9_911c_0242ac130002row1_col7\" class=\"data row1 col7\" >5</td> \n",
       "        <td id=\"T_be99fe92_7704_11e9_911c_0242ac130002row1_col8\" class=\"data row1 col8\" >7</td> \n",
       "        <td id=\"T_be99fe92_7704_11e9_911c_0242ac130002row1_col9\" class=\"data row1 col9\" >4</td> \n",
       "        <td id=\"T_be99fe92_7704_11e9_911c_0242ac130002row1_col10\" class=\"data row1 col10\" >1</td> \n",
       "        <td id=\"T_be99fe92_7704_11e9_911c_0242ac130002row1_col11\" class=\"data row1 col11\" >233</td> \n",
       "    </tr>    <tr> \n",
       "        <th id=\"T_be99fe92_7704_11e9_911c_0242ac130002level0_row2\" class=\"row_heading level0 row2\" rowspan=2>male</th> \n",
       "        <th id=\"T_be99fe92_7704_11e9_911c_0242ac130002level1_row2\" class=\"row_heading level1 row2\" >0</th> \n",
       "        <td id=\"T_be99fe92_7704_11e9_911c_0242ac130002row2_col0\" class=\"data row2 col0\" >42</td> \n",
       "        <td id=\"T_be99fe92_7704_11e9_911c_0242ac130002row2_col1\" class=\"data row2 col1\" >86</td> \n",
       "        <td id=\"T_be99fe92_7704_11e9_911c_0242ac130002row2_col2\" class=\"data row2 col2\" >294</td> \n",
       "        <td id=\"T_be99fe92_7704_11e9_911c_0242ac130002row2_col3\" class=\"data row2 col3\" >23</td> \n",
       "        <td id=\"T_be99fe92_7704_11e9_911c_0242ac130002row2_col4\" class=\"data row2 col4\" >5</td> \n",
       "        <td id=\"T_be99fe92_7704_11e9_911c_0242ac130002row2_col5\" class=\"data row2 col5\" >6</td> \n",
       "        <td id=\"T_be99fe92_7704_11e9_911c_0242ac130002row2_col6\" class=\"data row2 col6\" >5</td> \n",
       "        <td id=\"T_be99fe92_7704_11e9_911c_0242ac130002row2_col7\" class=\"data row2 col7\" >1</td> \n",
       "        <td id=\"T_be99fe92_7704_11e9_911c_0242ac130002row2_col8\" class=\"data row2 col8\" >4</td> \n",
       "        <td id=\"T_be99fe92_7704_11e9_911c_0242ac130002row2_col9\" class=\"data row2 col9\" >2</td> \n",
       "        <td id=\"T_be99fe92_7704_11e9_911c_0242ac130002row2_col10\" class=\"data row2 col10\" >0</td> \n",
       "        <td id=\"T_be99fe92_7704_11e9_911c_0242ac130002row2_col11\" class=\"data row2 col11\" >468</td> \n",
       "    </tr>    <tr> \n",
       "        <th id=\"T_be99fe92_7704_11e9_911c_0242ac130002level1_row3\" class=\"row_heading level1 row3\" >1</th> \n",
       "        <td id=\"T_be99fe92_7704_11e9_911c_0242ac130002row3_col0\" class=\"data row3 col0\" >23</td> \n",
       "        <td id=\"T_be99fe92_7704_11e9_911c_0242ac130002row3_col1\" class=\"data row3 col1\" >17</td> \n",
       "        <td id=\"T_be99fe92_7704_11e9_911c_0242ac130002row3_col2\" class=\"data row3 col2\" >42</td> \n",
       "        <td id=\"T_be99fe92_7704_11e9_911c_0242ac130002row3_col3\" class=\"data row3 col3\" >15</td> \n",
       "        <td id=\"T_be99fe92_7704_11e9_911c_0242ac130002row3_col4\" class=\"data row3 col4\" >0</td> \n",
       "        <td id=\"T_be99fe92_7704_11e9_911c_0242ac130002row3_col5\" class=\"data row3 col5\" >5</td> \n",
       "        <td id=\"T_be99fe92_7704_11e9_911c_0242ac130002row3_col6\" class=\"data row3 col6\" >4</td> \n",
       "        <td id=\"T_be99fe92_7704_11e9_911c_0242ac130002row3_col7\" class=\"data row3 col7\" >1</td> \n",
       "        <td id=\"T_be99fe92_7704_11e9_911c_0242ac130002row3_col8\" class=\"data row3 col8\" >0</td> \n",
       "        <td id=\"T_be99fe92_7704_11e9_911c_0242ac130002row3_col9\" class=\"data row3 col9\" >0</td> \n",
       "        <td id=\"T_be99fe92_7704_11e9_911c_0242ac130002row3_col10\" class=\"data row3 col10\" >2</td> \n",
       "        <td id=\"T_be99fe92_7704_11e9_911c_0242ac130002row3_col11\" class=\"data row3 col11\" >109</td> \n",
       "    </tr>    <tr> \n",
       "        <th id=\"T_be99fe92_7704_11e9_911c_0242ac130002level0_row4\" class=\"row_heading level0 row4\" >All</th> \n",
       "        <th id=\"T_be99fe92_7704_11e9_911c_0242ac130002level1_row4\" class=\"row_heading level1 row4\" ></th> \n",
       "        <td id=\"T_be99fe92_7704_11e9_911c_0242ac130002row4_col0\" class=\"data row4 col0\" >77</td> \n",
       "        <td id=\"T_be99fe92_7704_11e9_911c_0242ac130002row4_col1\" class=\"data row4 col1\" >177</td> \n",
       "        <td id=\"T_be99fe92_7704_11e9_911c_0242ac130002row4_col2\" class=\"data row4 col2\" >477</td> \n",
       "        <td id=\"T_be99fe92_7704_11e9_911c_0242ac130002row4_col3\" class=\"data row4 col3\" >86</td> \n",
       "        <td id=\"T_be99fe92_7704_11e9_911c_0242ac130002row4_col4\" class=\"data row4 col4\" >7</td> \n",
       "        <td id=\"T_be99fe92_7704_11e9_911c_0242ac130002row4_col5\" class=\"data row4 col5\" >14</td> \n",
       "        <td id=\"T_be99fe92_7704_11e9_911c_0242ac130002row4_col6\" class=\"data row4 col6\" >24</td> \n",
       "        <td id=\"T_be99fe92_7704_11e9_911c_0242ac130002row4_col7\" class=\"data row4 col7\" >9</td> \n",
       "        <td id=\"T_be99fe92_7704_11e9_911c_0242ac130002row4_col8\" class=\"data row4 col8\" >11</td> \n",
       "        <td id=\"T_be99fe92_7704_11e9_911c_0242ac130002row4_col9\" class=\"data row4 col9\" >6</td> \n",
       "        <td id=\"T_be99fe92_7704_11e9_911c_0242ac130002row4_col10\" class=\"data row4 col10\" >3</td> \n",
       "        <td id=\"T_be99fe92_7704_11e9_911c_0242ac130002row4_col11\" class=\"data row4 col11\" >891</td> \n",
       "    </tr></tbody> \n",
       "</table> "
      ],
      "text/plain": [
       "<pandas.io.formats.style.Styler at 0x7f95b3d82f28>"
      ]
     },
     "execution_count": 44,
     "metadata": {},
     "output_type": "execute_result"
    }
   ],
   "source": [
    "pd.crosstab([df_train.Sex, df_train.Survived], [df_train.Fare_bin, df_train.Pclass], margins=True).style.background_gradient(cmap='autumn_r')"
   ]
  },
  {
   "cell_type": "markdown",
   "metadata": {
    "_cell_guid": "0e42bcc2-7e44-428f-9f59-3e5a0a4f45e6",
    "_uuid": "26c3ecb1baffe766db0c67035c2f2db1810ffcfc"
   },
   "source": []
  },
  {
   "cell_type": "code",
   "execution_count": 45,
   "metadata": {
    "_cell_guid": "642c5d70-97a9-48cc-b5c8-8e07e4db71ac",
    "_uuid": "99172edb70d21c3fb13de749f9df1569dc7461f9"
   },
   "outputs": [],
   "source": [
    "# males in Fare_bin = 11 survived\n",
    "df_test.loc[ (df_test.Sex == 'male') & (df_test.Fare_bin == 11), 'Survived'] = 1"
   ]
  },
  {
   "cell_type": "markdown",
   "metadata": {
    "_cell_guid": "dd78e40e-e907-4b07-bae8-63c11c626e27",
    "_uuid": "b1a66aaa910a8c3956dc2c4aa6dc47140713b1fc"
   },
   "source": [
    "fourth model : model 3 + Age_bin, SibSp, Parch and Fare_bin  \n",
    "submission : 0.789 accuracy"
   ]
  },
  {
   "cell_type": "code",
   "execution_count": 46,
   "metadata": {
    "_cell_guid": "bafbd295-3155-4910-9e31-0d503ff191fa",
    "_uuid": "0f71d8c091cc8275f4ba55ccd3bda94558b2eb08"
   },
   "outputs": [],
   "source": [
    "# model 4\n",
    "# df_test[['PassengerId', 'Survived']].to_csv('model_4.csv', index=False)"
   ]
  },
  {
   "cell_type": "code",
   "execution_count": 47,
   "metadata": {
    "_cell_guid": "a2925f8c-f423-41fa-b5bf-be3aee40085d",
    "_uuid": "50b87053b54b3c4ff8665140195a1f998b2ab67f"
   },
   "outputs": [],
   "source": [
    "df_test.drop(['Survived'],axis=1,inplace=True)"
   ]
  },
  {
   "cell_type": "markdown",
   "metadata": {
    "_cell_guid": "4ea56fab-36bd-4653-ae5c-84ddd2b952ac",
    "_uuid": "234841fbf8468fff4dae479d754e2faf7a608d48"
   },
   "source": [
    "\n",
    "## Part 2: Data wrangling\n",
    "\n",
    "building two new dataframes df_train_ml and df_test_ml  \n",
    "these will have only ordinal features and no missing values so they can be used for ML algorithms  \n",
    "converting categorical to numerical by pd.get_dummies  \n",
    "dropping all features that seem to be not useful for prediction  \n",
    "Then use the Standard scaler and apply train/test split"
   ]
  },
  {
   "cell_type": "code",
   "execution_count": 48,
   "metadata": {
    "_cell_guid": "652b2dc3-f948-497c-90c1-5be0dea4c8ea",
    "_uuid": "9a31d42ed6c2c691a7c623f5a9bb4f22299f89a0"
   },
   "outputs": [],
   "source": [
    "df_train_ml = df_train.copy()\n",
    "df_test_ml = df_test.copy()"
   ]
  },
  {
   "cell_type": "markdown",
   "metadata": {
    "_uuid": "9a9e22bc52998976d8db53466f3eb555fea22279"
   },
   "source": [
    "**pandas get_dummies for categorical features**"
   ]
  },
  {
   "cell_type": "code",
   "execution_count": 49,
   "metadata": {
    "_cell_guid": "bd6d2c42-c06e-4d90-899b-bb7bd2c7c0bf",
    "_uuid": "e92489c48f64a1bb6583433a5b5f05c49aed7525"
   },
   "outputs": [],
   "source": [
    "df_train_ml = pd.get_dummies(df_train_ml, columns=['Sex', 'Embarked', 'Pclass'], drop_first=True)\n",
    "df_train_ml.drop(['PassengerId','Name','Ticket', 'Cabin', 'Age_bin', 'Fare_bin'],axis=1,inplace=True)\n",
    "df_train_ml.dropna(inplace=True)"
   ]
  },
  {
   "cell_type": "code",
   "execution_count": 50,
   "metadata": {
    "_cell_guid": "6260f108-ebbc-4c9b-bd26-e09745db239e",
    "_uuid": "e62432f4174b210f2495be370071a9fa6b5ba334"
   },
   "outputs": [],
   "source": [
    "passenger_id = df_test_ml['PassengerId']\n",
    "df_test_ml = pd.get_dummies(df_test_ml, columns=['Sex', 'Embarked', 'Pclass'], drop_first=True)\n",
    "df_test_ml.drop(['PassengerId','Name','Ticket', 'Cabin', 'Age_bin', 'Fare_bin'],axis=1,inplace=True)"
   ]
  },
  {
   "cell_type": "code",
   "execution_count": 51,
   "metadata": {
    "_cell_guid": "bc0ea6bd-cebb-4622-a785-f517e219834d",
    "_uuid": "a1ebf6d67eb088f0d48898311416edb95ae00252"
   },
   "outputs": [
    {
     "data": {
      "text/html": [
       "<div>\n",
       "<style scoped>\n",
       "    .dataframe tbody tr th:only-of-type {\n",
       "        vertical-align: middle;\n",
       "    }\n",
       "\n",
       "    .dataframe tbody tr th {\n",
       "        vertical-align: top;\n",
       "    }\n",
       "\n",
       "    .dataframe thead th {\n",
       "        text-align: right;\n",
       "    }\n",
       "</style>\n",
       "<table border=\"1\" class=\"dataframe\">\n",
       "  <thead>\n",
       "    <tr style=\"text-align: right;\">\n",
       "      <th></th>\n",
       "      <th>Survived</th>\n",
       "      <th>Age</th>\n",
       "      <th>SibSp</th>\n",
       "      <th>Parch</th>\n",
       "      <th>Fare</th>\n",
       "      <th>Sex_male</th>\n",
       "      <th>Embarked_Q</th>\n",
       "      <th>Embarked_S</th>\n",
       "      <th>Pclass_2</th>\n",
       "      <th>Pclass_3</th>\n",
       "    </tr>\n",
       "  </thead>\n",
       "  <tbody>\n",
       "    <tr>\n",
       "      <th>0</th>\n",
       "      <td>0</td>\n",
       "      <td>22.0</td>\n",
       "      <td>1</td>\n",
       "      <td>0</td>\n",
       "      <td>7.2500</td>\n",
       "      <td>1</td>\n",
       "      <td>0</td>\n",
       "      <td>1</td>\n",
       "      <td>0</td>\n",
       "      <td>1</td>\n",
       "    </tr>\n",
       "    <tr>\n",
       "      <th>1</th>\n",
       "      <td>1</td>\n",
       "      <td>38.0</td>\n",
       "      <td>1</td>\n",
       "      <td>0</td>\n",
       "      <td>71.2833</td>\n",
       "      <td>0</td>\n",
       "      <td>0</td>\n",
       "      <td>0</td>\n",
       "      <td>0</td>\n",
       "      <td>0</td>\n",
       "    </tr>\n",
       "    <tr>\n",
       "      <th>2</th>\n",
       "      <td>1</td>\n",
       "      <td>26.0</td>\n",
       "      <td>0</td>\n",
       "      <td>0</td>\n",
       "      <td>7.9250</td>\n",
       "      <td>0</td>\n",
       "      <td>0</td>\n",
       "      <td>1</td>\n",
       "      <td>0</td>\n",
       "      <td>1</td>\n",
       "    </tr>\n",
       "    <tr>\n",
       "      <th>3</th>\n",
       "      <td>1</td>\n",
       "      <td>35.0</td>\n",
       "      <td>1</td>\n",
       "      <td>0</td>\n",
       "      <td>53.1000</td>\n",
       "      <td>0</td>\n",
       "      <td>0</td>\n",
       "      <td>1</td>\n",
       "      <td>0</td>\n",
       "      <td>0</td>\n",
       "    </tr>\n",
       "    <tr>\n",
       "      <th>4</th>\n",
       "      <td>0</td>\n",
       "      <td>35.0</td>\n",
       "      <td>0</td>\n",
       "      <td>0</td>\n",
       "      <td>8.0500</td>\n",
       "      <td>1</td>\n",
       "      <td>0</td>\n",
       "      <td>1</td>\n",
       "      <td>0</td>\n",
       "      <td>1</td>\n",
       "    </tr>\n",
       "    <tr>\n",
       "      <th>6</th>\n",
       "      <td>0</td>\n",
       "      <td>54.0</td>\n",
       "      <td>0</td>\n",
       "      <td>0</td>\n",
       "      <td>51.8625</td>\n",
       "      <td>1</td>\n",
       "      <td>0</td>\n",
       "      <td>1</td>\n",
       "      <td>0</td>\n",
       "      <td>0</td>\n",
       "    </tr>\n",
       "    <tr>\n",
       "      <th>7</th>\n",
       "      <td>0</td>\n",
       "      <td>2.0</td>\n",
       "      <td>3</td>\n",
       "      <td>1</td>\n",
       "      <td>21.0750</td>\n",
       "      <td>1</td>\n",
       "      <td>0</td>\n",
       "      <td>1</td>\n",
       "      <td>0</td>\n",
       "      <td>1</td>\n",
       "    </tr>\n",
       "    <tr>\n",
       "      <th>8</th>\n",
       "      <td>1</td>\n",
       "      <td>27.0</td>\n",
       "      <td>0</td>\n",
       "      <td>2</td>\n",
       "      <td>11.1333</td>\n",
       "      <td>0</td>\n",
       "      <td>0</td>\n",
       "      <td>1</td>\n",
       "      <td>0</td>\n",
       "      <td>1</td>\n",
       "    </tr>\n",
       "    <tr>\n",
       "      <th>9</th>\n",
       "      <td>1</td>\n",
       "      <td>14.0</td>\n",
       "      <td>1</td>\n",
       "      <td>0</td>\n",
       "      <td>30.0708</td>\n",
       "      <td>0</td>\n",
       "      <td>0</td>\n",
       "      <td>0</td>\n",
       "      <td>1</td>\n",
       "      <td>0</td>\n",
       "    </tr>\n",
       "    <tr>\n",
       "      <th>10</th>\n",
       "      <td>1</td>\n",
       "      <td>4.0</td>\n",
       "      <td>1</td>\n",
       "      <td>1</td>\n",
       "      <td>16.7000</td>\n",
       "      <td>0</td>\n",
       "      <td>0</td>\n",
       "      <td>1</td>\n",
       "      <td>0</td>\n",
       "      <td>1</td>\n",
       "    </tr>\n",
       "  </tbody>\n",
       "</table>\n",
       "</div>"
      ],
      "text/plain": [
       "    Survived   Age  SibSp    ...     Embarked_S  Pclass_2  Pclass_3\n",
       "0          0  22.0      1    ...              1         0         1\n",
       "1          1  38.0      1    ...              0         0         0\n",
       "2          1  26.0      0    ...              1         0         1\n",
       "3          1  35.0      1    ...              1         0         0\n",
       "4          0  35.0      0    ...              1         0         1\n",
       "6          0  54.0      0    ...              1         0         0\n",
       "7          0   2.0      3    ...              1         0         1\n",
       "8          1  27.0      0    ...              1         0         1\n",
       "9          1  14.0      1    ...              0         1         0\n",
       "10         1   4.0      1    ...              1         0         1\n",
       "\n",
       "[10 rows x 10 columns]"
      ]
     },
     "execution_count": 51,
     "metadata": {},
     "output_type": "execute_result"
    }
   ],
   "source": [
    "df_train_ml.head(10)"
   ]
  },
  {
   "cell_type": "code",
   "execution_count": 52,
   "metadata": {
    "_cell_guid": "fce96fa4-31fd-4172-a318-82cc52648334",
    "_uuid": "e9c0d6596a00d10870061cb5a9ace69c50485acb"
   },
   "outputs": [
    {
     "name": "stdout",
     "output_type": "stream",
     "text": [
      "<class 'pandas.core.frame.DataFrame'>\n",
      "Int64Index: 714 entries, 0 to 890\n",
      "Data columns (total 10 columns):\n",
      "Survived      714 non-null int64\n",
      "Age           714 non-null float64\n",
      "SibSp         714 non-null int64\n",
      "Parch         714 non-null int64\n",
      "Fare          714 non-null float64\n",
      "Sex_male      714 non-null uint8\n",
      "Embarked_Q    714 non-null uint8\n",
      "Embarked_S    714 non-null uint8\n",
      "Pclass_2      714 non-null uint8\n",
      "Pclass_3      714 non-null uint8\n",
      "dtypes: float64(2), int64(3), uint8(5)\n",
      "memory usage: 37.0 KB\n"
     ]
    }
   ],
   "source": [
    "df_train_ml.info()"
   ]
  },
  {
   "cell_type": "code",
   "execution_count": 53,
   "metadata": {
    "_cell_guid": "e428437a-0d5d-459d-a3e2-25cd21a0985b",
    "_uuid": "e76005c871612baf9bfa17fec4ed5a0abec70df8"
   },
   "outputs": [
    {
     "name": "stdout",
     "output_type": "stream",
     "text": [
      "<class 'pandas.core.frame.DataFrame'>\n",
      "RangeIndex: 418 entries, 0 to 417\n",
      "Data columns (total 9 columns):\n",
      "Age           332 non-null float64\n",
      "SibSp         418 non-null int64\n",
      "Parch         418 non-null int64\n",
      "Fare          417 non-null float64\n",
      "Sex_male      418 non-null uint8\n",
      "Embarked_Q    418 non-null uint8\n",
      "Embarked_S    418 non-null uint8\n",
      "Pclass_2      418 non-null uint8\n",
      "Pclass_3      418 non-null uint8\n",
      "dtypes: float64(2), int64(2), uint8(5)\n",
      "memory usage: 15.2 KB\n"
     ]
    }
   ],
   "source": [
    "df_test_ml.info()"
   ]
  },
  {
   "cell_type": "code",
   "execution_count": 54,
   "metadata": {
    "_cell_guid": "0b0bede5-efad-4372-bb5d-efc18da3ca03",
    "_uuid": "5ea1c0e579b2a914242c8f78dde70fefb1ab7b05"
   },
   "outputs": [
    {
     "data": {
      "text/html": [
       "<div>\n",
       "<style scoped>\n",
       "    .dataframe tbody tr th:only-of-type {\n",
       "        vertical-align: middle;\n",
       "    }\n",
       "\n",
       "    .dataframe tbody tr th {\n",
       "        vertical-align: top;\n",
       "    }\n",
       "\n",
       "    .dataframe thead th {\n",
       "        text-align: right;\n",
       "    }\n",
       "</style>\n",
       "<table border=\"1\" class=\"dataframe\">\n",
       "  <thead>\n",
       "    <tr style=\"text-align: right;\">\n",
       "      <th></th>\n",
       "      <th>Age</th>\n",
       "      <th>SibSp</th>\n",
       "      <th>Parch</th>\n",
       "      <th>Fare</th>\n",
       "      <th>Sex_male</th>\n",
       "      <th>Embarked_Q</th>\n",
       "      <th>Embarked_S</th>\n",
       "      <th>Pclass_2</th>\n",
       "      <th>Pclass_3</th>\n",
       "    </tr>\n",
       "  </thead>\n",
       "  <tbody>\n",
       "    <tr>\n",
       "      <th>0</th>\n",
       "      <td>34.5</td>\n",
       "      <td>0</td>\n",
       "      <td>0</td>\n",
       "      <td>7.8292</td>\n",
       "      <td>1</td>\n",
       "      <td>1</td>\n",
       "      <td>0</td>\n",
       "      <td>0</td>\n",
       "      <td>1</td>\n",
       "    </tr>\n",
       "    <tr>\n",
       "      <th>1</th>\n",
       "      <td>47.0</td>\n",
       "      <td>1</td>\n",
       "      <td>0</td>\n",
       "      <td>7.0000</td>\n",
       "      <td>0</td>\n",
       "      <td>0</td>\n",
       "      <td>1</td>\n",
       "      <td>0</td>\n",
       "      <td>1</td>\n",
       "    </tr>\n",
       "    <tr>\n",
       "      <th>2</th>\n",
       "      <td>62.0</td>\n",
       "      <td>0</td>\n",
       "      <td>0</td>\n",
       "      <td>9.6875</td>\n",
       "      <td>1</td>\n",
       "      <td>1</td>\n",
       "      <td>0</td>\n",
       "      <td>1</td>\n",
       "      <td>0</td>\n",
       "    </tr>\n",
       "    <tr>\n",
       "      <th>3</th>\n",
       "      <td>27.0</td>\n",
       "      <td>0</td>\n",
       "      <td>0</td>\n",
       "      <td>8.6625</td>\n",
       "      <td>1</td>\n",
       "      <td>0</td>\n",
       "      <td>1</td>\n",
       "      <td>0</td>\n",
       "      <td>1</td>\n",
       "    </tr>\n",
       "    <tr>\n",
       "      <th>4</th>\n",
       "      <td>22.0</td>\n",
       "      <td>1</td>\n",
       "      <td>1</td>\n",
       "      <td>12.2875</td>\n",
       "      <td>0</td>\n",
       "      <td>0</td>\n",
       "      <td>1</td>\n",
       "      <td>0</td>\n",
       "      <td>1</td>\n",
       "    </tr>\n",
       "    <tr>\n",
       "      <th>5</th>\n",
       "      <td>14.0</td>\n",
       "      <td>0</td>\n",
       "      <td>0</td>\n",
       "      <td>9.2250</td>\n",
       "      <td>1</td>\n",
       "      <td>0</td>\n",
       "      <td>1</td>\n",
       "      <td>0</td>\n",
       "      <td>1</td>\n",
       "    </tr>\n",
       "    <tr>\n",
       "      <th>6</th>\n",
       "      <td>30.0</td>\n",
       "      <td>0</td>\n",
       "      <td>0</td>\n",
       "      <td>7.6292</td>\n",
       "      <td>0</td>\n",
       "      <td>1</td>\n",
       "      <td>0</td>\n",
       "      <td>0</td>\n",
       "      <td>1</td>\n",
       "    </tr>\n",
       "    <tr>\n",
       "      <th>7</th>\n",
       "      <td>26.0</td>\n",
       "      <td>1</td>\n",
       "      <td>1</td>\n",
       "      <td>29.0000</td>\n",
       "      <td>1</td>\n",
       "      <td>0</td>\n",
       "      <td>1</td>\n",
       "      <td>1</td>\n",
       "      <td>0</td>\n",
       "    </tr>\n",
       "    <tr>\n",
       "      <th>8</th>\n",
       "      <td>18.0</td>\n",
       "      <td>0</td>\n",
       "      <td>0</td>\n",
       "      <td>7.2292</td>\n",
       "      <td>0</td>\n",
       "      <td>0</td>\n",
       "      <td>0</td>\n",
       "      <td>0</td>\n",
       "      <td>1</td>\n",
       "    </tr>\n",
       "    <tr>\n",
       "      <th>9</th>\n",
       "      <td>21.0</td>\n",
       "      <td>2</td>\n",
       "      <td>0</td>\n",
       "      <td>24.1500</td>\n",
       "      <td>1</td>\n",
       "      <td>0</td>\n",
       "      <td>1</td>\n",
       "      <td>0</td>\n",
       "      <td>1</td>\n",
       "    </tr>\n",
       "  </tbody>\n",
       "</table>\n",
       "</div>"
      ],
      "text/plain": [
       "    Age  SibSp  Parch    ...     Embarked_S  Pclass_2  Pclass_3\n",
       "0  34.5      0      0    ...              0         0         1\n",
       "1  47.0      1      0    ...              1         0         1\n",
       "2  62.0      0      0    ...              0         1         0\n",
       "3  27.0      0      0    ...              1         0         1\n",
       "4  22.0      1      1    ...              1         0         1\n",
       "5  14.0      0      0    ...              1         0         1\n",
       "6  30.0      0      0    ...              0         0         1\n",
       "7  26.0      1      1    ...              1         1         0\n",
       "8  18.0      0      0    ...              0         0         1\n",
       "9  21.0      2      0    ...              1         0         1\n",
       "\n",
       "[10 rows x 9 columns]"
      ]
     },
     "execution_count": 54,
     "metadata": {},
     "output_type": "execute_result"
    }
   ],
   "source": [
    "df_test_ml.head(10)"
   ]
  },
  {
   "cell_type": "markdown",
   "metadata": {
    "_cell_guid": "f27af614-2e9f-4c84-9ee4-ce559a389cf5",
    "_uuid": "119c33bc381878c773350aeb67c50da7b647a0fc"
   },
   "source": [
    "**Correlation Matrix**"
   ]
  },
  {
   "cell_type": "code",
   "execution_count": 55,
   "metadata": {
    "_cell_guid": "c57bfd45-629a-433d-81c0-648693cd81a7",
    "_uuid": "56e391dbd1c08c3d2665fb11effa9bfdb26351c2"
   },
   "outputs": [
    {
     "data": {
      "image/png": "[encoded data removed]",
      "text/plain": [
       "<Figure size 648x432 with 2 Axes>"
      ]
     },
     "metadata": {},
     "output_type": "display_data"
    }
   ],
   "source": [
    "corr = df_train_ml.corr()\n",
    "\n",
    "f,ax = plt.subplots(figsize=(9,6))\n",
    "sns.heatmap(corr, annot = True, linewidths=1.5 , fmt = '.2f',ax=ax)\n",
    "plt.show()"
   ]
  },
  {
   "cell_type": "markdown",
   "metadata": {
    "_uuid": "cbc0a3ae5a12f681051ee8b947f445c24d8d13be"
   },
   "source": [
    "Survived and Fare positively correlated, Survived and Sex_male negatively correlated.  \n",
    "Also, Survived and Pclass_3 negatively correlated. SibSp and Parch correlated"
   ]
  },
  {
   "cell_type": "markdown",
   "metadata": {
    "_cell_guid": "9e081640-5bd0-4ace-be3b-5ceccc2b11d1",
    "_uuid": "01bdefe92d15038b8ab3f586e9c52e524aef019b"
   },
   "source": [
    "**sklearn StandardScaler**"
   ]
  },
  {
   "cell_type": "code",
   "execution_count": 56,
   "metadata": {
    "_cell_guid": "bddddf4c-b292-44f9-9670-869ce82b47a8",
    "_uuid": "37da643912238c3168325df04b6e4ed5dc90145d"
   },
   "outputs": [
    {
     "name": "stderr",
     "output_type": "stream",
     "text": [
      "/opt/conda/lib/python3.6/site-packages/sklearn/preprocessing/data.py:645: DataConversionWarning: Data with input dtype uint8, int64, float64 were all converted to float64 by StandardScaler.\n",
      "  return self.partial_fit(X, y)\n",
      "/opt/conda/lib/python3.6/site-packages/ipykernel_launcher.py:6: DataConversionWarning: Data with input dtype uint8, int64, float64 were all converted to float64 by StandardScaler.\n",
      "  \n",
      "/opt/conda/lib/python3.6/site-packages/ipykernel_launcher.py:12: DataConversionWarning: Data with input dtype uint8, int64, float64 were all converted to float64 by StandardScaler.\n",
      "  if sys.path[0] == '':\n"
     ]
    }
   ],
   "source": [
    "from sklearn.preprocessing import StandardScaler\n",
    "scaler = StandardScaler()\n",
    "\n",
    "# for df_train_ml\n",
    "scaler.fit(df_train_ml.drop('Survived',axis=1))\n",
    "scaled_features = scaler.transform(df_train_ml.drop('Survived',axis=1))\n",
    "df_train_ml_sc = pd.DataFrame(scaled_features, columns=df_train_ml.columns[:-1])\n",
    "\n",
    "# for df_test_ml\n",
    "df_test_ml.fillna(df_test_ml.mean(), inplace=True)\n",
    "# scaler.fit(df_test_ml)\n",
    "scaled_features = scaler.transform(df_test_ml)\n",
    "df_test_ml_sc = pd.DataFrame(scaled_features, columns=df_test_ml.columns)"
   ]
  },
  {
   "cell_type": "markdown",
   "metadata": {
    "_cell_guid": "69721af1-e5b6-44dd-8031-16f35377d7f7",
    "_uuid": "17ed2ba80cf75636842a1b27f994766f8ef05c7d"
   },
   "source": []
  },
  {
   "cell_type": "markdown",
   "metadata": {
    "_cell_guid": "2b933e10-5fcb-4e96-82d9-e43a250a5b96",
    "_uuid": "ef6756ea1bb077b36c803069fb12c71fab9b7958"
   },
   "source": [
    "**train_test_split**  \n",
    "use 70% of the data for training and 30% for testing"
   ]
  },
  {
   "cell_type": "code",
   "execution_count": 57,
   "metadata": {
    "_cell_guid": "a0f88356-1b14-4a56-9535-e43aa781e2d0",
    "_uuid": "5ce435c99a735bc0cda9775ef375d3f57ec1ff3b"
   },
   "outputs": [],
   "source": [
    "from sklearn.model_selection import train_test_split\n",
    "X_train, X_test, y_train, y_test = train_test_split(df_train_ml.drop('Survived',axis=1), df_train_ml['Survived'], test_size=0.30, random_state=101)\n",
    "X_train_sc, X_test_sc, y_train_sc, y_test_sc = train_test_split(df_train_ml_sc, df_train_ml['Survived'], test_size=0.30, random_state=101)"
   ]
  },
  {
   "cell_type": "markdown",
   "metadata": {
    "_cell_guid": "306951c3-c004-4c30-929a-54b461c19871",
    "_uuid": "8e27b3baf7a41fbc58110d16c36e732b8ec74179"
   },
   "source": [
    "**all data for submission**"
   ]
  },
  {
   "cell_type": "code",
   "execution_count": 58,
   "metadata": {
    "_cell_guid": "1a8b5751-6090-4db1-94c0-38538f6e31d9",
    "_uuid": "6699fa2223103aca2b725b43d0468abaab7a4960"
   },
   "outputs": [],
   "source": [
    "# unscaled\n",
    "X_train_all = df_train_ml.drop('Survived',axis=1)\n",
    "y_train_all = df_train_ml['Survived']\n",
    "X_test_all = df_test_ml\n",
    "\n",
    "# scaled\n",
    "X_train_all_sc = df_train_ml_sc\n",
    "y_train_all_sc = df_train_ml['Survived']\n",
    "X_test_all_sc = df_test_ml_sc"
   ]
  },
  {
   "cell_type": "markdown",
   "metadata": {
    "_cell_guid": "e2cfbf74-9bad-43be-82e3-4fe0bd14777a",
    "_uuid": "a465421f227fcc37ac587c762aed5cd92bc55983"
   },
   "source": [
    "**fillna: fill nan with mean values for that column** "
   ]
  },
  {
   "cell_type": "code",
   "execution_count": 59,
   "metadata": {
    "_cell_guid": "c5e56666-3bf0-4114-8b6e-062bf6a2b57e",
    "_uuid": "b3416d5b019c4ab043880e52a2e3bf15c2be80cc"
   },
   "outputs": [
    {
     "name": "stdout",
     "output_type": "stream",
     "text": [
      "*\n"
     ]
    }
   ],
   "source": [
    "X_test_all.fillna(X_test_all.mean(), inplace=True)\n",
    "print(\"*\")"
   ]
  },
  {
   "cell_type": "code",
   "execution_count": 60,
   "metadata": {
    "_cell_guid": "34c5db90-ad9b-4641-8ce8-305950e0ff7f",
    "_uuid": "ad4815f3394926316ab5b96318c16c372be361ee"
   },
   "outputs": [],
   "source": []
  },
  {
   "cell_type": "markdown",
   "metadata": {
    "_cell_guid": "a97ce00f-0e3e-4426-94b8-a72c1dcc7a48",
    "_uuid": "2b70f2c1e3d0eb733ae55e7ce3194ac5dbbb6610"
   },
   "source": [
    "## Part 3: Scikit-learn basic ML algorithms and comparison of model results\n",
    "\n",
    "**Test simple sklearn models and compare by metrics**\n",
    "\n",
    "\n",
    "**We test the following classifiers from scikit-learn:**  \n",
    "3.1 [Logistic Regression](#3.1-Logistic-Regression)  \n",
    "3.2 [Gaussian Naive Bayes](#3.2-Gaussian-Naive-Bayes)  \n",
    "3.3 [K nearest neighbors KNN](#3.3-KNN---KNeighborsClassifier)  \n",
    "3.4 [Decision tree classifier](#3.4-Decision-Tree-Classifier)  \n",
    "3.5 Random forest classifier  \n",
    "3.6 SVM classifier  \n",
    "\n",
    "\n",
    "**First we apply the data from test/train split to get a first overview of the model performance.  \n",
    "Later we use the k fold cross validation which gives a better estimate for out of sample data.**  \n",
    "\n",
    "\n",
    "**For comparison of the results we use these metrics:**  \n",
    "accuracy_score, classification_report, confusion_matrix\n"
   ]
  },
  {
   "cell_type": "code",
   "execution_count": 60,
   "metadata": {
    "_cell_guid": "afb9743f-74dd-4ea2-9d1b-62f05c385f06",
    "_uuid": "5aa7b62561073ef598953a28d653f0efcc084ff3"
   },
   "outputs": [],
   "source": [
    "from sklearn.metrics import accuracy_score, classification_report, confusion_matrix"
   ]
  },
  {
   "cell_type": "markdown",
   "metadata": {
    "_uuid": "a38bb9583a4370505d8fd9fed85884e844c67e42"
   },
   "source": [
    "**confusion matrix** : used to evaluate the quality of the output of a classifier.  \n",
    "The diagonal elements represent the number of points for which the predicted label is equal to the true label, while off-diagonal elements are those that are mislabeled by the classifier. The higher the diagonal values of the confusion matrix the better, indicating many correct predictions.  \n",
    "*(from sklearn documentation, slightly modified)*\n",
    "\n",
    "The rows of a confusion matrix correspond to the true (actual) classes and the columns correspond to the predicted classes.  \n",
    "So, all together the confusion matrix for a **binary classifier** consists of 4 values:\n",
    "\n",
    "TN FP  \n",
    "FN TP  \n",
    "      \n",
    "TN: True negatives (prediction: not survived, true: not survived)  \n",
    "FP: False positives (prediction: survived, true: not survived)  \n",
    "FN: False negatives (prediction: not survived, true: survived)  \n",
    "TP: True positives (prediction: survived, true: survived)\n",
    "      \n",
    "      "
   ]
  },
  {
   "cell_type": "markdown",
   "metadata": {
    "_uuid": "599064d0c5c1f8e2898ac52e74afd3c0b01deeee"
   },
   "source": [
    "**accuracy score**  \n",
    "classification accuracy = correct predictions / total predictions   = (TP + TN)  /  (TP + TN + FP + FN) "
   ]
  },
  {
   "cell_type": "markdown",
   "metadata": {
    "_uuid": "6746435e7c2842ea68b7719f4ccec2a943365341"
   },
   "source": [
    "**classification_report**  \n",
    "*from https://scikit-learn.org/stable/modules/generated/sklearn.metrics.precision_recall_fscore_support.html* :  \n",
    "\n",
    "The precision is the ratio tp / (tp + fp) where tp is the number of true positives and fp the number of false positives. The precision is intuitively the ability of the classifier not to label as positive a sample that is negative.\n",
    "\n",
    "The recall is the ratio tp / (tp + fn) where tp is the number of true positives and fn the number of false negatives. The recall is intuitively the ability of the classifier to find all the positive samples.\n",
    "\n",
    "The F-beta score can be interpreted as a weighted harmonic mean of the precision and recall, where an F-beta score reaches its best value at 1 and worst score at 0.\n",
    "\n",
    "The F-beta score weights recall more than precision by a factor of beta. beta == 1.0 means recall and precision are equally important.\n",
    "\n",
    "The support is the number of occurrences of each class in y_true.\n",
    "\n",
    "precision\n",
    "recall\n",
    "f1-score\n",
    "support"
   ]
  },
  {
   "cell_type": "code",
   "execution_count": 61,
   "metadata": {
    "_uuid": "1c0a4d84091df7e2470d60f3d4511be4b2ecc25a"
   },
   "outputs": [],
   "source": []
  },
  {
   "cell_type": "markdown",
   "metadata": {
    "_cell_guid": "5dc9f50e-4678-4cac-b76b-a45cdb011c4b",
    "_uuid": "a98974492d221085c59ac67cd9335866f533d9df"
   },
   "source": [
    "### **3.1 Logistic Regression**  \n",
    "[sklearn](https://scikit-learn.org/stable/modules/generated/sklearn.linear_model.LogisticRegression.html) ++ [Wikipedia](https://en.wikipedia.org/wiki/Logistic_regression) ++ [Coursera Andrew Ng](https://www.coursera.org/lecture/machine-learning/classification-wlPeP)  ++ [towardsdatascience](https://towardsdatascience.com/logistic-regression-detailed-overview-46c4da4303bc) ++ [DataCamp](https://www.datacamp.com/community/tutorials/understanding-logistic-regression-python) ++ [hackernoon](https://hackernoon.com/introduction-to-machine-learning-algorithms-logistic-regression-cbdd82d81a36) ++ [dataaspirant](http://dataaspirant.com/2017/03/02/how-logistic-regression-model-works/)"
   ]
  },
  {
   "cell_type": "code",
   "execution_count": 61,
   "metadata": {
    "_cell_guid": "01dc1500-aecd-448d-a4e5-ba57428bdd76",
    "_uuid": "e8ca909c5fd5b8cd72fdaff07f9da8c68e6b9dff"
   },
   "outputs": [
    {
     "name": "stdout",
     "output_type": "stream",
     "text": [
      "[[107  16]\n",
      " [ 32  60]]\n",
      "              precision    recall  f1-score   support\n",
      "\n",
      "           0       0.77      0.87      0.82       123\n",
      "           1       0.79      0.65      0.71        92\n",
      "\n",
      "   micro avg       0.78      0.78      0.78       215\n",
      "   macro avg       0.78      0.76      0.77       215\n",
      "weighted avg       0.78      0.78      0.77       215\n",
      "\n",
      "0.7767441860465116\n"
     ]
    }
   ],
   "source": [
    "from sklearn.linear_model import LogisticRegression\n",
    "logreg = LogisticRegression()\n",
    "logreg.fit(X_train,y_train)\n",
    "pred_logreg = logreg.predict(X_test)\n",
    "print(confusion_matrix(y_test, pred_logreg))\n",
    "print(classification_report(y_test, pred_logreg))\n",
    "print(accuracy_score(y_test, pred_logreg))"
   ]
  },
  {
   "cell_type": "markdown",
   "metadata": {
    "_cell_guid": "ae4c3814-4809-42be-bb3b-91c19635fc57",
    "_uuid": "30cb74d5cc08bfb2febce98b7d41184413026790",
    "collapsed": true
   },
   "source": [
    "**Train again for all data and submit**"
   ]
  },
  {
   "cell_type": "code",
   "execution_count": 62,
   "metadata": {
    "_cell_guid": "9b79843b-f40d-4b59-adb3-62e326a24dec",
    "_uuid": "c4310a65657f5e23b621bfe3ad746374726ae890"
   },
   "outputs": [],
   "source": [
    "logreg.fit(X_train_all, y_train_all)\n",
    "pred_all_logreg = logreg.predict(X_test_all)"
   ]
  },
  {
   "cell_type": "code",
   "execution_count": 63,
   "metadata": {
    "_cell_guid": "b57744f3-454e-4576-8229-83820684693d",
    "_uuid": "4a99d5c8f07557a00541ba0ec385994dd0f3bc0b"
   },
   "outputs": [],
   "source": [
    "sub_logreg = pd.DataFrame()\n",
    "sub_logreg['PassengerId'] = df_test['PassengerId']\n",
    "sub_logreg['Survived'] = pred_all_logreg\n",
    "#sub_logmodel.to_csv('logmodel.csv',index=False)"
   ]
  },
  {
   "cell_type": "markdown",
   "metadata": {
    "_cell_guid": "d7d6f8e8-9be5-43d0-b494-1150ff590a04",
    "_uuid": "ee96ee067f8ef62ae6a5bce39dc8160b81245a7b"
   },
   "source": [
    "### **3.2 Gaussian Naive Bayes**  \n",
    "[sklearn](https://scikit-learn.org/stable/modules/naive_bayes.html) ++ [Wikipedia](https://en.wikipedia.org/wiki/Naive_Bayes_classifier#Gaussian_naive_Bayes) ++   [towardsdatascience](https://towardsdatascience.com/naive-bayes-classifier-81d512f50a7c) ++ [towardsdatascience](https://towardsdatascience.com/naive-bayes-in-machine-learning-f49cc8f831b4) ++ [DataCamp](https://www.datacamp.com/community/tutorials/naive-bayes-scikit-learn) ++ [dataaspirant](http://dataaspirant.com/2017/02/06/naive-bayes-classifier-machine-learning/) \n",
    "\n"
   ]
  },
  {
   "cell_type": "code",
   "execution_count": 64,
   "metadata": {
    "_cell_guid": "bab1431a-a998-4690-a723-3bf97c713f81",
    "_uuid": "10b21e9234e15473334284f5fb09865a8f6aed38"
   },
   "outputs": [
    {
     "name": "stdout",
     "output_type": "stream",
     "text": [
      "[[107  16]\n",
      " [ 36  56]]\n",
      "              precision    recall  f1-score   support\n",
      "\n",
      "           0       0.75      0.87      0.80       123\n",
      "           1       0.78      0.61      0.68        92\n",
      "\n",
      "   micro avg       0.76      0.76      0.76       215\n",
      "   macro avg       0.76      0.74      0.74       215\n",
      "weighted avg       0.76      0.76      0.75       215\n",
      "\n",
      "0.7581395348837209\n"
     ]
    }
   ],
   "source": [
    "from sklearn.naive_bayes import GaussianNB\n",
    "gnb=GaussianNB()\n",
    "gnb.fit(X_train,y_train)\n",
    "pred_gnb = gnb.predict(X_test)\n",
    "print(confusion_matrix(y_test, pred_gnb))\n",
    "print(classification_report(y_test, pred_gnb))\n",
    "print(accuracy_score(y_test, pred_gnb))"
   ]
  },
  {
   "cell_type": "code",
   "execution_count": 65,
   "metadata": {
    "_cell_guid": "77e67810-007a-4f41-b044-79db7473a702",
    "_uuid": "a0df98617614852e174974ab502030b9537588bd"
   },
   "outputs": [],
   "source": []
  },
  {
   "cell_type": "markdown",
   "metadata": {
    "_cell_guid": "bba6f74d-86ee-418e-9289-eb6c734a6233",
    "_uuid": "d50f9b2bd118508032ee574fb2807bf30fc808e4"
   },
   "source": [
    "### **3.3 KNN - KNeighborsClassifier**  \n",
    "[sklearn](https://scikit-learn.org/stable/modules/generated/sklearn.neighbors.KNeighborsClassifier.html) ++ [Wikipedia](https://en.wikipedia.org/wiki/K-nearest_neighbors_algorithm) ++   [Medium](https://medium.com/@adi.bronshtein/a-quick-introduction-to-k-nearest-neighbors-algorithm-62214cea29c7) ++ [towardsdatascience](https://towardsdatascience.com/introduction-to-k-nearest-neighbors-3b534bb11d26) ++ [datacamp](https://www.datacamp.com/community/tutorials/k-nearest-neighbor-classification-scikit-learn) ++ [analyticsvidhya](https://www.analyticsvidhya.com/blog/2018/03/introduction-k-neighbours-algorithm-clustering/) ++ [dataaspirant](http://dataaspirant.com/2016/12/27/k-nearest-neighbor-algorithm-implementaion-python-scratch/)\n",
    "\n",
    "\n"
   ]
  },
  {
   "cell_type": "code",
   "execution_count": 65,
   "metadata": {
    "_cell_guid": "cb7cd232-b69e-4607-9d9c-3b879f4bfcca",
    "_uuid": "af2c6002a730507bc05f31317d131239e84926c2"
   },
   "outputs": [
    {
     "data": {
      "text/plain": [
       "KNeighborsClassifier(algorithm='auto', leaf_size=30, metric='minkowski',\n",
       "           metric_params=None, n_jobs=None, n_neighbors=20, p=2,\n",
       "           weights='uniform')"
      ]
     },
     "execution_count": 65,
     "metadata": {},
     "output_type": "execute_result"
    }
   ],
   "source": [
    "from sklearn.neighbors import KNeighborsClassifier\n",
    "knn = KNeighborsClassifier(n_neighbors=20)\n",
    "knn.fit(X_train_sc,y_train_sc)"
   ]
  },
  {
   "cell_type": "code",
   "execution_count": 66,
   "metadata": {
    "_cell_guid": "dc54ea94-83ec-44e3-90c2-aa8cfcf9d296",
    "_uuid": "9dd521eb9c17dddbc50464d49fbc6e59efe5070c"
   },
   "outputs": [
    {
     "name": "stdout",
     "output_type": "stream",
     "text": [
      "[[71 52]\n",
      " [26 66]]\n",
      "              precision    recall  f1-score   support\n",
      "\n",
      "           0       0.73      0.58      0.65       123\n",
      "           1       0.56      0.72      0.63        92\n",
      "\n",
      "   micro avg       0.64      0.64      0.64       215\n",
      "   macro avg       0.65      0.65      0.64       215\n",
      "weighted avg       0.66      0.64      0.64       215\n",
      "\n",
      "0.6372093023255814\n"
     ]
    }
   ],
   "source": [
    "pred_knn = knn.predict(X_test)\n",
    "print(confusion_matrix(y_test, pred_knn))\n",
    "print(classification_report(y_test, pred_knn))\n",
    "print(accuracy_score(y_test, pred_knn))"
   ]
  },
  {
   "cell_type": "code",
   "execution_count": 67,
   "metadata": {
    "_cell_guid": "e33c6acd-800d-4ce4-a360-4a84a4adee63",
    "_uuid": "ebe21f1f1003b10e95065e38f65f2f0be28759d3"
   },
   "outputs": [],
   "source": [
    "knn.fit(X_train_all, y_train_all)\n",
    "pred_all_knn = knn.predict(X_test_all)"
   ]
  },
  {
   "cell_type": "code",
   "execution_count": 68,
   "metadata": {
    "_cell_guid": "f2f24f95-f151-4c29-9403-289fda0ca66e",
    "_uuid": "e9dd159c1daa993b6bca277ea8cb0150f5950d33"
   },
   "outputs": [],
   "source": [
    "sub_knn = pd.DataFrame()\n",
    "sub_knn['PassengerId'] = df_test['PassengerId']\n",
    "sub_knn['Survived'] = pred_all_knn\n",
    "#sub_knn.to_csv('knn.csv',index=False)"
   ]
  },
  {
   "cell_type": "markdown",
   "metadata": {
    "_cell_guid": "d13d9d1a-ba24-4c6d-bfe1-661684f003a3",
    "_uuid": "aa7d54676eabbecfc2a1900f2b807fa09a497325"
   },
   "source": [
    "### **3.4 Decision Tree Classifier**  \n",
    "[sklearn](https://scikit-learn.org/stable/modules/tree.html) ++ [Wikipedia](https://en.wikipedia.org/wiki/Decision_tree_learning) ++   [Medium](https://towardsdatascience.com/decision-trees-in-machine-learning-641b9c4e8052) ++ [Medium](https://medium.com/deep-math-machine-learning-ai/chapter-4-decision-trees-algorithms-b93975f7a1f1) ++ [datacamp](https://www.datacamp.com/community/tutorials/decision-tree-classification-python) ++ [hackernoon](https://hackernoon.com/what-is-a-decision-tree-in-machine-learning-15ce51dc445d) ++ [hackerearth](https://www.hackerearth.com/practice/machine-learning/machine-learning-algorithms/ml-decision-tree/tutorial/)"
   ]
  },
  {
   "cell_type": "code",
   "execution_count": 69,
   "metadata": {
    "_cell_guid": "f13c65cb-8cab-44c9-82e7-1b28c457f4a3",
    "_uuid": "12d314dfeb7e8426bf7c46426442e9a2001a5b57"
   },
   "outputs": [
    {
     "data": {
      "text/plain": [
       "DecisionTreeClassifier(class_weight=None, criterion='gini', max_depth=None,\n",
       "            max_features=None, max_leaf_nodes=None,\n",
       "            min_impurity_decrease=0.0, min_impurity_split=None,\n",
       "            min_samples_leaf=1, min_samples_split=2,\n",
       "            min_weight_fraction_leaf=0.0, presort=False, random_state=None,\n",
       "            splitter='best')"
      ]
     },
     "execution_count": 69,
     "metadata": {},
     "output_type": "execute_result"
    }
   ],
   "source": [
    "from sklearn.tree import DecisionTreeClassifier\n",
    "dtree = DecisionTreeClassifier()\n",
    "dtree.fit(X_train,y_train)"
   ]
  },
  {
   "cell_type": "code",
   "execution_count": 70,
   "metadata": {
    "_cell_guid": "c394d4b2-e2bd-4069-bf86-204e832454ae",
    "_uuid": "8978d730e880e08a6eedbc6a04d37fc886d3a1b2"
   },
   "outputs": [
    {
     "name": "stdout",
     "output_type": "stream",
     "text": [
      "              precision    recall  f1-score   support\n",
      "\n",
      "           0       0.75      0.82      0.78       123\n",
      "           1       0.72      0.63      0.67        92\n",
      "\n",
      "   micro avg       0.74      0.74      0.74       215\n",
      "   macro avg       0.74      0.73      0.73       215\n",
      "weighted avg       0.74      0.74      0.74       215\n",
      "\n",
      "0.7395348837209302\n"
     ]
    }
   ],
   "source": [
    "pred_dtree = dtree.predict(X_test)\n",
    "print(classification_report(y_test,pred_dtree))\n",
    "print(accuracy_score(y_test, pred_dtree))"
   ]
  },
  {
   "cell_type": "markdown",
   "metadata": {
    "_cell_guid": "e740c24c-65eb-43b7-be6c-faae1c0e0f48",
    "_uuid": "7c0bfe8c80e86cd819035a6e813b011589de7555"
   },
   "source": [
    "another decision tree with different parameters for max_features, max_depth and min_sample_split"
   ]
  },
  {
   "cell_type": "code",
   "execution_count": 71,
   "metadata": {
    "_cell_guid": "60447787-2162-4c45-8854-8bddc5b843ae",
    "_uuid": "35b52e7d6535918d117ea162efded54d5f02a1d4"
   },
   "outputs": [
    {
     "name": "stdout",
     "output_type": "stream",
     "text": [
      "              precision    recall  f1-score   support\n",
      "\n",
      "           0       0.72      0.95      0.82       123\n",
      "           1       0.89      0.51      0.65        92\n",
      "\n",
      "   micro avg       0.76      0.76      0.76       215\n",
      "   macro avg       0.80      0.73      0.73       215\n",
      "weighted avg       0.79      0.76      0.75       215\n",
      "\n",
      "0.7627906976744186\n"
     ]
    }
   ],
   "source": [
    "dtree_2 = DecisionTreeClassifier(max_features=7 , max_depth=6,  min_samples_split=8)\n",
    "dtree_2.fit(X_train,y_train)\n",
    "pred_dtree_2 = dtree_2.predict(X_test)\n",
    "print(classification_report(y_test, pred_dtree_2))\n",
    "print(accuracy_score(y_test, pred_dtree_2))"
   ]
  },
  {
   "cell_type": "markdown",
   "metadata": {
    "_cell_guid": "ea30a39c-8156-47f6-bec9-1a9ccf9650d3",
    "_uuid": "652c6896c85aecd4a97a7012a9a8738f73c86321"
   },
   "source": [
    "all data"
   ]
  },
  {
   "cell_type": "code",
   "execution_count": 72,
   "metadata": {
    "_cell_guid": "7808aa8f-a1df-4871-a3f2-da23875beb57",
    "_uuid": "e93797154e1f640b79d3b594e1aa75046be087e8"
   },
   "outputs": [],
   "source": [
    "dtree_2.fit(X_train_all, y_train_all)\n",
    "pred_all_dtree2 = dtree_2.predict(X_test_all)"
   ]
  },
  {
   "cell_type": "code",
   "execution_count": 73,
   "metadata": {
    "_cell_guid": "3e66bcee-31c7-4fbc-a09e-6c32f8859b53",
    "_uuid": "c210aa8b14ec568e092bfe496d5362533ecb458e"
   },
   "outputs": [],
   "source": []
  },
  {
   "cell_type": "code",
   "execution_count": 73,
   "metadata": {
    "_cell_guid": "5f37cb99-42f8-4e05-b9ec-385973f14692",
    "_uuid": "281c4476eaa11f290fdbee0ea502d1447f1822f2"
   },
   "outputs": [],
   "source": []
  },
  {
   "cell_type": "markdown",
   "metadata": {
    "_cell_guid": "433a8d63-597c-4e26-bbeb-1ed81354f7fa",
    "_uuid": "9e318aead214dd88a32dee050b63534baf476204"
   },
   "source": [
    "### **3.5 Random Forest Classifier**  \n",
    "[sklearn](https://scikit-learn.org/stable/modules/generated/sklearn.ensemble.RandomForestClassifier.html) ++ [Wikipedia](https://en.wikipedia.org/wiki/Random_forest) ++   [towardsdatascience](https://towardsdatascience.com/the-random-forest-algorithm-d457d499ffcd) ++ [towardsdatascience](https://towardsdatascience.com/random-forest-in-python-24d0893d51c0) ++ [datacamp](https://www.datacamp.com/community/tutorials/random-forests-classifier-python) ++ [youtube](https://www.youtube.com/watch?v=eM4uJ6XGnSM) ++ [jakevdp](https://jakevdp.github.io/PythonDataScienceHandbook/05.08-random-forests.html)"
   ]
  },
  {
   "cell_type": "code",
   "execution_count": 73,
   "metadata": {
    "_cell_guid": "6a509bda-3707-47a6-8842-575a5301b55b",
    "_uuid": "952a8943f083afbd92a9b886a0f34c15b825eaad"
   },
   "outputs": [
    {
     "data": {
      "text/plain": [
       "RandomForestClassifier(bootstrap=True, class_weight=None, criterion='gini',\n",
       "            max_depth=6, max_features=7, max_leaf_nodes=None,\n",
       "            min_impurity_decrease=0.0, min_impurity_split=None,\n",
       "            min_samples_leaf=1, min_samples_split=2,\n",
       "            min_weight_fraction_leaf=0.0, n_estimators=10, n_jobs=None,\n",
       "            oob_score=False, random_state=None, verbose=0,\n",
       "            warm_start=False)"
      ]
     },
     "execution_count": 73,
     "metadata": {},
     "output_type": "execute_result"
    }
   ],
   "source": [
    "from sklearn.ensemble import RandomForestClassifier\n",
    "rfc = RandomForestClassifier(max_depth=6, max_features=7)\n",
    "rfc.fit(X_train, y_train)"
   ]
  },
  {
   "cell_type": "code",
   "execution_count": 74,
   "metadata": {
    "_cell_guid": "cb0bc6b2-59e8-42d2-8715-65cfb03465be",
    "_uuid": "266fb47dddd6f5f6c6f48234f8882586ab444518"
   },
   "outputs": [
    {
     "name": "stdout",
     "output_type": "stream",
     "text": [
      "[[117   6]\n",
      " [ 33  59]]\n",
      "              precision    recall  f1-score   support\n",
      "\n",
      "           0       0.78      0.95      0.86       123\n",
      "           1       0.91      0.64      0.75        92\n",
      "\n",
      "   micro avg       0.82      0.82      0.82       215\n",
      "   macro avg       0.84      0.80      0.80       215\n",
      "weighted avg       0.83      0.82      0.81       215\n",
      "\n",
      "0.8186046511627907\n"
     ]
    }
   ],
   "source": [
    "pred_rfc = rfc.predict(X_test)\n",
    "print(confusion_matrix(y_test, pred_rfc))\n",
    "print(classification_report(y_test, pred_rfc))\n",
    "print(accuracy_score(y_test, pred_rfc))"
   ]
  },
  {
   "cell_type": "markdown",
   "metadata": {
    "_cell_guid": "2bce93e5-6999-461a-9cb5-22c5dddf9d00",
    "_uuid": "7be67c5f903cdc46bccfc4301fc698e202ee362e"
   },
   "source": [
    "**Train again for all data and submit**"
   ]
  },
  {
   "cell_type": "code",
   "execution_count": 75,
   "metadata": {
    "_cell_guid": "b2ec4f9a-0b1d-4853-8098-34321d6039f1",
    "_uuid": "eb506f0f8e624250b09d5853093ff76e94709ce7"
   },
   "outputs": [],
   "source": [
    "rfc.fit(X_train_all, y_train_all)\n",
    "pred_all_rfc = rfc.predict(X_test_all)"
   ]
  },
  {
   "cell_type": "code",
   "execution_count": 76,
   "metadata": {
    "_cell_guid": "1c2b0457-8122-4bb1-a1ce-f36303fc3d88",
    "_uuid": "4c2b67fec6ff809fa8d67bcd73424e6a8fad6279"
   },
   "outputs": [],
   "source": [
    "sub_rfc = pd.DataFrame()\n",
    "sub_rfc['PassengerId'] = df_test['PassengerId']\n",
    "sub_rfc['Survived'] = pred_all_rfc\n",
    "#sub_rfc.to_csv('randforest.csv',index=False)"
   ]
  },
  {
   "cell_type": "code",
   "execution_count": 77,
   "metadata": {
    "_cell_guid": "58626def-4075-46df-91ee-43e4e55668c9",
    "_uuid": "d4021bbeb9afa42781c042b7a5edd03f5c82a939"
   },
   "outputs": [],
   "source": []
  },
  {
   "cell_type": "markdown",
   "metadata": {
    "_cell_guid": "6e28d3fb-51a7-4e82-a1a5-eeb23da7e4b3",
    "_uuid": "809ce0be2d8a722b4d8d58418677c0d4966a8f16"
   },
   "source": [
    "### **3.6 SVM Classifier**  \n",
    "[sklearn](https://scikit-learn.org/stable/modules/svm.html) ++ [Wikipedia](https://en.wikipedia.org/wiki/Support-vector_machine) ++   [towardsdatascience](https://towardsdatascience.com/support-vector-machine-introduction-to-machine-learning-algorithms-934a444fca47) ++ [datacamp](https://www.datacamp.com/community/tutorials/svm-classification-scikit-learn-python) ++ [medium](https://medium.com/machine-learning-101/chapter-2-svm-support-vector-machine-theory-f0812effc72) ++ [youtube](https://www.youtube.com/watch?v=N1vOgolbjSc) ++ [jakevdp](https://jakevdp.github.io/PythonDataScienceHandbook/05.07-support-vector-machines.html)"
   ]
  },
  {
   "cell_type": "code",
   "execution_count": 77,
   "metadata": {
    "_cell_guid": "a2f7808b-f2d4-48d2-80ba-6b036a2c71df",
    "_uuid": "7dc73547a649cc39dd01307891bee1ccff28d5ac"
   },
   "outputs": [
    {
     "data": {
      "text/plain": [
       "SVC(C=100, cache_size=200, class_weight=None, coef0=0.0,\n",
       "  decision_function_shape='ovr', degree=3, gamma=0.01, kernel='rbf',\n",
       "  max_iter=-1, probability=False, random_state=None, shrinking=True,\n",
       "  tol=0.001, verbose=False)"
      ]
     },
     "execution_count": 77,
     "metadata": {},
     "output_type": "execute_result"
    }
   ],
   "source": [
    "from sklearn.svm import SVC\n",
    "svc = SVC(gamma = 0.01, C = 100)#, probability=True)\n",
    "svc.fit(X_train_sc, y_train_sc)"
   ]
  },
  {
   "cell_type": "code",
   "execution_count": 78,
   "metadata": {
    "_cell_guid": "fc4f1f70-dcaf-44bd-a5e2-e7f59902b085",
    "_uuid": "97343ce35fe05636bf7f81bbd19173216b87e7db"
   },
   "outputs": [
    {
     "name": "stdout",
     "output_type": "stream",
     "text": [
      "[[116   7]\n",
      " [ 34  58]]\n",
      "              precision    recall  f1-score   support\n",
      "\n",
      "           0       0.77      0.94      0.85       123\n",
      "           1       0.89      0.63      0.74        92\n",
      "\n",
      "   micro avg       0.81      0.81      0.81       215\n",
      "   macro avg       0.83      0.79      0.79       215\n",
      "weighted avg       0.82      0.81      0.80       215\n",
      "\n",
      "0.8093023255813954\n"
     ]
    }
   ],
   "source": [
    "pred_svc = svc.predict(X_test_sc)\n",
    "print(confusion_matrix(y_test_sc, pred_svc))\n",
    "print(classification_report(y_test_sc, pred_svc))\n",
    "print(accuracy_score(y_test_sc, pred_svc))"
   ]
  },
  {
   "cell_type": "code",
   "execution_count": 79,
   "metadata": {
    "_cell_guid": "c17b5538-45be-46b2-9cf5-cf6f2560059d",
    "_uuid": "ffcd13b21206badc7107940ea32bf3baa9da34c4"
   },
   "outputs": [],
   "source": []
  },
  {
   "cell_type": "code",
   "execution_count": 79,
   "metadata": {
    "_cell_guid": "2722e61a-8a5d-40f6-b239-46cf943f88c2",
    "_uuid": "ecf4783d0889814d14bf7839ad8b52548aefefc4"
   },
   "outputs": [],
   "source": [
    "svc.fit(X_train_all_sc, y_train_all_sc)\n",
    "pred_all_svc = svc.predict(X_test_all_sc)\n",
    "\n",
    "sub_svc = pd.DataFrame()\n",
    "sub_svc['PassengerId'] = df_test['PassengerId']\n",
    "sub_svc['Survived'] = pred_all_svc\n",
    "sub_svc.to_csv('svc.csv',index=False)"
   ]
  },
  {
   "cell_type": "code",
   "execution_count": 80,
   "metadata": {
    "_cell_guid": "2d30b58c-2db3-4537-a7e5-bc2ec7ee2335",
    "_uuid": "34956bbb95b445fd7d1b9d4304c005b1bc1ce1b8"
   },
   "outputs": [],
   "source": []
  },
  {
   "cell_type": "code",
   "execution_count": 80,
   "metadata": {
    "_uuid": "f9a3f6fd15bd825abd64c7be034fba0565e75d94"
   },
   "outputs": [],
   "source": []
  },
  {
   "cell_type": "markdown",
   "metadata": {
    "_cell_guid": "14bf2d14-04cd-4ed7-bbd8-b11f426e60b3",
    "_uuid": "44b874933e564fd164b89a9085115690b9f0b766",
    "collapsed": true
   },
   "source": [
    "**k fold cross_validation**\n",
    "\n",
    "This algorithm splits the data into k sets and then makes k fits using every set k-1 times as training and one time as test data  \n",
    "It leads to a better estimate for out of sample data  than simple train test split"
   ]
  },
  {
   "cell_type": "code",
   "execution_count": 80,
   "metadata": {
    "_cell_guid": "8c7aeda5-6c2b-4e57-9a22-fd7995a62916",
    "_uuid": "23dc13283588cf185560d4f1046512479009b020"
   },
   "outputs": [],
   "source": [
    "from sklearn.model_selection import cross_val_score"
   ]
  },
  {
   "cell_type": "markdown",
   "metadata": {
    "_cell_guid": "093fb806-4c2a-45ae-a4f5-963c3472540c",
    "_uuid": "0fc0e9866290edb4e6b57b2e1af7d30eb704bf21"
   },
   "source": [
    "for SVM classifier"
   ]
  },
  {
   "cell_type": "code",
   "execution_count": 81,
   "metadata": {
    "_cell_guid": "8b28d8ec-73c9-496f-adfb-f3c0792edfb0",
    "_uuid": "957698ab13a1ea804ceaaf6163fa5386d5e9b507"
   },
   "outputs": [
    {
     "name": "stdout",
     "output_type": "stream",
     "text": [
      "[0.81944444 0.80555556 0.76388889 0.875      0.81690141 0.8028169\n",
      " 0.8028169  0.73239437 0.88732394 0.84507042]\n",
      "0.8151212832550861\n"
     ]
    }
   ],
   "source": [
    "scores_svc = cross_val_score(svc, X_train_all_sc, y_train_all_sc, cv=10, scoring='accuracy')\n",
    "print(scores_svc)\n",
    "print(scores_svc.mean())"
   ]
  },
  {
   "cell_type": "markdown",
   "metadata": {
    "_cell_guid": "3bfa63f6-b29a-441a-9e6a-eac57b7ac517",
    "_uuid": "fc2bebfd922ec1bc69901be66bfc55fbe446f20b"
   },
   "source": [
    "for Random Forest classifier"
   ]
  },
  {
   "cell_type": "code",
   "execution_count": 82,
   "metadata": {
    "_cell_guid": "3486213b-3f2e-4328-b7a6-a05c2c731f6e",
    "_uuid": "c1d0440409da72fa737f99fa78f24aacd9b62c6c"
   },
   "outputs": [
    {
     "name": "stdout",
     "output_type": "stream",
     "text": [
      "[0.73611111 0.79166667 0.75       0.88888889 0.83098592 0.87323944\n",
      " 0.78873239 0.77464789 0.83098592 0.87323944]\n",
      "0.813849765258216\n"
     ]
    }
   ],
   "source": [
    "scores_rfc = cross_val_score(rfc, X_train_all_sc, y_train_all_sc, cv=10, scoring='accuracy')\n",
    "print(scores_rfc)\n",
    "print(scores_rfc.mean())"
   ]
  },
  {
   "cell_type": "markdown",
   "metadata": {
    "_cell_guid": "5f4d9294-89dd-40f4-aa60-ed90349554cb",
    "_uuid": "a9514b5fe9f1861d014e9a54f5e6624851b7e1fb",
    "collapsed": true
   },
   "source": [
    "for DecisionTreeClassifier"
   ]
  },
  {
   "cell_type": "code",
   "execution_count": 83,
   "metadata": {
    "_cell_guid": "d28462a8-f6ee-49f3-93af-44929b499b4d",
    "_uuid": "c40f7cf3db4c3077e9daa7a011f4bd857f90a360"
   },
   "outputs": [
    {
     "name": "stdout",
     "output_type": "stream",
     "text": [
      "[0.73611111 0.75       0.76388889 0.77777778 0.78873239 0.83098592\n",
      " 0.8028169  0.74647887 0.87323944 0.84507042]\n",
      "0.791510172143975\n"
     ]
    }
   ],
   "source": [
    "scores_dtree_2 = cross_val_score(dtree_2, X_train_all_sc, y_train_all_sc, cv=10, scoring='accuracy')\n",
    "print(scores_dtree_2)\n",
    "print(scores_dtree_2.mean())"
   ]
  },
  {
   "cell_type": "markdown",
   "metadata": {
    "_cell_guid": "05f734ef-760d-45b3-a2c5-028a9aada184",
    "_uuid": "7afc8da465448e49eb17a95a339c71b01b4223b4"
   },
   "source": [
    "**The Classifiers with best performance are Decision Tree, Random Forest and SVC**\n"
   ]
  },
  {
   "cell_type": "code",
   "execution_count": 84,
   "metadata": {
    "_cell_guid": "736dc39a-274d-4e16-9882-aa1aed6755ae",
    "_uuid": "ca0e2a3b1be83597e8b6bf08769e6904b437c332"
   },
   "outputs": [
    {
     "name": "stdout",
     "output_type": "stream",
     "text": [
      "dtree_2 :  0.791510172143975\n",
      "rfc     :  0.813849765258216\n",
      "svc     :  0.8151212832550861\n"
     ]
    }
   ],
   "source": [
    "print(\"dtree_2 : \" , scores_dtree_2.mean())\n",
    "print(\"rfc     : \" , scores_rfc.mean())\n",
    "print(\"svc     : \" , scores_svc.mean())"
   ]
  },
  {
   "cell_type": "markdown",
   "metadata": {
    "_cell_guid": "3b6218bd-cbff-48f6-b1aa-6e53967fe090",
    "_uuid": "51bd69ff52df610d828990090972abf2f8fdb217",
    "collapsed": true
   },
   "source": [
    "**Note on scores**\n",
    "\n",
    "Some kernels for the Titanic competition calculate scores based on the training set. This is not a good indicator for the model performance, because we want to know how well the model generalizes for data that was not used for fitting the model. Therefore, scores in this and in my other kernels are always for out of sample test or validation data."
   ]
  },
  {
   "cell_type": "markdown",
   "metadata": {
    "_cell_guid": "b003787b-c505-4a4c-9f43-230acc35c2f5",
    "_uuid": "ee26abaed914638118de10f1cc177184d38abd21",
    "collapsed": true
   },
   "source": [
    "**Conclusion**  \n",
    "With this notebook we learned the basics of EDA with Pandas and Matplotlib as well as the foundations  \n",
    "for applying the classification models of the scikit learn library.  \n",
    "By EDA we found a strong impact of features like Sex, Age, Embarked on the target.  \n",
    "We then built a simple baseline model with Pandas, using only these features.  \n",
    "Again using Pandas, we also created a dataset that can be used by the sklearn Classifiers for prediction.  \n",
    "Deciding by k fold cross validation score, the best ML models for this task and set of features were:  \n",
    "Decision Tree, Random Forest and SVC  \n",
    "Submitting their predictions gives a score of 0,78 and a place in the top 30% of the Leaderboard.  \n",
    "\n",
    "In [my second Titanic kernel](https://www.kaggle.com/dejavu23/titanic-survival-my-2nd-kernel) I study how to improve this score by \n",
    "* using features built from the existing ones (Feature Engineering)\n",
    "* optimising the model hyper-parameters with GridSearchCV\n",
    "* applying techniques like boosting, stacking and voting"
   ]
  }
 ],
 "metadata": {
  "kernelspec": {
   "display_name": "Python 3",
   "language": "python",
   "name": "python3"
  },
  "language_info": {
   "codemirror_mode": {
    "name": "ipython",
    "version": 3
   },
   "file_extension": ".py",
   "mimetype": "text/x-python",
   "name": "python",
   "nbconvert_exporter": "python",
   "pygments_lexer": "ipython3",
   "version": "3.6.6"
  }
 },
 "nbformat": 4,
 "nbformat_minor": 1
}
